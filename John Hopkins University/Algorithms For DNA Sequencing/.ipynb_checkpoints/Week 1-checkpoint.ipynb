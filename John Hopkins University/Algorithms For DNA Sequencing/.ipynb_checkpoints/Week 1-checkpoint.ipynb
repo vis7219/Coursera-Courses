{
 "cells": [
  {
   "cell_type": "markdown",
   "id": "a71a1b17-31c7-4cde-959a-947a614f2a3f",
   "metadata": {
    "tags": []
   },
   "source": [
    "# Week 1"
   ]
  },
  {
   "cell_type": "markdown",
   "id": "7c54520d-bf40-40bc-8a78-9772b4e1a2a5",
   "metadata": {
    "tags": []
   },
   "source": [
    "## DNA Sequencing, Strings & Matching"
   ]
  },
  {
   "cell_type": "markdown",
   "id": "0e1704e4-a3d5-42b2-aaa9-f32aed200e16",
   "metadata": {},
   "source": [
    "Various vocabularies & definitions used in this course are:\n",
    "\n",
    "1. |S| = number of characters in a string 'S'.\n",
    "2. ε = empty string.\n",
    "3. offset = position of that character in a string.\n",
    "\n",
    "    3.1 Leftmost offset, (i.e) the starting character has offset = [0]."
   ]
  },
  {
   "cell_type": "markdown",
   "id": "08423a5b-7224-4dac-8184-28c22ac63939",
   "metadata": {
    "jp-MarkdownHeadingCollapsed": true,
    "tags": []
   },
   "source": [
    "### 1. Practical: String Basics"
   ]
  },
  {
   "cell_type": "markdown",
   "id": "2759dc17-d87c-4178-859e-158442c11778",
   "metadata": {
    "jp-MarkdownHeadingCollapsed": true,
    "tags": []
   },
   "source": [
    "#### Creating random strings."
   ]
  },
  {
   "cell_type": "code",
   "execution_count": 4,
   "id": "ef207051-7ba7-40ef-8a13-d62fe4d424ad",
   "metadata": {},
   "outputs": [
    {
     "data": {
      "text/plain": [
       "'GACCTAACAG'"
      ]
     },
     "execution_count": 4,
     "metadata": {},
     "output_type": "execute_result"
    }
   ],
   "source": [
    "# Getting all the required modules\n",
    "import random\n",
    "\n",
    "# Creating a loop to create a long random string\n",
    "seq = ''\n",
    "for _ in range(10):\n",
    "    seq += random.choice('ACGT')\n",
    "\n",
    "# Results\n",
    "seq"
   ]
  },
  {
   "cell_type": "code",
   "execution_count": 6,
   "id": "836c1689-30c0-4147-b822-afc012bac206",
   "metadata": {},
   "outputs": [
    {
     "data": {
      "text/plain": [
       "'TTACTACGGC'"
      ]
     },
     "execution_count": 6,
     "metadata": {},
     "output_type": "execute_result"
    }
   ],
   "source": [
    "# Using list comprehension to recreate the upper code\n",
    "seq = ''.join([random.choice('ACGT') for _ in range(10)])\n",
    "\n",
    "# Results\n",
    "seq"
   ]
  },
  {
   "cell_type": "markdown",
   "id": "e7e67d3e-5c4d-402f-a780-bd18cefd0c13",
   "metadata": {
    "jp-MarkdownHeadingCollapsed": true,
    "tags": []
   },
   "source": [
    "### 2. Practical: Manipulating DNA Strings"
   ]
  },
  {
   "cell_type": "markdown",
   "id": "55fd6050-4b45-48bc-90a6-5b30a32176bc",
   "metadata": {
    "jp-MarkdownHeadingCollapsed": true,
    "tags": []
   },
   "source": [
    "#### Finding the longest common prefix between 2 strings"
   ]
  },
  {
   "cell_type": "code",
   "execution_count": 9,
   "id": "de04255c-dd21-4f67-9353-c43f6589f2bc",
   "metadata": {},
   "outputs": [],
   "source": [
    "# Creating a function to solve the problem\n",
    "def long_common_prefix(s1 , s2):\n",
    "    # The if condition prevents length error due to varying string length\n",
    "    if len(s1) < len(s2):\n",
    "        base_str = s1\n",
    "        comparing_str = s2\n",
    "    else:\n",
    "        base_str = s2\n",
    "        comparing_str = s1\n",
    "    \n",
    "    # The for loop loops through the 2 strings checking for common prefix\n",
    "    for i in range(len(base_str)):\n",
    "        if base_str[i] == comparing_str[i]:\n",
    "            continue\n",
    "        else:\n",
    "            break\n",
    "    \n",
    "    # Using 'i' from for loop to get the prefix\n",
    "    return(base_str[:i])"
   ]
  },
  {
   "cell_type": "code",
   "execution_count": 12,
   "id": "4f864cb9-467d-4ee8-b2c6-7fb69cffc645",
   "metadata": {},
   "outputs": [
    {
     "name": "stdout",
     "output_type": "stream",
     "text": [
      "ATGCCC\n"
     ]
    }
   ],
   "source": [
    "# Checking the function\n",
    "s1 = 'ATGCCCTJNKJJI'\n",
    "s2 = 'ATGCCCCCCCCLMLKM'\n",
    "print(long_common_prefix(s1 , s2))"
   ]
  },
  {
   "cell_type": "markdown",
   "id": "9512b2b2-1575-4507-96e8-329bd261ae59",
   "metadata": {
    "jp-MarkdownHeadingCollapsed": true,
    "tags": []
   },
   "source": [
    "#### Finding if both strings match exactly"
   ]
  },
  {
   "cell_type": "code",
   "execution_count": 13,
   "id": "7193c285-5e8a-41f4-b7b5-9882c4074955",
   "metadata": {},
   "outputs": [],
   "source": [
    "# Creating a function to solve the problem\n",
    "def match(s1 , s2):\n",
    "    if s1 == s2:\n",
    "        return('Perfect Match')\n",
    "    else:\n",
    "        return('Not a Match')"
   ]
  },
  {
   "cell_type": "code",
   "execution_count": 16,
   "id": "b8ffd370-76ee-4e7a-b2dd-e6c5df9d0bab",
   "metadata": {},
   "outputs": [
    {
     "data": {
      "text/plain": [
       "'Perfect Match'"
      ]
     },
     "execution_count": 16,
     "metadata": {},
     "output_type": "execute_result"
    }
   ],
   "source": [
    "# Condition 1: Both string are the same\n",
    "s1 = 'ATGCCCCCGT'\n",
    "s2 = 'ATGCCCCCGT'\n",
    "match(s1 , s2)"
   ]
  },
  {
   "cell_type": "code",
   "execution_count": 17,
   "id": "86d0a46b-5d0c-4b8e-804b-85abe9be2ad9",
   "metadata": {},
   "outputs": [
    {
     "data": {
      "text/plain": [
       "'Not a Match'"
      ]
     },
     "execution_count": 17,
     "metadata": {},
     "output_type": "execute_result"
    }
   ],
   "source": [
    "# Condition 2: Strings are not same\n",
    "s1 = 'ATGCTATCGACCGTACTCGTAC'\n",
    "s2 = 'AGCCTCTAGCTAC'\n",
    "match(s1 , s2)"
   ]
  },
  {
   "cell_type": "markdown",
   "id": "7e1563cb-1398-407b-aeaa-b6f42c8f490f",
   "metadata": {
    "jp-MarkdownHeadingCollapsed": true,
    "tags": []
   },
   "source": [
    "#### Reverse Complement of a DNA String"
   ]
  },
  {
   "cell_type": "code",
   "execution_count": 35,
   "id": "7da997c3-d3df-4bf4-a134-9fab6be6137e",
   "metadata": {},
   "outputs": [],
   "source": [
    "# Creating a function to solve the problem\n",
    "def reverse_complement(s1):\n",
    "    # Dictionary for choosing the complement of a nucleotide in string\n",
    "    complement = {'A' : 'T',\n",
    "                  'T' : 'A',\n",
    "                  'G' : 'C',\n",
    "                  'C' : 'G'\n",
    "                 }\n",
    "    # Reversing the string by looping from the end of the string\n",
    "    reverse_str = ''\n",
    "    for i in range(-1 , -len(s1)-1 , -1):\n",
    "        reverse_str += complement[s1[i]]\n",
    "    \n",
    "    # Results\n",
    "    return(reverse_str)"
   ]
  },
  {
   "cell_type": "code",
   "execution_count": 20,
   "id": "bc442ad8-b229-4954-a7bd-059b95212aed",
   "metadata": {},
   "outputs": [
    {
     "name": "stdout",
     "output_type": "stream",
     "text": [
      "GGGGCAT\n"
     ]
    }
   ],
   "source": [
    "# Checking if the function produces correct answer\n",
    "s1 = 'ATGCCCC'\n",
    "print(reverse_complement(s1))"
   ]
  },
  {
   "cell_type": "markdown",
   "id": "234b0ded-941a-4c3c-91b5-086399cbc22c",
   "metadata": {
    "jp-MarkdownHeadingCollapsed": true,
    "tags": []
   },
   "source": [
    "### 3. Practical: Downloading and parsing a genome\n",
    "\n",
    "The file which will be used for parsing can be extracted from: http://d28rh4a8wq0iu5.cloudfront.net/ads1/data/lambda_virus.fa"
   ]
  },
  {
   "cell_type": "markdown",
   "id": "37950f26-aadd-4d3a-84cf-3cdd89036b79",
   "metadata": {
    "tags": []
   },
   "source": [
    "#### Parsing a genome file"
   ]
  },
  {
   "cell_type": "code",
   "execution_count": 3,
   "id": "0f1d43d0-5284-40db-811c-18cf92d29867",
   "metadata": {},
   "outputs": [],
   "source": [
    "# Creating a function to read the genome file\n",
    "def read_genome(filename):\n",
    "    # Opening the file\n",
    "    with open(filename , 'r') as gene_file:\n",
    "        gene = gene_file.readlines()\n",
    "        \n",
    "        # First line contains basic information about the genome in the file\n",
    "        # This line is to be omitted\n",
    "        gene = gene[1:]\n",
    "        \n",
    "        # For loop for removing newline(\\n) from the file\n",
    "        for i in range(len(gene)):\n",
    "            gene[i] = gene[i].replace('\\n' , '')\n",
    "        \n",
    "        # Concatenating the file which is in the form of a list right now\n",
    "        gene = ''.join(gene)\n",
    "    return(gene)"
   ]
  },
  {
   "cell_type": "code",
   "execution_count": 39,
   "id": "6e1659fb-f6e2-4eb0-93de-5e8447f5c5c5",
   "metadata": {
    "tags": []
   },
   "outputs": [],
   "source": [
    "genome = read_genome('lambda_virus.fa')"
   ]
  },
  {
   "cell_type": "markdown",
   "id": "8d68ab36-44fd-4785-b5ac-8a9aacec4d5e",
   "metadata": {
    "jp-MarkdownHeadingCollapsed": true,
    "tags": []
   },
   "source": [
    "#### Counting the frequencies of all bases in the genome"
   ]
  },
  {
   "cell_type": "code",
   "execution_count": 40,
   "id": "41f18dea-b12d-43d5-8b65-5244fc935130",
   "metadata": {},
   "outputs": [],
   "source": [
    "# Creating a function to solve this problem\n",
    "def base_frequency(genome):\n",
    "    base_dict = {'A' : 0,\n",
    "                 'T' : 0,\n",
    "                 'G' : 0,\n",
    "                 'C' : 0\n",
    "                }\n",
    "    for nuc in genome:\n",
    "        base_dict[nuc] += 1\n",
    "    return(base_dict)"
   ]
  },
  {
   "cell_type": "code",
   "execution_count": 41,
   "id": "d3210525-d715-4b1c-8d78-ad930448c8a3",
   "metadata": {},
   "outputs": [
    {
     "data": {
      "text/plain": [
       "{'A': 12334, 'T': 11986, 'G': 12820, 'C': 11362}"
      ]
     },
     "execution_count": 41,
     "metadata": {},
     "output_type": "execute_result"
    }
   ],
   "source": [
    "base_no = base_frequency(genome)\n",
    "base_no"
   ]
  },
  {
   "cell_type": "markdown",
   "id": "2824a631-2a12-44f8-88e7-4e8aa9220ab4",
   "metadata": {},
   "source": [
    "Alternate method to count characters in string"
   ]
  },
  {
   "cell_type": "code",
   "execution_count": 42,
   "id": "b95b095e-3263-4267-a5d3-7be084a7df22",
   "metadata": {},
   "outputs": [
    {
     "data": {
      "text/plain": [
       "Counter({'G': 12820, 'C': 11362, 'A': 12334, 'T': 11986})"
      ]
     },
     "execution_count": 42,
     "metadata": {},
     "output_type": "execute_result"
    }
   ],
   "source": [
    "import collections\n",
    "collections.Counter(genome)"
   ]
  },
  {
   "cell_type": "markdown",
   "id": "e3815bde-6912-484e-87c6-7c4abba9ea71",
   "metadata": {
    "jp-MarkdownHeadingCollapsed": true,
    "tags": []
   },
   "source": [
    "### 4. Practical: Working with sequencing reads\n",
    "\n",
    "The file which will be used for this practical can be extracted from: http://d28rh4a8wq0iu5.cloudfront.net/ads1/data/SRR835775_1.first1000.fastq"
   ]
  },
  {
   "cell_type": "markdown",
   "id": "254b44c0-7d4b-44f8-bfdc-e20d33ed069c",
   "metadata": {
    "jp-MarkdownHeadingCollapsed": true,
    "tags": []
   },
   "source": [
    "#### Quality value to ASCII value using Phred33 Encoding"
   ]
  },
  {
   "cell_type": "code",
   "execution_count": 43,
   "id": "6642e866-60af-4e47-af79-120382fccbb9",
   "metadata": {},
   "outputs": [],
   "source": [
    "# Creating a function for the problem\n",
    "def Qtophred33(Q):\n",
    "    # chr converts character to integer according to ASCII Table\n",
    "    return(chr(Q+33))"
   ]
  },
  {
   "cell_type": "markdown",
   "id": "519132d9-4694-4d38-b468-c1212cdd4367",
   "metadata": {
    "jp-MarkdownHeadingCollapsed": true,
    "tags": []
   },
   "source": [
    "#### ASCII value to Quality value using Phred33 Encoding"
   ]
  },
  {
   "cell_type": "code",
   "execution_count": 7,
   "id": "bf36b542-f776-4ad3-a397-3930cccf1edd",
   "metadata": {},
   "outputs": [],
   "source": [
    "# Creating a function for the problem\n",
    "def phred33toQ(qual):\n",
    "    # ord converts integer from ASCII table to associated character\n",
    "    return(ord(qual) - 33)"
   ]
  },
  {
   "cell_type": "markdown",
   "id": "72f59933-7a9d-4d61-a62b-78c11a4408cb",
   "metadata": {
    "jp-MarkdownHeadingCollapsed": true,
    "tags": []
   },
   "source": [
    "#### Parsing a fastq file"
   ]
  },
  {
   "cell_type": "code",
   "execution_count": 1,
   "id": "4bcaa70d-556f-4097-8c81-5079f1df486c",
   "metadata": {},
   "outputs": [],
   "source": [
    "# Creating a functin to parse fastq files\n",
    "def readFastq(filename):\n",
    "    sequence = []\n",
    "    quality = []\n",
    "    # Opening the file, omitting line 1 & 3 due to it having useless information\n",
    "    # Adding information from line 2 & 4 to [sequence] & [quality] respectively\n",
    "    with open(filename , 'r') as f:\n",
    "        # Since lot of parameters not known, easy to use whil loop rather than for loop\n",
    "        while True:\n",
    "            f.readline()\n",
    "            seq = f.readline().strip()\n",
    "            f.readline()\n",
    "            qual = f.readline().strip()\n",
    "            \n",
    "            # Breaking from the loop once it loops to an empty line\n",
    "            if len(seq) == 0:\n",
    "                break\n",
    "            \n",
    "            sequence.append(seq)\n",
    "            quality.append(qual)\n",
    "    return(sequence,quality)"
   ]
  },
  {
   "cell_type": "code",
   "execution_count": 6,
   "id": "dc0eecd2-5ed7-48a3-a25f-309aee4ae531",
   "metadata": {},
   "outputs": [],
   "source": [
    "seq , qual = readFastq('SRR835775_1.first1000.fastq')"
   ]
  },
  {
   "cell_type": "code",
   "execution_count": 63,
   "id": "4ff61d30-f4dc-4395-b694-1d8b11315714",
   "metadata": {
    "tags": []
   },
   "outputs": [
    {
     "data": {
      "text/plain": [
       "['TAACCCTAACCCTAACCCTAACCCTAACCCTAACCCTAACCCTAACCCTAACCCTCACCCTAACCCTAACCCTAACCGTATCCGTCACCCTAACCCTAAC',\n",
       " 'TAACCCTAACCCTAACCCTAACCCTAACCCTAACCCTAACCCTAACCCTAACCCTACCCTAACCCTAACCCTAACCCTAACCCTAACCCTAACCCTAACC',\n",
       " 'TAGGGTTAGGGTTAGGGTTAGGGTTAGGGTTAGGGTTAGGGTTAGGGTTAGGGTTAGGGTTAGGGTTAGGGTTAGGGTTAGGGTTAGGGTTAGGGTTAGG',\n",
       " 'TAGGGTTAGGGTTAGGGTTAGGGTTAGGGTTAGGGTTAGGGTTAGGGTTAGGGTTAGGGTTAGGGTTAAGGGTTGGGGGTTAGGGGTAGGGGTAGGGTTA',\n",
       " 'CTAACCCTAACCCTAACCCTAACCCTACCCTAACCCTAACCCTAACCCTAACCCTAACCCTAACCCTAACCCTAACCCAACCCTAACCCTAACCCTCACC']"
      ]
     },
     "execution_count": 63,
     "metadata": {},
     "output_type": "execute_result"
    }
   ],
   "source": [
    "seq[:5]"
   ]
  },
  {
   "cell_type": "code",
   "execution_count": 69,
   "id": "9f2f798e-d052-4c3b-a7f4-fbd3a6b9d49c",
   "metadata": {
    "collapsed": true,
    "jupyter": {
     "outputs_hidden": true
    },
    "tags": []
   },
   "outputs": [
    {
     "data": {
      "text/plain": [
       "Counter({'???B1ADDD8??BB+C?B+:AA883CEE8?C3@DDD3)?D2;DC?8?=BAD=@C@(.6.6=A?=?@##################################': 1,\n",
       "         'CCCFFFFFGHHGHJJJJJIJGIIJJJJJJJIJIJJJJJFJJFGIIIIH=CBFCF=CCEG)=>EHB2@@DEC>;;?=;(=?BBD?59?BA###########': 1,\n",
       "         '@@<DD?DDHHH<CBHII:CFGIGAGHIIG?CCGGE0BDHIIHIGICH8=FHGI=@EHGGGEEHH>);?CC@.;(=;?59,5<A599?CB>ABBCB><88A': 1,\n",
       "         '@CCFFDDFHHHDFHIJJCGGIJJHIIHJC?DHHIJ0?DGHI9BBFHICGGIGI=CDEGI=?AAEF7@?################################': 1,\n",
       "         '@<@FDFDDBBFHH@EBGGGEH@FFHE;EHIEGGBHG?)9?8BDGGBGGBCDGI=93=C6==C;CCD(?@>@#############################': 1,\n",
       "         'CCCFFDFDHGHHDHHGIIIHGIJ<GBBBFBGGHDIH@B)?)0?F>DB#####################################################': 1,\n",
       "         \"???=DD0@3ADB<<CE;+3<;EE?1:)1?C1?3BDCB@;)99)0;@;)-(.7A'55A1?.6;(6;.5;;??#############################\": 1,\n",
       "         \"@@@DDF?EFFHA;DDHGI<FDFGECCHF:C9DH9F3):??GHB)BFHEAHBG;C';C@EE45?#####################################\": 1,\n",
       "         '@@@FADDFHGBFFHJJJFGEHGGGGCEGHCBFGGJ:D?FGIDHDFGIBFDGIJ=CEHDH7?=BFD@A;>AB5=2=?BB######################': 1,\n",
       "         '@CCFFADDHHH<CBGIICGGHIJI?FFGHJ?DHGIJ?DGIIIBFCHHI8@@GEE.==A?C########################################': 1,\n",
       "         'CCCFFFFDHDHHHCIEIJJJICEGHIJIJIHIIII>FFGGG>GCGH9(B@FGE>EEGCH>A;C(;;;3>>A2;(;;A99(<A<(9ABD@?##########': 1,\n",
       "         '<@<BDDDDD8CD?CGE<<CA;<<+2:C9:??FC*:8BGG)??##########################################################': 1,\n",
       "         ';?@FFDADFHGBHIGGHIGGGGGI;FGCD8CFH3B?BD89?)?FH>;=C;C;==@DHGH<EEED;)6>AB@(=A(5;99?B###################': 1,\n",
       "         'CCCFFFFFHHGHHJIIJIJJIIIJJJFHHHHGCHGIJGIJGDHEIJIGIDHH@CH;DEEFC6?BB@D(;>;=A(;5=99(59?B################': 1,\n",
       "         'C@CFFFFFHHHHHIIJJJJGJIIJJIIJEHGGHJGIIEI@FHIIIJIFCGHCEHCEECH>E@CEDDFBECCCDDCCB?A?ACDBD<<3<8<AC?B8?8<9': 1,\n",
       "         '<<@BDDAB?CFDH;CCE;BAGHICHGHEHIIIIIG;?FFGHIAHIHHGIIIIIB;=@EDD>AEH=D>>;@;@>===A(=CBBB@??99?<<?8?2?<C?B': 1,\n",
       "         'CCCFFFFFHHHHHIJJJJJJJJJJJJJHGGIIJJJJJJJJJJIIJIJJJJJGGIJJIIJJEHEHEFEEFE2;@ABD(;@CDD##################': 1,\n",
       "         \"BBBDDFFFDHHHHJEHHIJJCGEHIJ:EFIHI?GDHHI9BFHIIB?;CF'B;FHI'=:ADF.;;>>@(,(55?,559?A(5(8<B(8289?&0)2??322\": 1,\n",
       "         '@@@FFFDDFDHFFHEIIGHG@EHJFGGGGCEGCGCCFBEGI?FHGIJDDFGH?FC@DH8B@:CAGCAEGIG@E2A?D7;BEDE;@=?C?;9?BD?5<?BC': 1,\n",
       "         'B@CFFFBDHHHHAGGFHJCGEHIJFHGIHI?HFGIJ:DDGHJDHFFHI=FCHHG@EAEHHAE9@DD?B;ACD;?(9<A>A9<AB+82<CD##########': 1,\n",
       "         'CCCFFFFFHHHHHJJJJIJJFJJIGGIGIGIJIIGIIGJIJIJJJJJIJJIGGAECEHCA?=CB?9)6@>9;=3??A#######################': 1,\n",
       "         '?@@D:ADDHH?FFGIHGE=FHI+ACGHIC?DFHI*?DFEC)77DGG8B@FGH)=@GGH.==?@B7;;@CB;2;?AA(9<ACBA<8A<B-95?BB>22?CB': 1,\n",
       "         'CCCFFFFFHHHHHJJJJIIJJJJJJJJIJCHIJJJJJJJII@F@GHGBGBHIC=@@EGG(.)666.;;;AA>>3??;A?<AB(5,<5<?(9(8?+(22?B': 1,\n",
       "         '@CCFFFFFHHHGHIIIIJJJJIFGIEIFHGJIJJFGIGIJHIIJIJGIJIEHEGIGGIHHHHH;?@CE@CEE=AA?BCCD@BBCD?ABD?<?AA<CC@AD': 1,\n",
       "         '@@CFFFFFHHHGFGIJJIIIJJFGIGIFBGHGHJFGHIJJJJJIJJGHGIJJHGII)77?HEHGFFEFEDDEEDD?BCCBDDACDBDDACCDB8<<CB?B': 1,\n",
       "         '@@@DDDDDHHHBHAFHB;AEGBA;EHIGDEHEIIGCHEHICEIIICF@GFHICCGGGI9>EHHE2;7;@A>@=?=;AC99?A?(59882<(88?29<AB?': 1,\n",
       "         ';??:4=BD?C1C?:EEG9B<;F=F+??EF9CD3?8B;3)?;;B@;((8BB;;@###############################################': 1,\n",
       "         'B@CFFDDFHHHCFGGIJAFGIJJAE@FHI3?DGHI0:?FFH09?BFH8BCHHD)86CAH65/5??7;?>@A#############################': 1,\n",
       "         'B@@ADDFFH<DFFHFGGH@FGGCGGHJJ?E=GHG*??DHIDGCHGH08BCGH=C=CHH@==AE?7;6?>A.6.;?;;?=ACD5?599?(8<ACD######': 1,\n",
       "         '@@@FAFFFDHFHGGHEGIJCHJJJGDHIIII@FGD>DFHBGEHB@FHIE8CGEIIIEIBEE>EDD@(6;CBA??CCA<BB?5(9AAC<A??(3<2<B@99': 1,\n",
       "         '@?@FFFFFHHHAHEIGGIIIJJIEGHIGIIGGIEIIHHHD3=CDDCDBBDDDDD@DD?ACB(334@@@CDDC@CC?CDD@BDDDDDDDB@BB@><??@3?': 1,\n",
       "         '@@CDFFFFFH?FAHGI;FH>EHGGGAGHDGCDBHC?D2DGABDG;F;BEHEC22@(7).6?C9);@B9>;;(,,;AB#######################': 1,\n",
       "         '@@CFFDDDHGHCCEFHCF?GHIIHDFGA?D;DCF9BD?@@=;.=C6=D2CCE################################################': 1,\n",
       "         '@@@FFFDDHHHHFGGGGICGFHHI;FGGHGCDCGHIBFHIHJBDFHHHG###################################################': 1,\n",
       "         'CCCFFFFFGHHHGJJJJJIJJJJJIIJJJJIJJJJBBHIIIJJJEHIIHIIGEICGGGEC;A>BBFBE(;A=?;(5=9?9<?AB<<3<AB19(88A####': 1,\n",
       "         '@<?DBDD8;?FA?BAFEGII@EGG+211C;GFC))?B3BG)9?D(B######################################################': 1,\n",
       "         \"B@@FFFFBFHHHHAEHHIJFFGHJJCGEGHI?FHJJJJ@@FHIG<AHIJI;BEHHG'5?ACB33?@D559ACB,98<AB(818AB&0)8?B388?CB###\": 1,\n",
       "         '@@@FFFF:CFHHGAEDGIIAEHHIJ<CDGIJ:CCGIJBGGIIJ8?DDGG=BFFGG=@EE>E3==@DF766;CE5;=?CB39?BCD5<<ACD((2<?B###': 1,\n",
       "         '?<@DDFFFDF>FBBHGGIIFHGIGIIGGIGHGGGDFHIIIGGGGIGEEHCHGFC@DHIECHH;B(;3@>;@>3;=?ACCBDDB99?BD??C<ABBC9<<<': 1,\n",
       "         '@@@FFFFDFHFBFHIJGHIIIIEGIIGEGGICBGE3DHHH8DHBFIBDG9@GA=7=@DHHHE;?DEBAE?C>(;?=9?(,9<A((9<A<(38AA######': 1,\n",
       "         'CCCFFDFDHHHFHJJJJIJIIAHGIJJJIJJBIIGADGEEEGGI<FBFHHE=C@GIIIHHHH9BDCEEEDA@C2=;=?CBBDBD?B?<AD9A8?BC3<A2': 1,\n",
       "         '@@?DDDAAFHDF??CDEEHA@FGIIICHGGGI@GHGGIIDF;??;DFDHIAFIG@DH==?=A973.6;2@>B?5=53;?9(99?################': 1,\n",
       "         'B@CFFFDDHHHHHEHGHIIEGHGHGCGCGHIBGHHIJ*9BFGI*=FGGI.6=@GH7==?#########################################': 1,\n",
       "         '@@@DDDEFADFHFIGICFHFGHFH?GHE:C;FGI?FFGE>9BDAGI?CHHGC=;FH)=7=7=AHH9,;AA<3;?;?(99??B:?9ACB############': 1,\n",
       "         '@@@FFDFAFBDDHIGG9C;AEEHGGEF?@FGGIGEIHIDCCGE?;@BHGBDHFGII;=@CHCH?HED>(;;>;5=A=(;<C59,>3>(5288<AA?B###': 1,\n",
       "         'CCCFFFFFGGHHFIIJJJIIJJJIFIJJJG@FFEGD?D@GGE>F)BG#####################################################': 1,\n",
       "         \"@@@DF?DDDFHDHIIIB<CFCGGGIEIDFGIIAG>DFGHCFHHGB;CCGHIGIIG@AGC(.''9<>3;(,99<?C(99ABBB9AAB@#############\": 1,\n",
       "         \"@@@DD2BDHHFAFHIIII@D@GHI1CDHII:?DHII9BBDGI9B2BFG'--;EH).(6?D)(.6@A##################################\": 1,\n",
       "         '@@@FFFFFHHHGHJIJHIEIGHHIIJADEFCAGGH@GIJDGIIGHGIJGGGGIJI=@GHGICGFCEAEFFFFCCEEEDCDDDBD@BBB:5:@B>@??B>>': 1,\n",
       "         \"@@@ADDDEGHDFFHIJFGGIIJGHJIHIJ:CDGIJ:?)?G@BG(?FHCG9FCH8B;@EH=A'9@####################################\": 1,\n",
       "         'CCCFFFFFHHGHHIJJJJJIIFIJJC>DFGEGGGGEGEHHCGHEF15=CCH2?EDDD9>.>AA25;?=999<???(59?<B29ABAB#############': 1,\n",
       "         'CCCFFFFFHHHHHJJJIJIJIIJIGIJEEHIIJID;GEGIIG?AG;FD8CF#################################################': 1,\n",
       "         '<@@DDDDDHDHFBFGHG@BF@BEFF??@E9?DAFGC9D9BBBGH9FFGCH)=@=8;CD)==2?6);@?B;;66>=5?B######################': 1,\n",
       "         ';;?D?DD>CD;FHEGGG@DFGHC@DGHG1?D>D3B>GAFE)0?FEFDGA)8)5(=)=D262).7);B16>A@AB(5;;AA####################': 1,\n",
       "         '?<;D;B>DDF;A3CCDFD>E@A@3AC@DC?F;@FGFGDBF@0)?/?;F)BF#################################################': 1,\n",
       "         '@@CFBDDDHDBFFFGGGBFGGHIIDEHGGGGGEHDGDGGHHI?DBFGC8BBGGHCFGEEG.=?EEF7?;;>B6=5=?AA<BDCB???<<?(++8?A?8<A': 1,\n",
       "         \"@@@DDDDDFFFA;FEFFF<CEFGI<CDGII:C?FGF0??BGFBDBFC>)8(BFF7@=;;E=66ACD'9''8?'0)28?9???BB&50?7?##########\": 1,\n",
       "         'BCCFADFFHHHFHIIIIIDDGHJIFGEHGIDGHFII?FDGHI?FDGGI8;BGII.==@;C76=?@B)6;>A@.5(,5;5599CB################': 1,\n",
       "         '@@@FFDFFAFFFHIEBDHIFHGFHEAG;CFH;D)?DG9B;FEGH9FHGIHIBFAC8@@9CA.=A@DD?B;>CC5;5?CB5<<ACB:<9?CA3A<AC?3<A': 1,\n",
       "         'B@CFBDDFHHGFFHDFHGAGCGII<FEHDGDF9GGI:BDGGI9BDHHI8=;FGG)=;C@H.=?ACF3;?ACE############################': 1,\n",
       "         \"@??DFFBDHGHGHAGHHIJJEHGIJJGGGHIJ?FFHJJ?GGHIH?DEHHGCFGIJICDGGFH=ACBDF;AAE;A5===A@'3;?B?+28<?B########\": 1,\n",
       "         '@@@DDDADFDFF?3C7<A<FC<2AFEC))?FE1?DCEFBB2?##########################################################': 1,\n",
       "         \"?@@DDA=BFBFHF<CBEGEGFG@GGI9CEFFH?FHGII:BBBFA/9?CHI)=6CFEDE'5ABC'3<ACB?A<9<<+8?A38&598?@+8(<?<3(8?CA#\": 1,\n",
       "         '<1?DDDBDB>?:;B:EFIE;FE>GEF>@F?DF):0)0???@ABF@F@#####################################################': 1,\n",
       "         '@?=D?DFFCFABFHIAFA;HIIFH@EHG1:?FHG9?BHGH???FHD9?CFHI7=FHII76=CCHABDBDE;ABACBCBBBCBA9(9<?++28AA&5<?BB': 1,\n",
       "         '?@?BDD?D2<AC?FF<C?:C>BFGECFF?EGFCA1:BDDG*9??B20/BBCB@;A@D@EE>6@?B###################################': 1,\n",
       "         '@@@DFFFFH=DFHHEHGGHGHIICGHIJJ?FGIJJ:DGHGIDDGFGI?CFHIJ7=DHHE.=CEEH7;;@AE..6?AB55<A?B,59<CB###########': 1,\n",
       "         \"?@@D;;DDD<A?:C93CFGBED@2<A??;1?):CFF00:?@90?B2D>.=BC=;.8'5':??######################################\": 1,\n",
       "         '@@@FADDDHCFH?FGHBAF>FGDEAEGGG*@3DEG0?GFAE9?FGFH?F9CBE)8@AEE76663?)6;@CB#############################': 1,\n",
       "         \"@BCFADEEHHFHFIIJJAFHIIJJCGGIHICGGIIJ?FGHIJ?FFHII.BCGIJ=CFEHI7=?AHF)6;?CE.;55;A'82<BD'5&2<?55&<@B####\": 1,\n",
       "         'C@CFFFFFGHHHHJGHIGIJJGIIJIIFIIGICEHBBDBDF;?BCF9CC(.)=@CF@EHGEEHCFDB(;;@BAB=CC?A2955??<(59ABD?99<<A<A': 1,\n",
       "         '?@<BBDDBDHADF?EHG<CFAEHDA?BGHH3DF)??08?BFD?FA??FG8=2@A@@CEIG@7=(59A(,.;;?-;599A:(9?59(++33831<<AB###': 1,\n",
       "         '@@@FFDFEHHHHHFIIJIJEGHJIJGGEGHJGGI9FGFHIGEHFEG=BFG(@AFEHEAEE(=?C7@BCAECCBB==??BD<C5??B?3??8<(<(8A?##': 1,\n",
       "         \"@@@DDADDHHHAFH;FHIFC=3CGC<?;)?D@6?)?@B*((9B9=;'5A<'-'9A933'8?B######################################\": 1,\n",
       "         '@CCFFFDDHHHHFHI@EGI+AFHIIIFHC@FHGDBD9BF@09B3?@@/.(=8BF.866=C7@(=EH);83=5(,;=<,99?CB:28?CB(8<8?A9<189': 1,\n",
       "         'BCCFFFBDHHHHCEGGHIHGHHEHJICFGEFHG9?@FHG9BCGHJDHHHJIBFCDAH@EECCE?E=?CB6>AA@A>;;ACB39AADD,82<9?#######': 1,\n",
       "         '@@@FFFADDHHHDGHGEHIFGE@HGGEE9FHI?DDFHI0?0DDH98=CFH=>CEII76=AEH######################################': 1,\n",
       "         '@=@DDBB2;ADDFC;BFFGH<AFBDGHE;)?DF118BDE)0?DHG?CHIH@8=CDEH=DEEHE;(;@A<6;=?###########################': 1,\n",
       "         '@@CFDDFDHHHGHFBFHEGGIHHGEIEHGH7DAFEGHGIEHIJJFIHIJG>FHHHC>?EEF)7B@DEC<;C9AB9=;299<9<A9?93A<BD8<9?BD##': 1,\n",
       "         '@?@DDFDDFAFFBGGHII9FGEHB;CEHEBGCHGCHHBGGGEHH@DD@==.8@FC67=2=((=;C9?#################################': 1,\n",
       "         '=@<DD=?DFFB22AF@@CFCFHEF<2?*1*?CD;CGD0?DCGE9BDFFE8==FAAAEIE9A.?E..).7?;>(;(,(5>?B??B(9<9?###########': 1,\n",
       "         'CCCFFFFFHHHHHIGJJJIIEIJIIJJHJGIEHIIIJIICFAHCHGG?@ADE=A@C;CEFH?=??=;>(,5;;=9,,52(<9ABA(+<ABA<93?<A###': 1,\n",
       "         '@@@DDDD?FDDFDF>DDHHC3C;EB?B)1::?1:BDHCFG@2B;D#######################################################': 1,\n",
       "         'CCCFFFFFHHHHHJJJJJJJJJJDIIIJIFIJGII)?DF3DCF;D8DGGDHFDHG6DAEGH2)=ABF>;;26=55==ABA39<(:?B#############': 1,\n",
       "         '@@@F<DDFHDFFBEEBHBCHIIB@BFHG<?EBCHGGIIII@DFHIIBH@(?#################################################': 1,\n",
       "         '@C@DFFFFDFHGHIEFFHGICGD@FHGCFEDGHC:DFBGE?DDGGGBCAFFG.=@FEHGGEHE>.;?@DC.6=AC??A=A?B:?<??A++2<CD3822<A': 1,\n",
       "         '?@@DBA?BD:?C2A;C@93+3AAF+AAABG)::CDF0?2DFF)99BCC)B;=CF##############################################': 1,\n",
       "         'CCCFFFFFHHHHHDIGIJJFGEHJ@@FCGG<@FDBHF@FEEHEEHF>C@(6?5=5ACBAB99?AA?133<?B############################': 1,\n",
       "         '@@@FFFDDHHHHDGHHII@GHHJJAFH?CFG?F8BFHDGDGGG?FFFHJFG=DGG726@=>=A;@DE3>(;@A>?;=?B55(9AB5<8?CB(8<ACB388': 1,\n",
       "         \"?@@FABDFGF:DFGEGHGAEAGGIFH?B:CGI8B?DHH9B;D4BHB7BCFGI'5;CEH;?=BEF6;;;@B(=;??9,92<?B##################\": 1,\n",
       "         '@@@DDBD;BD8DFGB;CAF;EEG9CFDG9*:DGDGFE)8DB;B9B(=B####################################################': 1,\n",
       "         '@@@FFFF?DHHHGJGHEHHIJFGIGJIJ1CCFHHIBGHHIJJ?FFGEHI=FHFGIJ=@DDCE=?CDEEBDBC>A6;?BCD((,59A9ABDDD9?ABDD3<': 1,\n",
       "         'CCCFFFDFGHHHDHGE@FEFGCHGIECHHIJCGEHGG;9?@?A#########################################################': 1,\n",
       "         'BC@FFFDDFHHHCFGIJJ<FCHJIJ?CGGHEI6?DFHI9B=FGI8BF7@FG=;5)=AE##########################################': 1,\n",
       "         '@CCFFFFFGHHHHJJJJJJJGIJJJIFBGBGGAF=??FHEE@FFGHHCAFGGGAHIGACE=BBBBDEEDA93=BDB9<CBDB9??<A@############': 1,\n",
       "         \"@CCFFFFFHHHGHIEIIJIIIGIJJJIGHIDFEFIICGIDHEFGIIJIDGIGHIADHGEH'?BEFD(;CB2=2=C599((,5<A(9<828(9(2(8(8C@\": 1,\n",
       "         'CCCFFFFFHGHGHJJJJJJJJHIEHIIJIFEGGI;@FGGH>9DFGGCGGIGI>>@DEG;7=EAD@)76;>B2,(55=@995<9?################': 1,\n",
       "         '@@@FBAD?FDHBFEEEAHHIGGECGBDG@GEGBDFGDCHGHEAGCGHIIIGGACHEHEE<;B>;;=(9;5(;?;9(,,9<B29?################': 1,\n",
       "         \"=@@D1ABDHH:BC+AGH1<?EFIE)?8DEG:3?9DEHB@??FH8((=@F/5-;AE=;'9<A#######################################\": 1,\n",
       "         '@@@D?D?BA:CA<ABFG<FG@AG<C)1?E:8D@CE)?DC)0?@A########################################################': 1,\n",
       "         \"?@@FAADDHH@FFIIIEFEHDHB?@BGAFG'6BGIII';AEBH.6?BDE;@?ACB;=BDDBAB2:@C?(+9>(4A<2(+:>B>?8C:@############\": 1,\n",
       "         '<@@DBDDDH>FDHGGFEGGIIJFHIEHEEGFHGIIHIJGDDFGHIGIEEHI#################################################': 1,\n",
       "         '?<<AD;;AB+CAD9E@F@AG@F;?:CCCFHGG@*?@GG##############################################################': 1,\n",
       "         '???DD8;DDADD3C<E:?+AFD;@3A)C)?8DD)0:))0)/9BDDD######################################################': 1,\n",
       "         '??@DAD+=CFFHAF;FHGFGFHIIHGGIH@:CADG)866;F:7;@EH#####################################################': 1,\n",
       "         '@@@FFFDFHHHHCGHGGI:CFHHIFGCHHG;BFEHI:BD?>B9BDFHEBBFEHI@D@@DC.=CEED7??BEE############################': 1,\n",
       "         ':;=DDADDAFBHHIDB:+3AEFCF=EECF))?):?B)?)?/B?F########################################################': 1,\n",
       "         '@?@FD:=B?CDHCEF;EBHGFG=FFEBGBFFC*?)?FG)0.7D;828@CH)=@DHF==(6;B</=2=?################################': 1,\n",
       "         '@@?D;?BDDAFHDGH?+AEH9BFGGDEE3??DE;FH;F;BG?F99)/=CC@BFG@@(=)66(?(;?D#################################': 1,\n",
       "         \"?@@D;DDDFF<DDGIIIF?)@F@D0)?F:?0'7A@;8(=C############################################################\": 1,\n",
       "         '1=<BD8?D:A?DDADED=E;:3AE9+:1?EC;D)0?8?D>D298)9?B2(8@CC##############################################': 1,\n",
       "         \"@@+ADDDDDCFFFIFGEGII)88)1?8)))8@:;'-;BAB############################################################\": 1,\n",
       "         '@<@DDDD??BDFHI@@FFGIHBFGHGA?EFAFA>BB:D;BG9@F>3?BFHG@9CCH>7.=AE?=;@2?################################': 1,\n",
       "         '@@@DBDBDDFHFDH>?ABFHGIGCFE>?GGIHIGGI@BF3?BFGID@H9CD;.8=CH@;=CE9>>;?BCA@@C?C?(=??####################': 1,\n",
       "         '??1DBDA?=CD??GGA@EDE:+9ACCEH>C@3:F>FEGG;FG2(93B@FG(888=2=@E@=??C;>;;(6>AAB5;(;?B####################': 1,\n",
       "         '@C@DDDDFHHGHHIIIFFHIHICGGGHG?EGHGIBD;FHI9DFGHIFHHHIF.@FEDH)=CH>E76?BCB;@;AC=3=9?C?,55<?B38?<<A3<A?AB': 1,\n",
       "         '@@@FFFFFBHHHHIDGIJGAGHIJEGGIFJ<@GBEG>BFFBHCGD?DCFGG>FGEHE@AH@EEH;?@B9@CA6@===5(,,9<?29392:::<<A?<CB<': 1,\n",
       "         '?@@FBDDDHHHCFHHHIIFHEHII?F?FHG?B3?FHBD?@GI6@A(8@####################################################': 1,\n",
       "         '@@@FFADDHHH?DFGHICGCHIJ;FHIIJ:CCGGIGGCFHG988?DG=CACFH=CGE>G.==?EB);6>AE.6,;;=(95<AB,,5<A?&0028?#####': 1,\n",
       "         '@CCFFFFFHGHGHIJIIIIGIJEHIJIIBGHJJGEHIIICEH)?BGG@GG=@DE@GHDG;CEH2C@D@B;@>BCD<C?B?A?CADDB?<<A<A8?<8?A#': 1,\n",
       "         'CC@FFFFFHHHHHIIIJJJJIGJIDHGIGGIIGIJJFIIGEGIGEHIEGIEHIJIJBCD>AHHFDFFFDC<CABAACCDDB@CCBB?<<CBAB@C<?B22': 1,\n",
       "         'CCCFFFFFHGHHHJJJJIJJJJJJJEIII3DHFHIGIGFFGGIJJJJIJJBHHEHF@;@BBCECDBA?=CCD2?9<ABBBB(89?###############': 1,\n",
       "         '@@CFFADDHHHAFGHHICGEGHH<EFHIJ?FHIIJ:DHHIJ?DHIIJ=F@CHH7;@EHH.=C?CF###################################': 1,\n",
       "         '@@@FFF;DFFFF<CGIIJGGBHHHIB8?1?GG?B@FBHBCCGEG=C?CHF)6CGHH7??@DF.6=>>?;A=AC?##########################': 1,\n",
       "         '@<;DADADDHDH<AADED+AFGGIABHCGGCDECHHBD?DFG*?8?8B8.BC3=86=C@>)6=ADD##################################': 1,\n",
       "         \"<@@DDD:DDHFFCEBFGGFCFFHH9C?EDH1CDGHI::?FGH9BDFEI==FHHG)6=@EE/=<BBE'=>B=;-,(,<<,99ACB################\": 1,\n",
       "         \"@CCFFFDDHHFHFEHIJIGIJGGGIGJIJJEGEGJIFH>9DGHGIJJIBEEHGI>>CAAH';AE>B@?(;A;'55;?=255<?A################\": 1,\n",
       "         'CCCFFFFFHHHHGJJGJJJIJIGIJJJ>FHCHIGGIIHHCHEGCCEFAGHIGIGGFF>>>BBD>C9>ABB55==ABCDDDD??CDCA@@AADDBC3<<A<': 1,\n",
       "         'BBCDDFFFHADFFJJEHGIJJFHIJJJ:CFGGIG@A?BDHBF=FHE=B=@FG=@CCEEA??BDE7;;@@A5=;?C?A<29?A522<C#############': 1,\n",
       "         'CCCFFFFFHHHGHJJJJJJIJJJIJJJJCEHEHIECHEGIJIIDHGIGIICIHGEHHH9BBBDC>CCDDD<?CD??2<(<9A<(4(:>>3>A??######': 1,\n",
       "         '=?8A=ABDDFAD?ACBGFFGII+<CEGE?E8CFE:?)0?DB?*09=BF>((=6@E((=2.=;?@####################################': 1,\n",
       "         \"=@@DDDDDF32<;FFECC@BFF<AFF>EG8?@BB??BFEG8((').).=.6=9='::?D7;@@;@@##################################\": 1,\n",
       "         '@@@DDDDDFHHDFIIIAEDHIJAFGBHI?C?DHI?BDFEEE7@;CFIB>;=;ED=DD###########################################': 1,\n",
       "         '@@@DBDDDF?C;D?FBE+CD@EC;FF@;:?;C)10))00080)?(9;76B;;@###############################################': 1,\n",
       "         '==?==BDBB2<DFFE<<AEEF28+CFF>DD)?B>0?2992@07.=FF@####################################################': 1,\n",
       "         \"@@@D?DFFDHFHGIIGIGGCCB@GH9CDHGE)@@BFH9DE>DH.B;CFG';4;AE#############################################\": 1,\n",
       "         'CCCFFFFFGHHHFIJIEIG@GIIIIIGIJJJJJDC9FFGIHJJJFCFBHGICF7@EH@H>CBDB####################################': 1,\n",
       "         '@CCFFFFFHHFHHJJJIIIJJJGGIJJJIIIGIJDGIIJJHGGIJJCHIIJJCGCGGICCHFFH>AEDFFDEECCA?ACDBDBC?B@<95?BBD1<CBDB': 1,\n",
       "         '??@D=BDAFF:DDGE>CG9FFE2<<?DFGF3CFF0:??B;0B2?BC/(7@@(@D;CE)?=?@B766;@################################': 1,\n",
       "         '@@@DDDAE??DFDGH?FGIJJEHGCHI?3:8CDCFEHIFBDEFI<?;=FGGFGCCE>@C=?ACE(.;B@###############################': 1,\n",
       "         '@@@FFD8DFHB?8CADHBAB7CGHGGC@;FGGG;BD9?8616B@;C######################################################': 1,\n",
       "         '@CCFFFFFGHHHHIJJJIGIIJJIGCHIJJJIJGIGGGIIJJ@FC@FE98FC@A9C7@@C2=))7?77(6>?(;,;;55929??################': 1,\n",
       "         '@@@DFFFFHDFFHIIG@EGGHE:?BFHG?GEIGGBB;BFGBB=CGE@F=@EG=CAEHH7??DFE.66;CB5=5<@B1<?ACB+828?B8<2?CB3828<A': 1,\n",
       "         '@@@FF?DBHFDHHIJAHHGGEHEHCBEBFCG?DBDC33BB?DHHGHGDF>GD(@28CA9@DECACD@DF>;;6A##########################': 1,\n",
       "         '@@@FADDDHHHFDEGHGAGCFEGGG=GGHCGHHHJFHFHGIBDEHEG.=;=CD..6?=EB########################################': 1,\n",
       "         '@@CDDDFFGGFFDHGGIIJIJJGGCHGG?F)?DDG9:8)98?;F<;8=;C;7@@GCG;;A2;@>7;6=26;A?=2=9AB99(((5819<A<?13<???BC': 1,\n",
       "         '?@<DDDDFHB?BFHGEFDFEG>F?DDAFHB)1)?DD)))9;?DF7;)=C==C################################################': 1,\n",
       "         'BC@FFDFFHFHHFIIIJIGJJJIIJJJII6)C)?BB################################################################': 1,\n",
       "         \"@@@FFFDEHHHHCGGHIJJEEAGHHCD@GHI?F=GHIFG?FHJBFFFIJ8C=DHJ=@?CHH<,',3>@;?'8>B##########################\": 1,\n",
       "         '@@CBDFFDHHDHHIIEE;FHGGGHG=BDAHI@3:BG>BBFGIIGGEGH@HC9@DD?A9?CA@?B3>(>?###############################': 1,\n",
       "         'BBCFF=DDHDHDFGGIGGHIHIJ<CFGII1?DFEG)08?FHHB8=FD#####################################################': 1,\n",
       "         '@@@DDB??FA?DDIIIEEGII>GEFGIDEEGGEGG3DB@@FDEHI<FHGE<FC6@CCEE;=3?CE@(;;;@C(5(;=A9(>???(5:>AA<3>9293<A>': 1,\n",
       "         'CCCFFFFFHHHHHJJJJIGJJJJGCHGII@CG9FGBDGEIJGDIGJJAHD@FC9;FDG?;3?AA?2?@BA?96;5,;2,<AAA955<<?1(<?<A#####': 1,\n",
       "         \"@@@FFBDFFHHFHGFDHBCGHGI8CDGEEFC@GC9?@G*?GAGGIIGD8C;8@(==@>E9;A)7?377).?(>@;(,,5?(599?3(,5'2?@#######\": 1,\n",
       "         '@C@D@DB8DFFCDGGHGAC=GGGACGHGIFCD3CDB@3BDH*08BBDHF(==@H(.@D=@)7=E(?7;AB##############################': 1,\n",
       "         \"@B@FFFF=DHHHHCGIGIJCFHHIJCECHHH1?DDHI9BDGIJ9BFFGH)8@FHI7=DHFH7=CDEF.;?BEE-5==AB'38<<@(28<CB+82?CD350\": 1,\n",
       "         '@@CFFFFFHHHGHJJJIIJJJJJI;FHFEFEGIIEFHEHIEGIEIIIHJJJIIEIIIIGEGHEEEHFFFFCC>AEB?CDDDDDDDDDB?CA@BD<CDDBB': 1,\n",
       "         '1:?DDFF;DHDFFEEEHIJACFIIJCFFGIIDFAGGJ?FHIIJ8BBFGEFGFGGI=CEDHE?EFDFF;2;AC@;?A?C@:?AA?<>928<8??ADB?AA#': 1,\n",
       "         '@@@DDDDDFFFFFEIEIIGI+AB<AF)@G1:F)@F))86DF0-B(5@67@)7@###############################################': 1,\n",
       "         'BC@DFFFFFHHHHJFFGHIIFIIHIJ?EGFHJ:CGHIJ?FGHJI?FHHII8@FFHJ@EEEHH7?BDFF.;AEED5;?BCD59<ACD(<<ACB9??BCD##': 1,\n",
       "         '@@?DDEFFCFDHFIAFBFHICGGHHH1?EFHJ*::DFH0?;DFF9BFGHI)8@FH@7=2==C7((6@B6;;@CD>;?AC@3?<ACD,8(<CD(8<?CB??': 1,\n",
       "         '@@@BDBB?FFHHDGEEHGG@F=AFG@F)??GGGHCGEHH<90BFF@(7.8@(=C)66C2A3?@?####################################': 1,\n",
       "         \"=??DABDDDD+<ACEE+:CEE9<A3?E?)1880?D0)(0;@''-;5@).)7=A7?C9@D#########################################\": 1,\n",
       "         \"@CCFFFADFHHHGGGIIJJEGFHJI:?FHHG*?;DHIJ86BGHG)BCFGH7C@DEH=A?>@E.6=>CD-;;?CA,52?CB'0&0<B-0-8?@########\": 1,\n",
       "         \"@@@FDBDDFBBAHIIIGGEHFCDH@AGGFHCF?):???F3DHBDHIB=BFCGHE'5@D/;@=?22.6).;;A((;;55;???AB################\": 1,\n",
       "         '@CCFFFFFHHHHHJJJJJJJJJDIEHJ>?FFHIFDHGIJB>GCHH;=FDGH@@@C>E@CE@CE2?B>AC>>CAAB(5,99<?9?<AB19<?BB8(3+8?<': 1,\n",
       "         \"@C@DFFFFCFHHHJIEGEIIJEHEIJJDFGIIJ?DFGII9BBFII=FCGHI.=;DHGH:<D@DE.;;?CB'9;@B@(99?CD-55??B############\": 1,\n",
       "         '@@@DD=ADDHDH)<EA@FH@CFFHH?CFGHDDDHGDH?FBFHE8==FDECHGH@A76A>3;);A>66.(555=?A(5<(55??BCB##############': 1,\n",
       "         \"@@@FFFF?DFHHHICDFGHICGEFHJ:CDGHI3BDGHI0?FFHJ8B=BGG)8=DHH'5:;BFD=<;;CD(59?CD?<59?B38+8?##############\": 1,\n",
       "         ';;?4ABDBD8CC<:CEE?E3C?ECA;;1:?C?;DDD9D?;?3D;?DD;88B()8@=CDEC@7?C####################################': 1,\n",
       "         '@@@FADDFHHFHHHJICEHIIJI@FDGHIBFHHHI?D@FGI?FDHIF)=@FHI7@;CEH.=;?DF(;(;CA#############################': 1,\n",
       "         '?@@FFABD+ACFDGIIFDCDGEHGIBG;C@EGGG3B9FAF@GEGECB3BG=C@FHGIIIGHGF6?E2;?;C@A@B(5=B;??59?AB#############': 1,\n",
       "         '@@@FFDFFHHHHFGGHIIIEHGGAHIIIIIIIFHIHIIIIIHIIGDDB8<BDDDBDBDAA??2?C@>BD39BD8A?B?B9A?ACB3?<ACB>?1<<?382': 1,\n",
       "         'CCCFFFFFGHHHHIJJJIJIJJJJIIIIJJIJJGIJJJJJJJJJJFDDDDDBDBDDDDDDDDB2>CCBDD@DDD&05?BB38?ACD3?ABCD9<2<AB##': 1,\n",
       "         'BC?DDDDEHGHHHJGHIJJGHIJJIJJIIIIJJJJJIFHHJJJIGHIGHFDDDDBDDBDDB@B<B@D29:C>DB099@(2<ACD+2<A?A+28<CB####': 1,\n",
       "         'CCCFFFFFHHHHHJJFIIJJJDGIIJIHIIHHEGIGGIG>GHGII77BFCFF@>@ECGAC=CEDDF>>ACBC2?=;?1<<?5<?ABBDC?AB?A######': 1,\n",
       "         '@@@DDDBAFHHHAEGC:CEGHHGGHICFG@A:D?BF=@9=FGEGGII@EGIE>EAEECCBBBBBB@;@8@;3;2<@B29:>B@B599>(2(8?@(8&59B': 1,\n",
       "         '@CCFDFFEH>FDHIGHIIIJGHGGGHIGHGHHACHHGIBFEHGGFHIJJHEHJHFEFFFFFF?CBD?B>;;;@9@9@BDDD8?@D(9:C>BD<<<B####': 1,\n",
       "         '@@@FFFFFHGFHHJJJIIJJJJJIIJJGFCHIIJIJCEH:EHGHGFFEFFDDBBDDDDDDCDDEDDDDDDDDDCDDDDDBDDBBDDDDDDBBBDDBD1?@': 1,\n",
       "         'CCCFDFFFHHHHHJJJJJJJJJJJJJC?FHIJCHGGJJJIJJJIFGGHGHHDGIFGEED>CHA(??@DFCBA5=ABB5AABA?C9AD8<ABAB@9<8<A8': 1,\n",
       "         '@C@FFDDFHGHGHCGHIIGHJIIHGCGIFGGGH1:?FGG3DEGD?F6)8CCG9FHHGHE?A?;;CBDA>>>A?BB==BD@<5?9?<?#############': 1,\n",
       "         '?@;A?B=?F;FFF??:::EC3??FF1C?9DG@C@@?)B##############################################################': 1,\n",
       "         '@@<DDDB;=FFA;?9EEDBFABE<G*1?CDHIIBBDHGHEGIGCH>DFCEGGEGFCGGGICE<GCHH>@@B>D@C@CA?@BBBB<<??<:28<?CBACCC': 1,\n",
       "         'CCCDFFFFHHHHHJJJJIJIIIJIIJJJIJIJJGFIHIGIJJJFHIJJJJJJJJIJJHHHHHHF;BDFDDEEEDDDBDDDCCDDDDDDBD>BBBB?BBAD': 1,\n",
       "         \"@CCFFFFFHHH?FIJII2CF@E@@F?BHIJJJDHIGGGIFC84@'9>A?8/:ACCCCCC@CDDDCD<3(+((9358BA<CCDB@BCCCBBD1<<>>(:@@\": 1,\n",
       "         'CCCFFFFFHHHHHJJJJJJIJJJJJIJGIGIJIHHGIEHJGIIJJHHHHFEFFDEEDD@DDC@<<?BBCCDDDDDCDDDCACDEEDDDEEDDCD@<(8?C': 1,\n",
       "         'C@CFFFFFHHHHDG8EBGGHGEFGICBGGHIIJBHGICECHBFGGIG@D@CADGGCCAEEHBHCDBEEFD;6>@A;@CB?AABCDDCAACCCCD@B9@B@': 1,\n",
       "         'CCCFFFFFHHHFHIFIJJJGIHJJJJJIJJJJ@HIIIIIIICHHIGGHIJIGHJJJJJGHHHFFFEFFEEEDCCDCCCDDDBDDDDBDDDCCDACD@>@@': 1,\n",
       "         \"@@@FFFFFHHHHFBHIGGIEIGHGEEHJIEH;FB;=C@FC)7'7?E?HFFFFDDC9A=>@>CCCCCAA:35(;55::@CDDCC>A<<<?B<>C>:CCA##\": 1,\n",
       "         '@<@DDFFF?FHHHICEGGIHHGIIIIIIIIIIIIIIIIIIIEEDDDDDDDDDDDDDCDDDDDABCBDDBCDB<BDBDDD?@B9A@BD<ABA@@@CCECAC': 1,\n",
       "         '@C@FFF?DHHDFHIICH?FFEHIFGIICGFFFGGHIIIIEHIIIEEGGH<FEIIGIFCHEADDDDCCEEEEEDABC;>@CCACDDD?A>??>CD>A@CDB': 1,\n",
       "         '@@:DBDDFHHHHFGGIJJIIBHIIJHCGGHIJIGCEHFG?DAGEBFHHIJJIIIJIHH;?ADDDFA@CA@:ACCB@A;@C>C?<5955><A>@@A>CAB>': 1,\n",
       "         '@CCFFFFFFFHHHJJEGIJDHIJGJCGHIJGGIIJJJIJIJJJJJIIIIABBCDDDDDBDDDDCCCDDDDC@C8AA<?B<CCBBDCBDD@?B?<C@BBD#': 1,\n",
       "         ';<?;DAD+AC;DD<@CGH?FA6@FECC<?B;;DGI<B;F@DDA:BFGGGF@HGEAC?C-=CE3((6((.6>@>CC==;((,:A:CB99129AC#######': 1,\n",
       "         'CCCFFFDFGFHAHGGGIJIJHGIJJIEGGJIJIGGGHI=DEEHJH?BEDFFDCD;A?@AACDEDEDDDD@C@CCBACDCC@CD?CBDC@ADDCDACBDD0': 1,\n",
       "         '@@CFDDFBF=FHHJJIIGHGIJHGIEHGCFGAHIJGIIHGEHE<BFHIJIIHGFGIJJICGACHIIIGGHHFFFFFDDEEEDDDDDDDD<=@5@BBBB8A': 1,\n",
       "         'CCCFFFFFGHHHHIIIJIIIFBHBGIJGGHGIHFIGIGGHIJJEIGFGHFFFFEDECDDDDCDDDBB<BCC:ACC>CDDCCC>C@DC@CCDDDCDDDDBD': 1,\n",
       "         '@@@DBDDBHHGHD@HGIGHGFHGGGEHHGGAGIJGHIIJIGIJJJGIGAGDA=@8=C?CA=>CDD??CCA>@@CB;9AC>((::AA9<+>@A>@>CBB<B': 1,\n",
       "         '@@@DDDDDFHHHBFHG3<;FGB;FDBCGHEHHGG?F?BGHI?FDHGGD>GHEIIIGC;.)).)..7?A;)=7?@;;(;=C>C@>:?##############': 1,\n",
       "         'CCCFFFFFHHHHHJJIJJJJJJJJFIIIJJJJIJJJJGJJJJIJJIIHIJJJJIJIIJGHHHFD@DFCCCE@BDAABDDDDBDDDDDEDDCACCDACDCC': 1,\n",
       "         'CCCFFFFFGGHHGJJJIHIGIJJIJJIJCGGIIHIGJJJJGIIIGIJIJIJIJJIIGJGIIICIGGE?CCDDC<@@@ACDC>CCDCBCCDCCDAC@A<><': 1,\n",
       "         'CCCFFDFFHHGHHIJGJGIJJGGJJJJJIGIIGIJGHIHIGIIDGIJIJFIJJEHIGGFEHBDEDFFECCCEDD@C?;>ACBBCCDDAAA@C@CB4>CCC': 1,\n",
       "         '@BCFFFFFHHHGHJJJJJJJJIIHIIJFHHIJJIJJEIHGHGHIJEIHIEGIIHJJJJEIIJGGHFHHGHHFFFFDCDEEDDCDDDDD@@8=>ABCC@AC': 1,\n",
       "         'B@BDFDFFHHHFFGIJJJIDGGIJIEGGIJIJJIHIGHHEHGGIJJIGHHEHJJJIJJCHHIIJHHHFHFHDBBEDDDEDDCDDDCCBD?8=@BBAC3:4': 1,\n",
       "         '@@<DFFFFHHDFFIIIGEHGIIIEHHGIHIIGIGIIHHEHGHEGGGIIIFBHIIIIIIIIIIGII>EEHDHFFDFECBECDDB;>CD>ACC@C?B8?BB>': 1,\n",
       "         'CC@FFFFFHHHHHJJJJIIJJIJJJJJ?DGIIIJJIJJGJIIJJGIGIJJJIIJJIIGGHGCGCDHEHFH@;?BE;ACEDCCCCDDDDD?@BBBDCCCDA': 1,\n",
       "         '@BBFFDDDHHHHFIJGJFIJJIJIIFFIIGIJJJJIHIDGGIIJJJJJHIJJIJJJIGIJIIJHHGHHEFFFFEDCECBDDCDDDDDDDDD?CDDDDDDD': 1,\n",
       "         '@@@DFFDEDFHFDGGGGIJIJIIJEIG<FCGIJIJJ@GIGIHIIJJJJJJIJJJGIAHHEHIDGG?HEHFFFFFEDCCD>ACCDDDD>CBD???ADDDDC': 1,\n",
       "         '@C@FFFDFHFHDFIJGJIIJIIJGHGADGIJJIIJIJHHGIIDGIJJIJIJBEFHEEFFEFCECEDEDDCD>CDDDD@9?A@CC:@B8B<BDA?CD9<B@': 1,\n",
       "         '@@@FFFFFHHFHGIJHJCGIJIJIJFIAFGIIIJJIJJII?FHHJIIJJJIGIJJJJECHHIJJJJDHFEHFF?DCDCECDBD>CCDCDDDCCDB@DBDC': 1,\n",
       "         '@CCFFFFFGHHHHJJJJJIIIFHIIJIIIJJIJJGIGIIIJJJIIJIJJIG@FHIJIJIJIGEBGECCEAEDFEFFCEEDECCDDBDDDDDD?B@CCDCC': 1,\n",
       "         \"8=?DD8?DC?FFDHGBFGAHEHI@EFIIC<EHI4<?F@FFHEHBB?FD?BFHC@FHGGHGE;9A6'-5;;);;;;6AC;5;=CC:@AA@9CCC#######\": 1,\n",
       "         '<<@DABADFFDA?HIIIGIIEIIGIIIEGCEHGCGCBDBDAFEHEDFFHH:/F84@B7777@CCC>@A@3==CA:@CC???BBCAACCC?A<B3:CC>><': 1,\n",
       "         'CCCFFFFFHHHHHJJJJIEHIJIJJIJJJJ@FHJJIGIJJGIIGIGIIGHIGIJHEECFFFDDDEE@CCD?5?@C@>>>?@?<?CDDDAA@BDDDBBB##': 1,\n",
       "         '@@@FADFFDHHFHJJJIIEHGJJJJIJHIJIJEGHIHJGIIGJJII>FHIGGIHEGFDFFFECCEEAEDC;@?ADCDCDCDDDDDDDDDCDCDADDDDDD': 1,\n",
       "         '@<@DDDDFHHH@CGFGAGIGIGHIEGGGCDEHI@HGGIB>FGGGB@FE=FGGEA36;@CEE?EHFEEEDEDCCDC?CBBDACDAC?CDDDCDCDCC9AA:': 1,\n",
       "         '@@@DFFDFHHHFHJJAEGIIJJCGCGIFIHIIIEHJFIIEGIJIIC@AHC>FHGIIHHHHHHEDFFBBEEEEDCDCDDDBDDDCCCDDDDDACBDDDDDD': 1,\n",
       "         '@@@FFFFDDFGHHFIJFHG>EGIJGHI?E??DGHJI0@@CFCHHJJGHGIJJJFIGHGGHCFDDD@CCDCDDCDD;@CDCA?A<@CDCCCDCBDDBBADD': 1,\n",
       "         '@@CDFFFFHHHGHGIIIIGIEIGE9CDI??FGIIGGIFHIFCGIJFHIIDIHGGCIIIGGIHGHHHF@EC>DDEFCCCCBB@=BCDDDDBBB<@B1<38?': 1,\n",
       "         '@CCFFFFFHHHHHJJJJJJJJJJJJJJFHIJCGHIJJJ7D@FHIIHJJJIIIJJJIHHEHEFFFFFEDDEDDDCCACDDDDDDBDDDDDDDDDDDDDDDD': 1,\n",
       "         \"@@@DB?D=BFDFA?CGC@BBE?EEHI@GEF3?E9??3CBEFFD?DG@BBEAF8=C@F;@FF@C@E;A>();='9?@??=958=B################\": 1,\n",
       "         \"<?;+ADDD<D?FDGIF@<GGE<C9FHGD9G>31CFDGH8?D>=BC('@BEE6A7?C2?##########################################\": 1,\n",
       "         '@@CFFFFFHHHHHJJJJGIJJJJIJJJIIJJJIIJIJIIIHIJJJJIIHIHGIIJFIJIJHHHHFFCEEEEEEECBCCCCADCEDD>CDBD?2?>CCACD': 1,\n",
       "         'BCCFFFFFFHHHHIIEIIIIGIJJIHJIIJIJIIJJGHIGJJ@GFHGIIJIIJIIIIGIDGHHGGA==?EDDFFFB?@DEEEEDDB3=B5<?8??@?BCC': 1,\n",
       "         '@@@FFDFDHHHGFIIIG:IEBCFHCDEIHHHIIIIEHIAGGD6@BDHHHI=FFHHGGEGGFG9=@BE@DEC>AC@-;;;;;5;CACBBDBB>C@>>CCDD': 1,\n",
       "         ':==B;3??CA)<DHHECHEBCA?CAFHGIDCH9DBAD@DHDHHBDGBEHF6FA@5=EE7@3;.6(6>?===?CBBC?CC@::A:8?3:@(5<?BBC:928': 1,\n",
       "         'CCCDFFFFGHHGHIJJJJJJJJJJIJIGIJIJIGICHIIIIIJIJIICGIIJJIJJJJIHGEEFDDEFFEDEEEDEDDEDDCCDDDDDDACCDEDDDDDB': 1,\n",
       "         '@@?DDFFFFHF=BFGIIFHHIGEGEFHHGIIIGIIIIIGEFHGGEEHGFGGIGIHB<=BB>A>CEDDBBBB?CD?<A@CCC>ACDD>:A:>CCDACCA<A': 1,\n",
       "         '@?@FFFFFHHHHHIJIIHIIJIJJJHI?EHIJHIIGHJIIIEHIJJFHI8BFHIIGIJIF@GHHFFHEDBCCCECCCCCDCC;>CCEECDDBD09B9BBD': 1,\n",
       "         '@@@;DDDDFAFFFE;FGFAF@=EEGIF??F99?F?G?98DFFCFFECFIIFIIC@@DD;@E:;9;@BDCA9@@BB@?B9A:A>AAB:@5@DEEBB@9900': 1,\n",
       "         '?@@DDAD;;))@CCE=;C<C;G@DD<D?F;00009B?B<BB(/?-;F@C@@FDCF#############################################': 1,\n",
       "         'CBCFFFFFDHFFHFIIJJIJIJJIJJI?EHIJIIGHDGHIIJJJJIIGGHIJEHBED;BCDFCEECCE@CCCCCDCDDDDCDC:CBDB@BDBDDD<@BDD': 1,\n",
       "         'BCCFFFFFGHHFGIGIJIJIJIJJJJJGJIIJJHJGIIHJJJGGHGGHIGGHIGGIIGFBEHFFFFF@=@CEDDCDACBDCAC>@CDCDCDC<A######': 1,\n",
       "         '@??DBDBBDF=DB@:CF8?BHFGGBF<FFH?GD7/7?3C@F<)88)@@;D(77=CEE)?E;@:;BB@CCB;?8<98?=22<C?@>C(88@BBB?CBBACC': 1,\n",
       "         '@C@FFFFDGHHHHGIGGGIGIJDF>?DFHGIGGAEGF?DDGHCHIJEHJGICGGGHECH==@BCEEDC?CED@BD?C@?@?BB?:@CAACACDDC@DC:2': 1,\n",
       "         'CCCFFFFFHHHHGJJJJIIIGIFGH?DEIHIGGGHBHFHHIJGEEGGIIIHIGGIIHF@7??;;BEDCDDEDDDD?;9??AA@9@CDDCC>A4>A>C@AB': 1,\n",
       "         'CCCFFFFFHHHHGJJGIJJJJJGIGHI:BFGIJIJIIIJIIIIJJJJJJIHIJIJHHHHHH;@DEFECDECDDD??BDDDDDDDD?CCDCDDCA@CDDEE': 1,\n",
       "         '@@@DFFFFHHHGHIFFGIIIJIJGGDDHFHIJIJBGGHIIJJJIIIHIJJEGEG@CHFHGGFCD:@CCCCCDDDDDDACDD?BAD?<ACC@CDCCDEDED': 1,\n",
       "         '@CCFFFFFHHHGGJGFEIJJGHJJIIEHGD=GGDHFHIDGF=FEGHGIDFHGIHG?CHHCDDC3@@ACEEEDDDC>BBBCDBD@DBD9@CD4>9>ABDA@': 1,\n",
       "         '@CCFFDFFHHGHHIIJIIGHJJJJIGI<DFGEHHGHGIJJGIJIIJJJJIJIJIJ@GGFGEHHHFDEBE@C<CDDCCCDDDDDDBDBDDDDDDDBBCDCD': 1,\n",
       "         '@@@DDFFDDFADHGIJIJJJIGGIDGIJGIGJIGI6DHIFHDGGGEIGICGHGEGDGCF<?CAEDFFFFCEDEED@;CCDD;??9<?A(,5>CCDC9<<B': 1,\n",
       "         '@@CFFFFFHDHHGIIGIJDGIJJJIIIJEIIJJJJJJJJIHIJJJJJJJIJJIJJHHFFFDECCECDDDDDBDDDDCDDDEDDDDDDDDDDEDDDDDDDD': 1,\n",
       "         '@@@FFFFDHHHHHJJFIJJIIJIJJCHG@FEIHGHBFECFGGHIIJEIIIIJJIHEHHFFFFDCECCDDDDDACCACDDDDBDDBBB?CCDDDDDB3>:A': 1,\n",
       "         '@@@DFDDFGFHDFIIIIGIJIJDIJJIJEHJHIGIIIJIIGHIEHHHFFFFFCCECECBBBDDDBDCDCDCDDC:3>A>ACCCBDDDDDBCDAC?B@B3>': 1,\n",
       "         '@CCFBDDFDFHHGAEGIIIIIIIICEHHHCHEEHIIGI?FCHGDHHICHIHIICCGDGGIHGGCDDFFFCECEC=AAC@CCDCCC@?<?CB?>CCADCCC': 1,\n",
       "         '@@@FDDD>DFFDDFHF9DBDECB9BGFH00(<;BEBHG>?A6;?D@?BEECE5>>?CA((,5=(988AB<@C934(4>AC4<C>:ACCC??-99>98(<A': 1,\n",
       "         'BCCFFFFFHHGGHJJJJJIJIHIIGHGHIIJJIJIJJGHHHEHEDFCFFEEEEEDDDDCDDDDCDDDB@DDDDDC>ACDDACCCDDDCCBDDDDD?CCDD': 1,\n",
       "         'CCCFFFFFHGGGGBHGIIJJJJIIIGIJJIJIJIJIIJJJEHHHFFCDFECEECDDDCCCDDC@BBDDDBBDC?@>CCDDCCA@@CCDD?BCDD?BCCDC': 1,\n",
       "         '?@?DFDFFHGHGHJI@FGIGIGGGEDHGDBHEH@FGIIB8EHHH@DFBBCCCC@CCDDDDCCDDA?B<?BB@CCDDDDDDDC?ACDCDCCBDC9?B8(3?': 1,\n",
       "         'CC@FFFFFHGHHGIIIGIIJJGIIGHGIFIIJGIGIIIIJHHHH@DF;BEEEE@CCDDC>@ACCCADBDD<@C?CCCDDDDCCDDDDDCDDDDDDDDDDD': 1,\n",
       "         '@@@FFAEFGHHHGIJIJGIFIFEHIGJI?FHIJJGFIIJIEHHED?BD@CCEDEDDDDDAC>C39:29<ABDBCD?CDDDDCDDDDDCD:ABBDDD####': 1,\n",
       "         'CCCFFFFFGHHGHJJJJJJJJJJJIJIGIGHIIJJJJIJJJJFHHFFDDDDDCCD@@CDDDDCDDDDDDDDDCBDDDDCDDDCDDDDDDCDCCDDDCCDD': 1,\n",
       "         'C@@FFDFFGHHGGJIGJJIJGGIJJCIIJIGGIGIGEHIIHIJJGGG?DHHJIJGEIIIIIFEDDFDE@ACECACCCDDDDDDDDDDDDBDDCDDDDDBD': 1,\n",
       "         \"@@@#4AA?FHGHGIEFDDGDHGFIIGDHC@GCDEHIIIIIIEGGEHDDHHCHC@GHBA')7=ACBBDDB@EE@CC@<@ABB:@#################\": 1,\n",
       "         'CCCFFFFFHHHHHHIIJJJJJIJJGJJDGGJJJJJDIIIHIIJJHFHFFDDDDDDDDDABDDDDDDDDCDDDDDCDDDDDDDDCDDCDDDDCC?CCDDDD': 1,\n",
       "         '@@CFDDFFHGHGHIJJIGEIIIGIIJJJIFHIJIIBGEGIIJICGHEEFFFFCDD?;>8??A?5>?4<C3@A9:>8:ACCDDDDDDDBBBBC99@:ACCD': 1,\n",
       "         '@@CFFFDEHFFF=GHIJJGIIIIGH@C?EHHIJCHIDBGFGGGHGEHIEHHHHHGIGDGIBEGFFFFCECED@CA;=ACCDCCCCCBDDDDDDDDCCC@C': 1,\n",
       "         '@C@FFFFFHHHGDBHIHH4EGGHEBCC?FHGCGEEDHG;@=D@EHHHHEDBDFCCEEB@BBB??AAB3:A>?A:C>ACCBCCCCACCA@AA?A8?:9<3>': 1,\n",
       "         '@@@DDEFDHHFFHGI<DHGGHGEFGGB@CBFCHAFDHG6;F@C@CAEE;?@;?CA7A??BBBB?@?A??<C(:<@@:>?@AB@>>>C+(42<8<?02:39': 1,\n",
       "         'CC@FFFFFHFHHHJJIJG@HHIJDGIJIJIIJJGIIJJDGGEHECHHEEC>DD@CD?CCBBDDD@<A??3>>4?C>@@CCDBCDCCA@C>288?<?<C>?': 1,\n",
       "         'CCCFFFFFGHHHHJIJJIHGGGEHIGIJIHEIJJ>GHJJIIJIEGHHH>ADFFFDDDBBDCDDDD?BDDDDCC?(2:@ADCDDDCCCDDDD:ABDDBBBC': 1,\n",
       "         \"?;?D;ADDADDFDIBFF>EF?CEBFAEFFB<E?8D0@GF4*??09B'=35@>F@A#############################################\": 1,\n",
       "         '@@@FFDFFHGHDHIIIJJJJIJJJJGHGHIGHGGHIIIGEFGGIHIGDHJIJFIIGJEHCAE=?EECDEFDD?BB@BDDCDDDDDADACDDCC:A@AC<C': 1,\n",
       "         '?=?DDDD;+ADFBGED<CHIID?F4F@E<AA<CE??@**:F9F0?:D?D0BB9<D?;BFHFB=F@F;;1CGAA=)7)(;?DCCCC@??>=?=BC:(3:?#': 1,\n",
       "         '@CCFFFFFGHGHHICHBEGEGHIGHGIEEHIG??B?BHFGHCGG?DHG9EHGIDGDGIG><C;C;C?GIEHIIHFECCDBCDEAC>B8:C@?C9<CAAC:': 1,\n",
       "         '?@@BDFFFHHGHGIHGGFHIIIFHGHGIIDGFDGHGIAGGIIIIGIGG<FG@FGIGIIIHIGEAGIBHIIIIGFHEEHD@CFDD??8@ACCDCC9A>>AA': 1,\n",
       "         '@@<?DADDHDHAFEGHBFBHGHGI3?DB3BGGDD4?BFGIG6AG########################################################': 1,\n",
       "         '@@@FFBEDFHHHGFIJJHHIDHJG:FH@FAG9DGCAEDGGIGHGGEGAAF##################################################': 1,\n",
       "         'C@BFFFFFHFHHHJJJJJJJJJJJGJIIHCGHJJJJCHHGIIIIJJGGGHJJ################################################': 1,\n",
       "         'CCCFFFFFHHHHHIJJJJJJJJIJHIIJJGIGIIJJGHIJIJIJJJJJJJJJFBGHIJIHIIEHGIJGIDHGGGHDFDD?C>CCDD<A::ACDDCDDDDD': 1,\n",
       "         'CCCFFFFFHHHHHIIIJJJJJJGHJJIIFGECHHIIIJJJIJJIIJIIIJJJEIIIJIJIGHIIJIJJIJIGGHHAEHFFFFDDBDB?@>C>CDDDDDDD': 1,\n",
       "         '@BCFDFFFHHGHGJIGIIIIJIGJEHIIFHHIJGJIEIJIJIJJJIGGIIJFGIIJJHFHD?######################################': 1,\n",
       "         '@<@DDDDABFB<DFHIBEBD>FGEHDBAEFHIGI?@FB9DBFHIIE2BDAF>FHDEGE=EEE######################################': 1,\n",
       "         '@@@FFFDFHHHHGEGIIIJJJJGIIIIIIEHJFGHGGJFDHIAGGIJJCFGIDGBG@GIGEEHGHFC?@CFFFEEEC?B?B@??>BDD9A5??A1:>CAA': 1,\n",
       "         ':11:4A4+AD3<<C<EEC3C3+:+?CFCFED)):ED39***0?83?309??09((.BCE)@@D)=A@>C;)7??D#########################': 1,\n",
       "         'CCCFFFFFHHHHHJJJJJIJJJJIIJJIIJIJHJGJIJGJJJFIHIIIJJJJJHHHHHFFFFEBDDD#################################': 1,\n",
       "         'B@@FFFFFHHHHHJJJJJJJJJJJJJJHHIJHHCFIIICHGHGIJGHGIJJJJJJJJJGBHIIIGIJIJJJJJJHHHHFFFFFCCBBDDDDDDDDDDDAC': 1,\n",
       "         '@CCFFFFFGGHHHJJIJJJJJJIJIIIEGHIGIJJJJJJICHIJJIJJJJHHHHFFFEEDEEEEDDDDDBDDD###########################': 1,\n",
       "         'CCCFFFFFHHBFHJJIJIFGGIGIGIIIGIHGGHGCHGIGJJJIJJIIJIIIJIBGG@EHJHFCEEHFBDDBCACACECDCDDDDDBDDDDDD<A@?CDD': 1,\n",
       "         '@@@FFDFDFHHHGJJIIIFIJIHIIBGHIIHGHBFDEHFECGIJJJEHJGIIIGIJEA9=AAACDDDCDDB?3??ACCDDDD@BDBB#############': 1,\n",
       "         '@CCFFFFFHHHGHJIIIJJJJJJJJJJJJIJJJIGGGGIIIIGHIJGHGIHIIJHJIJJGHIIB@GGEGGCHGGHEEHFDFFFDDDDBDDA>CACC?CCD': 1,\n",
       "         'B@CDDDFFGHHHHJJGIIJJJJGGJGHDH>DFDHJJJJIJJJIJFGIJGHIIJIGIGGHHFFA@D?C?BBDDBDDC@?CDDDCDDDD>BB##########': 1,\n",
       "         'CCCDFFFFHHHADGIIICEHD>GFH>F3AF?CCBEFDGGHFBGGIFIIGHB;DHIJE>AEEDHG>BH>C;@@EEECC>C@ACDD3;(8??=@?A32?B##': 1,\n",
       "         'CCCFFFFFHHHHHJIJJJJIJIJJJJJJJJHIJJJJJJJBHIIJIIIJIJJBFHHCHIIJJJJJJJIIGIGHHHEEFFFDDDEEDDDDD?@DBD@CCCCC': 1,\n",
       "         \";?<D7DDBB<FHD<EGGIE<FHAG<FGGCCHI@?DF)0BGHIHHDIGIA@8@HGGDGG7...)=@D3;@@29</38?B(8<?'85<<A8::B########\": 1,\n",
       "         '?@7D7BDDFD:?DHAF@EFDBHGGEG+A?FBEFC?F<1?FGB;*:?090?D>GH=@;8445@-7..).;3)?66>>;;@555238:,8?A##########': 1,\n",
       "         'CCCFFFFFGFHHHIJJJJJJIJJIIJJJJJJJIGEGIJJJJJJJJJIJJIJEHIH:C9BDFBCEDEEDDDDDB@CCCCDDDB@CBDDDDCCCDDDDD>A>': 1,\n",
       "         'BC@FFFFDHHHHHJJIJHIJJJGIJJJJJJIIJIGIJJJGIJJBHJIJGIEGEEHFFFFFFFDECCCD@;=@?>C<<:ABDDA@<>AAC@CAB<59@###': 1,\n",
       "         '?=@?BD8;B?>DFG>GHBEHHCFAD@HIEAGHABAEGHGIIEGIBGHIIGEHEGDFDCDEGEHCCGCGG@EEE2.7=EDDFF9A>8>8C5>?C?<CCACA': 1,\n",
       "         'CCCFFFFFGHBFHGGIGHGIIIIICG<FHIGICGHHHIIJIFIGFHGEHGGIHG=BDEDD;>;;A?CC@B>@A@;@@@A?A@BDB@919CBA@A??<>@#': 1,\n",
       "         '@@@FFFFFAFHHHJJIJIHIGGGGIJJHGIGIIFJJIGGGGGIDGIFIJCECHGH4=,5@D>@AEECAADBBD:AA?CA?<:89@CDCD3:A@4:>C>A@': 1,\n",
       "         '<B@DDDDFHHHHHIIIIGJJIIJIJFJJI?FEHHFECCHCEDGIJJGHEIGBFGHIIIIGCEHEHHGFFFFFBCDBDD@BC@BB3<9<CC?CCDDDD@B?': 1,\n",
       "         'CCCFFFFFGGHGHJIJIJJJJJJJJJJIJIJHICHGJGHIIDHIJJJJGIJJJIJHHFFDCED>CC@C>AACACDCCDCDDDCDDDBDD>BDBDDDA@B?': 1,\n",
       "         '@?@FA?DDHH?DFHEG;FBCHEHIIIGHEHHIIBDGGII>9DEH9FEE9F6AGGG@AEDBCCEECCCCBCCCCC5:?A@CCBBCCBCCB<<@9@?AC<A>': 1,\n",
       "         'CCCDFFDEHHHFFCFHGEHIJJFIIHIHIGJIIJJJFGGIGG3BGCFHHHGGCG@GGH<CGCCGHIGFDD;;;;>>C>CCDCCDA:CCBDB#########': 1,\n",
       "         '?=?D?DDBDDDBDBBEGIE9?F+@C?C19CD39?D3?9BFA?9??9?87A;4;(6AAE<,.,((.6;A@;3;5988?55:,,59?B<9?3@@>B(:(:>A': 1,\n",
       "         '@@@DFFDDHHHHDHJJGGICHGIEHIIGECGIJIJIJHJJEGIHCIGHIIIJJIHEEHF;?BADDBCC??CCA5?<CCDDDDD@CCBC@AAC?BD7@B<>': 1,\n",
       "         '@<@FFFFFHHHHGIJIFHIJJJGJJHIJJIJJIIIIJHHHIGIIIEIIEGGIHDEGGHIIIJGHIJIEC==CHFHHFDBA>CDDCDDDDDDCCDCDCCCC': 1,\n",
       "         '@B@FFFFFHHHHGJJJJJJJJJJJFJJGJJJIIIGEIIJEGHIIJJJJJJJFFIIJJJIJIHHHHHGFFFFFDDDB?BDCBDD8A5?CDDDEEACDBBDD': 1,\n",
       "         '@@@FFFFFHHHGDGCH>GD9CDAB?EGFAHHIIIIIIIBHDFIEHIIIGIEIIIIEEEDFCBEA<;@CB=?BBBCACCCCCB@<?@CCCCCCCC:>CC::': 1,\n",
       "         'B@BBDDDFHHHGHJJJIJIJIIIJJJJIJGGIGEHAGIGGDFIIHFBFHIIIIIGHHGFBBCDDDBDBDCCBDDDBCDCDCCDBCDDCDC@>A9C@BB5>': 1,\n",
       "         '@@@DFFDDH@?FDB@GHIHGHIGHEHGEGIIIIIJJIJJIIFECFGEH@C)=FCHC>C?==459==BB:?BBAABC@C???CCCC>BDCCCCDCCBC><<': 1,\n",
       "         'B@@FFFFFHDHHHIIJGIIJIGIGHJGHIIIIJIJJJIIIGIIJIJJIJIJIGHGHAC9?DDECCEEEDDDB7A@@CCDDDDD@ABCDDDDDCDCCDC4@': 1,\n",
       "         \"CCCFDFDDFFHHF?CHAHEHEGGBBGFHGGIIICGEHGGICFBG@HIIEFGIIIIGIICEE<49BBEAB>3?'(5:<:5,,5<<<88<>ACCA>C<3838\": 1,\n",
       "         \"?@;D?D8BFFFHHGG@<AAE=++2ACC2C89:11*1:3:00@69B))88C=)7@48=;C;).744=BB;>(=?B=,'388>CDD@CBB?###########\": 1,\n",
       "         'CCCFFFFFHDHHHJJIIIIJJHHIJIJIIJJIJFIJIIGIIIIIIEIIJIJJHHEGFHG>BHEEECCCFDEFEE<CCCACCDDDDDD?BD8ACB?B5?<?': 1,\n",
       "         'CCCFFFFFHHHHHJJJJEHIJIIFIGIJJJIJJGIGIIJJIJIIJJIHHHIIJJIJHGFH=A@DFFABDCBDDDDDDBBDDDDDDDCDDDDDDDCDCD@>': 1,\n",
       "         'CCCFFFFFHHHHHJIJJJJJGEGJJIJJIJJIJJIJJJJJIIIIJJ6==CGIAE5AHFEDFFFCDEDDDDACDDDDDDDBDDDDDDCCCDCCDD4@CCDC': 1,\n",
       "         '@@CFFFFFGHHHHJJIJJIJJJJFJIJICCGGIHIJGI<DEH<F@HGIEGIGJGHHHF?DECCECCCBDBCBCCCC<>C@CCDDA>AAA@<<BDBA?8<:': 1,\n",
       "         ';?+=+AA:C?CDFE4C9EF9FFCFE?1CDFF?FEE<C?608?308B)8;)=F54:44=A>>@A#####################################': 1,\n",
       "         '@C@FFFFDFHFHHJJJIHIAHHIEHIJGGGGIGEHHIJICHHIIEGHGICHGHIG:=?EFC@CDDEEDB==?B>AC?C@A?=?C8CCCC@CCCCCCC>@C': 1,\n",
       "         ';;8:DD??DFD4BBB@9E4AFD<F>?3<C:FFGEH;F1BF.=;CDH;CEGGH<EHFEH7)7;@:BAA;?@C>3>C:>@ACA<,,>C>@1<??BBBB?###': 1,\n",
       "         '@?@DBADDFDAFHG?E<EBGHIIICGFIHHGGCDGHIEGIBGEEHGFF;EGG6?>AEA=>?BC=6;>ACCC@?<AB<:@CCCCCCACC4@C((+(8(8?B': 1,\n",
       "         'BB@FDDFFCFFHHIHIIJJJJIJJIJGGCGIIJJJFIHCHIJJJJIJIIIFHIGJIJJJJIEEFF?BCECED>AECDCA>A;(5>@CDD?9AB?@BABBD': 1,\n",
       "         '@@@DDFFDFFFHFEGGGAHAEHIIDEGGIIGGDCDHGGGEGFHHEHEGIIFGEGIII@DHBAEF;A@ABB8=;8?CB@@@@CDBB08?>4:?CDDDDD<@': 1,\n",
       "         'CCCFFFFFGHHHGJJJJJJEHFEFG:D:CGHHIGGIIFHIJIIIJBHIIIHH5@DGHEHC3CEDFD@;@C@@CDBBAB98<@(:5@B#############': 1,\n",
       "         '@@@DFFFFH?HD)@@CFAE9CFGGCD*?:CFHIGGGDHAE2B;FHI@6-(7C?CEEHHFFD1==;>ACC>CB@8<8?@CCC@CCCA3?44@@CCA@<AB8': 1,\n",
       "         'BCCFFFFFHDFFHIFFHIIJJIJJJJJEHGJGGIJJGIJJJJJJJJIJGJICGGIIHFHGIHEHEE?B?BBED;A;@CAB>>ADDDDCABB@DDBABDBB': 1,\n",
       "         '@@CDFFFFHHHDHIBFEGIJIJJJJIIIIIGIIIJJGIIIBDGGIEIIEGHHIFICHGGF=EHBDFFEECA==@1;?CCDDC@A><ABDD@BBBDDDD>@': 1,\n",
       "         '@CCFFFFFGDFDDGIJIIIIIIJIJIIJ@GCDHGHIJJCHFHIJ;CAEHIGGHFFGF>B(;?;>>(((-;;??BCCCCCDCDCDCD:>>::(+8<AD??B': 1,\n",
       "         '@@@DDDDDHFFHHI<@6FHB@2C?EEEGDGBBG@G>F?FCADG=FHIIEIGECCGGC?;=A??;@?7>CCC@@=@?BB<?<?##################': 1,\n",
       "         'CCCFFFFDHHHHHJJJJIJJJIAGHIJJJJDHIDGFI?DFGGIIBGIJIGHBGGHIGGGIHH;DEEHFFFF@CDCBCCCDA@C:?B8A?A>A919?CB?@': 1,\n",
       "         \"@@CFFFFFGD>DFGG7A?FCDGC<FGG@HIIGHGI@F@888DGHIGGHCDEEHGIIGHG(;BB'5;AC=@B3;3<<ABCADC>?ABB@?4:>C:>ABB8?\": 1,\n",
       "         '@@@DFFFFFHHHFIHGIJI@GGIGIIJJFCEGIIJJJJJJJJGID?FCBCHHJGIGIJIHHFEDFFFEDEEEDDC=BDDDBDCCCDDDDDDDDBDBBDDD': 1,\n",
       "         '@C@FFDFFHHHHGEGIJJJJ?GEFHEHFFFHGFGHIJIIIHIIJJHDDFGIJIBHGGGHEHHG;?DAEED@CDDCCDBDDDD@CDDDC>C?BDABBAA<?': 1,\n",
       "         'CC@DFFFFHHFFHJIJIJJJJEHGIJJIIJHIIJJEGGIJGGIJJJJ?FEHIIIEGIJHHEEHFFFFACEDDCD<?AAB@BD?BCCCACCCCD:AABDBA': 1,\n",
       "         '?;:A??B;AFF?F+2ACFF3A<<2AEFCE*9)1?DDF;DFF<9?F<FBFDFFIIA/;DC;.)7?;;@,;@CC@9;>3(5(8@B@??4AA4:>B#######': 1,\n",
       "         'CCCFFFFFHDHHHJFGGIGIIJJJJIGIGC>GGIGHIJF=BGGIAABH@FG=.<FG>BHEHEEFE>CEFDCDCCD(5>9A5<?(8<?B:@CCCA<A?CBB': 1,\n",
       "         'CCCFFFFFHHHHHJJJJIIJJGHIHHIH?DDGIJJJJJJJJIJJJGFHIEIJJGJIGHHGHHFFFFFFEE@CEDDCDDDDDBDDD>A@CDCDACDCDDD>': 1,\n",
       "         'CC@FDFFFHHHDFIIHGIIGIJJIBHEHHIJJIIJGIJIGIHHIGIJJIIII<CFIJJJHHEHFFCEFBED=ACC=AAC3>>AB?@B0<:@ACCDCCBCD': 1,\n",
       "         'C@CFFFFFGFGHHIIJHHIIJIIGIJJCBHIJJIJIEHIJJIBGHEECHDBCB8BCHIEIHCEH;37;?;>ACBA=ACAC9CCBDBB?<A@C:3(:??8@': 1,\n",
       "         \"?@@D;:AD>?F;AEFHIIII8?CF@?DCGFGH@9<?:BGH9:7@FHG@;@=A'65?ABDDD:@@?C?1;2;AA<53:??B9293>:@>>C::>?######\": 1,\n",
       "         '@@@D;DDDAFFFHEGDEA:FEEAFHEHCGBHHEH<F@FFGH60@FGCG@CEH@?5?A??CDEEAABC;;;>CCCC@??B?3<A3>ACCCCCC>A+4A@CC': 1,\n",
       "         '@@CFDD?DHDBBFIEBHIIFG>EHICBGHAF>EG=GGF>@FGCFDD;;CF@CCCGGC@EHC@ACH:CDBB>>@BBC?<?B<;559?@CC>:<2<28<@AC': 1,\n",
       "         '@CCFFFFFHHHHFHEIJIHJJGIJJJJGGIGIEHIJ?DFDHGGIJJJIJII=E=FGGHDHCGHEH7?CCB?@@DDAACBB=@?9?<<A<9>@CCCC:AA9': 1,\n",
       "         \"@C@DDFD?>FDHFGHIII<GH+<CECH>FHII3CEFH4DFHFGGHHEAH@'88F<GG2.7@/AE?9(;(66((,,83;<<??ACCCCC<B@<<88+:@CC\": 1,\n",
       "         'C@BFFFFFHHHHHJJJJJJGIJIJJJJJJIJJJIIJIIIJJJIDGIJJJJIGCHEIIJCDDHCGHEEHGFEFFD@;=@CCCB;;=?<?############': 1,\n",
       "         '@@@DDDFFHHGHHJGIIEGGIIGFGGDFGHIF)::?FH?DEAGHGGCHFF@CFHIIIIGFEEFFFCCACC;@AC(5>@@CBD?A<<@&0&)&5<9@8>@3': 1,\n",
       "         '@@@FFFFFFBD?DGGHGHGHIJJFIGAEHEIJJIJJJCFCHIGIIIIJGIJJGGIJGGIGEGI7@EHHFFFDCCDEEDCBDDDBCDDC>CC?@8?<?@<A': 1,\n",
       "         'CCCFFFFFHHHGHJJIJJJJJJJJJJHIJIJJJIJJJ?DHHJIJJIHI@HGIJFJGIGHIIJJFDHHFHFFDC@BCACDDDDD?CDDCCDAC>28<?@<A': 1,\n",
       "         'CCCFFFFFHHHHGJJJJJJJJJHIGIJIGGIJJJJJJJJJIJJJJJJJJJJEGHHIIJJIJJJJHGDHFHHDDFDDDCCDDDDDDDDDDDDDDDDDDDDD': 1,\n",
       "         'CCCFFEDFHHHHGJJIJJJJFIIIICHHHIGIIJJJJJJJGBEDHHFIJBFHHIFFBGGGGJHGIIJJHEHFF@BBDFEE@CDDDDD@<?CBCCCCBCB@': 1,\n",
       "         'CC@FFFFFHGHHHJJIJIIHAFHIIJJJHIIGGBF?BFGHII?DGHFHGFFDHEGGIAGHGII?HEE9@DDF?AC@AC(>CCC>;<<<:C:AC3?BDDDD': 1,\n",
       "         '@BCFFFDDDHHHHHGIHJIIHIIJGGIHIJIIJJEEGCHGIGIGGGIIIIIIIGH@F=DC>;@EEEBBB?BCEDD;;;?@ACCDDACBD&09@?BDDDDC': 1,\n",
       "         '@@@DFFFFHHHHHJJJIJIGIJJJIIJGHFGGJJJJIIGIIGIIJJJIJJJIJJJIGJ=ECFIIGIJJIEGHHFFBD@@CCEEECCBDDDBD?AC8ACDD': 1,\n",
       "         'BC@FFFFFHHCFFHIJJIIIJHIGH<CCFHJIDGHHGIJGIJJDIJJIJIJJJGIIBEHIJJFHHHFHBDFFFD<;@DCDDDDCDDCBBD3>@DDDDCCD': 1,\n",
       "         '@@@ABDDDDHGCFHGJIIIGII;F@F*?1CFBHDFGHIEGBDDFBG?@DEHJGDFGHIBD3=E7=;>CC7?BB@BCCBB;??9(9>B<B###########': 1,\n",
       "         'CCCFFFFFHHHG@EGEHIJJIGJJIJJJJIJIJJJJJIIFHGIJJJJIJHIJJJIGHCHFFFFFEEED>??CCDCCBDDDDDDDBDDCECDDDD>A<@?A': 1,\n",
       "         '@@@DFFFFGFDFFII8C@EHHGHIJ+CHE;;FHG@CGGFHGI@GEHIHIDAGHHIIJIIGIIJIJH@AEHGEHGEFFDEDBCADAB=A@A@@CDCCD>C@': 1,\n",
       "         'CCCFFFFFHHFDDHJ@EGHIIJJJIJJJJIIJIIJJIJJJIIIJJJJICGGGIJJJJGIJHIIJIIIIHHH?CCEFFFFD?ABCCDDDBCC>CDDCB5:7': 1,\n",
       "         'BBBFFFFFHGHHHJJGIJJBHICGIE;FHB:EHGG;DGD=GHGEBGHFHI6EGICA@FDGE4;=5?2;@A=/;>??CC@@,><@09A@@C8???CA####': 1,\n",
       "         '@@@DDDDDHHAHH?DGGIGCFEGGIIIIIHEHIICGHGGCEHGIIGHEF)=>F;7CHCHG>>D7AEEA>BEC6;=;5(55=@B9C?59A>@C@@@C>958': 1,\n",
       "         ';=@DBDDDHA<CFIBGBGDG=;?+22AC3C:?<<F@D<?00)994BA;2BFH@;D==.@G=@>C;3?C################################': 1,\n",
       "         '@@@DDDDDDADAHFFGFG@G?CFHBFF*1:ECFBGFDAAFGHIFIEH?CGHGCGBE)=CDDHBEHBB@B?ACCA?>BBBCCC?855<CCC>A:@?>.<<>': 1,\n",
       "         '@@<DDDDDFFFDAAGEDGFGCHD<+AFCEGFIFFDGFFIIFIAFGGEEIDFE*??DFGGIEFF@>AFAEEEFFFFFDDD@BDC(;>>>;(5;;?BB>88B': 1,\n",
       "         '@CCFFFFFHHFHHIIJJEGIIJIJEHIGEHGIIIC@DFBGIIGEHDGHDIIIJIIGIIIJCGG@AEGG>7DHHFHAD@DFFEED>>CCBAAC?A?@CDDB': 1,\n",
       "         \"?<?DDD=DBHBB=ABFEHFFEDFGHIIIAD;DFBFF=D@@FG<FF@6@'=3=@A7@C85;?CCAA>ACCBB8<??>3:3>CCCCCBB@@@BCAC@<<9?C\": 1,\n",
       "         'CCCFFFFFHHHHHJJJJJIJIIIIIJJJJJIIFFFGIIIIHIIIGIIJJFGEHGFHHEFEFFFFEEEEDECDDDD@DCDDDDDDDDDDCC??ACCDDBDD': 1,\n",
       "         'BCCFFFFDHHHHHJJIJJJJJJIJJJJHHHII@DFHIIIJIJJJJJJJJJIIIIJJIJIHIGHGIIJGIIIHHGHFFEFEEEEEEDDDDCDDDDDDDDD@': 1,\n",
       "         \"@@@FDDDFH:DFHIGJHHHJ?AHGHI@AEH9;GB;CGGG7DABBBGDDFGG@F=A8C=;CHHEEH'5(;ACC>;>8AC:@C3:@@###############\": 1,\n",
       "         \"@@CFFFBDHHHFHGIBA9DF?EBAGCG@F=FHGCFCF>DGG?FEHJIGGIJGGGGBE2?EH?BFDDEDCDD3>BD',<CCC(8(3+9)2<?B(4>AC:CC\": 1,\n",
       "         '@C@DDBDFDHHHHIIFGIDHBHGGFEHB>EFFHIEHEHEFBEHIGEGGGHIIEHIDCHHG=CGECE?BDEEC9A@CA@?B=?<CDC@5><>>?AC:4>@@': 1,\n",
       "         '@C<DDFFFHHHHHGHGH+ACFHHICFGFHGF:CFFGCFCHIEEHIIIIGIIIIIEHBHGH@GEHHE5@DDCECCEC?BBB?BBCCCB>BB<CCCCC>CBB': 1,\n",
       "         \"@@@DFBDDHHHHHGFHIJIJI:?DGGHDHFFIIIIIIIFGBGHJJJJJIJIHHHHFDD<'>CCCCCACDDDC<<ABBBDDBDDDDDDDD?34(9<3<<BC\": 1,\n",
       "         'CCCFFFFFHHHHHJJIJGJIIIJIJJJIJJJIJJJFHGGGIJIJJIGHGEHGHIIJHHGHHFFFFFFECEEEDDEDDDDDDDDDDDC@CDCC@CDDDDDA': 1,\n",
       "         'CCCFFFFFHHHHHJIIIJJJJJJJJJJIJJJJIJJCHIIJJJJJJJFIJIIJJJIJGHHHFFFFFDDEEDDCDDDCDDDDDDDDEEECCACDDDACDEDE': 1,\n",
       "         '@CCFFFFDHHCFAGEHGHIGEHIDHI;DDHGGIJGIHIJGGIJCHIEIIJGJFHHHFFFFDDDBDDCCDCDDDDDCCBDBBBDDDADDDDDBDDADCDDD': 1,\n",
       "         'BCCFFFFDHHHHHJJJJJJIJJJGJJCGGHGIJJJJJJJJGIJGIJHIIJJJHHHHFFFFDDCDDDDDDDDDDDDCDDDDDDDCDBDDDDBDBD<CCDDD': 1,\n",
       "         'BCCFFFFFFHHHHJIHHHIIJJJJIJJDGHJIJJJFIJJJJCHIDHIIJIEHIHCHHF###,,;=?ACCCCDCDCCDDDDDDDDCDBDDDDD9@######': 1,\n",
       "         '@CCD?DDDHHHHHFIJJIJGHGIIJJEH>F@FGHGAGII;FEDHCGC4?EBAGGEFIGEAHDDFFCDDA3=(;5@AA>:AC959CAC;4:@DD:>>@@CC': 1,\n",
       "         '@CCFFFFFGH<FHEFHHIJJIJEIIJIDGBFGIJGIJIIJIFIIJJIGGHCGEHHHHDEEEEEDD?@>?@AACC@CDDDDDDDDB<ABACDDDD>@D8>A': 1,\n",
       "         '@@@FFFDDFHHHDGHGGGGHGBBHD<GEIJBIGJJJGJIB99=FHGIIJB3AC=<BCEDE>CCAADADCDDD@CBDBCDDCDD:@AC@?>BBBD@@>?AC': 1,\n",
       "         '@@@DFFFFHGHHFHIFHHDFFFGHEHGBHIIBFGDEHJJDDGIGH=FH1@H@HG;ACABBDFD;ABD1;/:ACC>@CDC>:CBA<@?BC@(39<@#####': 1,\n",
       "         '@@CFFFFDHDHGHIIJJJJJJJJIIIJGGIJIJJIGHIJJJJIGHDHHHGIJJJIFJGHGHFFFFFFFEDDDBDD@BDDDDDDDDDDDDDDDCCCDCCDD': 1,\n",
       "         'CCCFFFFFHHGHHJJGEHIJJIJFIHJJHEGHIJIJIJJIJIIJGGJIIIHIIJJJIIIBHHEEEEE;=C>BDFC>AEDDEECCCBDDBDDDDDCDCA@C': 1,\n",
       "         'CCCFFFFFGHDAHIFGHBHHIGEHIJGGAFHIGEGCHIHGJJJJ<BDHIGEIFGHI9@AGCECEHCEFFBCCC>;8,<A32<BBCD<@>:4:::AC?CC@': 1,\n",
       "         'BCCFFFDFDFHHHJIIJJJIJHIJGIIIJJIIJJJJIBFGHIIJIGJJJIJIHJEFHHHFDDFDEDEDDDDDD??6>CCDDDDDDDDDDDDBDDDDACDD': 1,\n",
       "         '@@CFDFFDHFHHDIIIIGGJHG<FAFFEGHIGJJJJJJ?FEFDGIIIIIJJJGEGCHEEFFFFFDEDCB?=ABD<;?CC@CCDDDCCDDDDBB<?CB?CC': 1,\n",
       "         '@@@FFFFFHFHHHIJJJJJHGIIIIGI;FHIEHIIHIJBDH;FHIJGHJIJJIIJEHHHFFFFFDEDEDDCDDDB?;CCDDDDDDDDDDDDDDDDDDACD': 1,\n",
       "         '??:DD>DD?DAAFEF@BHEGAAD<FFCB+<:?)CGH<FG78BDBCGFCFFHCHEHEFEEEFBBCC;>;65=;=ABB?8?:@@>>@>C:@?B@?8?A>B8>': 1,\n",
       "         'CCCFFFFFHHGHHIJEGJJIJIIJJJGGHIHIEGFGHIEIJGECHIJJGIEIHIJIIFIBBEDFF>CCCDDDBCDC@CCCDDDCDBDDDDDACDCEDDDD': 1,\n",
       "         \"CCCFFFFFHHGDHIJJJJGIJJBGHIIEHEHIIIIJJDHIIIIIJGEGHIGIJJGHEH:CCEDECEFFDBB;'5;=??BCC@B@B>CCCDCA>@@CDDDC\": 1,\n",
       "         '@@CFFFFFHHHHHJJIJJIJIHHIHIJHIIJHIEHIIIJIDFGGIJJJHIIJJIGIHHGGFF>DDCBBABDDDDDB@BBCDDDDDDDCCCDBDBB<?AB2': 1,\n",
       "         'C@CFFFFFHHHHHJJIIJJJJJJJJJIGHGGIIIJIJGIJIGIIIII?CEDEFFECDEEEEDCDDDDDDDDDDDDDDDC@CDDDDDDDD<BBDDCDCACC': 1,\n",
       "         'C@@FFFFFHHGHGJFIJJJJJIJIJJFIJIIIJJJJEIJJIIJEIIGIIJJJJJJJJHHGF?EHFHFFDCDBBD>;@?CCBDDCCDDDCDCDACCCBACD': 1,\n",
       "         '@C@FFFFFHHHCD@GIIIHII>F?EHAFGFGBFHIFHIIBHI?BDGEH>G>GGHIIEEFECBDFFA@AACDB@@CBDD1;8::>ACC>@:C@C?A8?###': 1,\n",
       "         'B@BDFFFDHGHHHJIJJJJJJIJJJJJGGIJJJJJIJJJJIIJJJIIJIIIJJJJJJJJJJIJHHHGDFFDDDDB>BDDDDDDBCDDDDDDDDDDDDDCD': 1,\n",
       "         '?@@FF>DDBDFHHIIIGIJICCDFCFGCGIHIEGIGCHFHGHGIGIIJGI@HCCHIJIJJEGGHHEEBEDCCCD89=ACDDDDBCCACDCAC@ACDBC?C': 1,\n",
       "         '@CCFFFFFHHHHDIEHHJJIIIJJ>HHFHIJJIJIJIIJIJJJ?DHHGIJGIIIIJJHHHHDFDFFD>CDDBDDDDDDDDDDCCDDDDCCACC??B8@BD': 1,\n",
       "         '==?DDDDDFA?DBFGEGIE>H:FGII8@0?F>E=DEBH@ECHIGIIIHIIGIHHADGG;7=?EFEABCBEDEECCCA@AB=;>?CA;;@>53098?:A:C': 1,\n",
       "         '@B@BDD?DADHHHIEHCBDHFEHIHH<FAEEB@F?GHGEEIJGI>;CCCBCGGGH@1=CAEAB>6)6@;;(;;ABD@CDB=??5>:>@@>(++::92<AD': 1,\n",
       "         '@@@DD?DFDFHFAGDH@FHFGAEGHI<CFEFFCFFBCF?GFFDH>6=CHGCHF@@@CECEE156@@ACC@@BB=BBBDDCB18<?AC(::AACCD9??BD': 1,\n",
       "         'C@@FFFFFGHHFDGH:?CDAG@GIGGGGEDGCC>@*:?D0@@60?;:;3@F(=;@@@47=37A).?).7?@C;;BCFACCC>AC5;>,((:5>A(55?33': 1,\n",
       "         '@CCFFFFFHHHHHJJIJFHIJII>HHHAFGHIIIJIIGIHIIJEHI6BFHII@GFIGEHH@EEBFFEEEDCA?B?=@BDDDD?BBDCD3@CCCCCDDDAB': 1,\n",
       "         '@@@DDDFFHHHGDIEGGICHGJDGIJFIJHEI@GHAEIIHCH*?FGIIJJIFEIJIG@G>GE;AHFF<=ACD?CDBDBCC>CCCCDCC>AB:?CDC:+>@': 1,\n",
       "         \"@;=BD?DDFFDFFDH:EE>FF>@CFC3<BB+@1?F<BD6A<@H@?A;FCA7=C;DACAEAC@;5;@@CCCC5'988;@995<<<&(+4+:@34:@CC<?<\": 1,\n",
       "         '@C@F<DDDHHGHHIEGIBHEHGE@?FHGEGHIIICHGGG?AHGEEEHIFCHABEE@AACEEADCCDDD@ACBD<@?CC>>(::>@BD<@B@@B@BD??12': 1,\n",
       "         '???AADAACFFHBEGAEGHDHFGG>@9:?EB?9?DHGHIDGHIE@<B9BA<G?B?F9;F)8C;CG;C@;DAHEAA7?@);???(66(;@;@@===C?###': 1,\n",
       "         '@@@DD@DFDFHHHIJGGGGIGIIHGBGE@BEEHHEDFGIIJ@0DH>GHHJDECDGGGIHHHHHHFFFDDCEEEEEDCADCDDDCA@>CDCCDD9<?@BBB': 1,\n",
       "         '@@@DFFDFHHHH?H=@FEIHIGIIGEI9CFGGIHIHIJJJIIJGGGEGIJIIHBEHBH<;?;;.?AEEC>CCCDC>CCBCCCDDACC:C>:AC>A:>@AC': 1,\n",
       "         'B@@FADFDHHGHGHIIJJJIJGHHGGEH@FHFGIGHIIIHIJIEHIGDHG;BCF@HHHEHHHFEFDDAA@>CCD?C@@(9@BDBBB?B>ACCCACD<CDD': 1,\n",
       "         '=??14024CFD?DFBFD@B?@CEC:A@F?B9<49C1?*CDGB:?@@FFIB(=)87@@EC<CA@D@@B(;(;(>9?@?<99???29<2<&8@#########': 1,\n",
       "         '@@@FD:DDFDFHHJHIIFGIFGGIIJJGHGEI@FGCGHGIIJJJ<DGFGIIH@DGIIJDEEBEFFDECAE?CDDDCDBDDDDBCDDB<@>CACCDDDDDC': 1,\n",
       "         '@@@FF1ADBHHHHGGHIIIIAH>GHI>HGFGGBFH?DHHHHIIGEDH:BE6-=ADGHIHAA7?D@>@AABB:;>A?C@AB?@BCBBB?B<A@>>>:>A>4': 1,\n",
       "         '@@CFDFFDFHGGHJJJJJJDGGGGIGGIJJAFIGIJIIJIIGGGIJIIGIGGHGGHFHHHFBEFDBCCC9AC=>@@DCDCFECDCCCDDD@>CDCAC8?C': 1,\n",
       "         '?@7DDADDFFFFABB,ACE@BBGGF<DHCEG@H?DF:DDGHGGFDIJGHG@F-6@EAHC;?9?D@C>A?,;A@CCDCC@299??CB?5?B99@C######': 1,\n",
       "         '@@@FFFF<DDDHHJEHHIHGHJCHFHIIEFGIGG?DH9FG@FDHIJGGHIGIJ;@ACEEEDDFDCCE@CB=;;@C>9AC@BA??BCBADBD93:ACCA>>': 1,\n",
       "         'BB@FFFFDHHHFHJJJJJIIGGGH<CGHEGIIHIBFHHIEDHDEHIEHIHGIG@CAEEHHDDFCBEECAB?AACCCBCCD?<?@BCBDB?B99C@@@C>C': 1,\n",
       "         '@@@FBDFFDHFHDHIBAHIHIGGCHJJIHF6DDFFB@GGHJJJIJGIIE@@GHIGIIIEHFFEHHFFFC@DF@C>>@A;@>>AAC?B?ACCCEEEDDDDD': 1,\n",
       "         '@@@DDFFFAFHFFIIJJIIJIIICHCHIGIEGIIIGHIBFHGIFHIIEIIIIHH;AEEHGFFEBBDEECCD?BBDCCBDDDDBDDDDDDD?@9CA@:ACD': 1,\n",
       "         '@@=?BDDDFHDH?DG@GBFHGCC3C?*??4?C4?F1?D0?B0?B?D@6@@GFBB5=37.);?C>1;ACAAB59(,53<9:<?B<?0+8?B<<3343+:@#': 1,\n",
       "         '@@CFDFFFFHHHHJJJBHAFGGIIEGEHIIJGGIJJCFHDGHHIIIGJJJJJJJIHEECDDFFEDDCDDCCDBABCCDDDDDDDBBDCB?B?BB?CDDAC': 1,\n",
       "         '=@=B1BDDF?@DFGGGCHC?CBHGEDF??C>DFGGAHHFG?DD3?)8B?@A@BA<B(67;7???69ABCCCCB<595:??C>?B(2<<CABB8<99@:4:': 1,\n",
       "         \"@@@DDDDBCDDF;E>D@FACAEGHIDH34?D@DGGIIEGFCHGGDF?@FDGGIIGFHHDCB'98<B?=;=A(5>C>@@CCCCC?@3@:C@:(::@CACC@\": 1,\n",
       "         'CC@FFFFFHHHHHJJIJIJJIIJJJIJIHHJIGHIJJIJJFIIIJJIJIFIIJJFIJJJJHEDDDEECDDBCCDD>CDDDDDDBCDDDDEEEDEEDCDDD': 1,\n",
       "         '@<?DDD?DB?BFHI@FGGHHGIFEH?GGGGEFGHHGIIIIFGEGGIIIDIIIIDHGHIIIBHHABE>AC@>;;5??C:5@:>CCCCBCC:@:>:>ACD@C': 1,\n",
       "         '@@@FFDDDHDFFHHIGE@BGGGBFFDGBBFHGHEHGEGIIGIGGIIBD>BCBFHBADFA@CCEGFF>EAD@DBDFAA@>@>5>@AC>@CCC3:>C>C>>A': 1,\n",
       "         '@@@F=DFDHDBHHJJ:EHHGIFEHBHCBFI?G9?DH>FFGFHBFH9DGDFCFHI>HIHEEB(6?C>CCCD?=5>@C<@8AD@C?<<C?(2<@BAB?B?B#': 1,\n",
       "         '@@@DDDDDFFFFFIIAAFCCGEE))):?C?<D<FEDGIFFEFBB>?8**0*7<6;A@E@DFF8BDB?BB5;>@@::??B??AB>?B2?@@BB?<A@@B?B': 1,\n",
       "         \"=?@DB?D;<:CA8A3EDGAFBF@C)?E?:?DFFGDHHE*00?BFG98BB?9?<86BFHIAG>4':<5='(5>=5@;85;?@A@,38028+49?C:(82<@\": 1,\n",
       "         'CCCFFFFFHHGGGJJJJJJJJJJJJJJGHIJIDIJGIIJJGHHIIJJJJJJJJJJGJIJJJHHFHBEDDECDBDBCDDDD5>CCDDCDDDDDDEEDDDED': 1,\n",
       "         'CCCFFFFFHHHHGJJJIJIJJJJJJJIHIIIJJGHJJIJIIJJIJJJJJIIIGIDGIIJIHHFFFDECB?BBCDDCCDDDDDDDDCCDCD>CDC>CCCDC': 1,\n",
       "         'CCCFFFFFHHHHHJIJIJJIIJJIJJJJJJJJIIJJIIJJIJIJEHIIIJJJJGIHGIIIIGIEHHHDBDFFCCECEDDDDDDDDDDDDCDEDDDDACCD': 1,\n",
       "         '@@@F?BDDDDAH>GIIDHIIGECHII+?ACGGHBDHGG@DCH?*98?D9DBGHFF@AHGIIIGH=CH>EH>?BAB99>BB()&058C?A<8?CCCCB###': 1,\n",
       "         '1=@DDDDDHDBDD@EEGIIAHHGGBGIHE?EFEHDFEHHHI39B8?FDGH3=FFGHGFHF3@=@A7?EFC?DD:3=99>?6?<@?>@>295<@@:+(8?<': 1,\n",
       "         'CCCFFFFFHHHHGGIGJEFEHJIHIJIJJIIGIJJFIGIIIJJIJIJIIIJJJJIJIIEIGIJIHDHHFFFFEECCEEEDDDDDDBDCDDDECCECDCCC': 1,\n",
       "         'CCCFFFFFGGHHHIJJJGGGGJJJJJJEEIIJIIJIIIGIIJJJJJJJIJEIJEEHIGHHIIJJHHGHFFFFEDCCCEFDCDDD??CACDDEDCEDCDC@': 1,\n",
       "         '@@@FFFFFFHHGHJJHJJIJEGIJJJBHEHEHIGIIJJIIIIIIIJIIIJIJGJIJEGDHIJJHEHHFFDFFCEEAEEEDDDDDDDDEDACCDCDDCCDC': 1,\n",
       "         '@CCFFFFFHFHHHIJIIIIIHHIJJJJJIJIJIJJJJEIGGIIJIJJI9DDDFGIIAGHGGECHIFHHFHHHFDD?@@CEEEEDDDC@BCCBDDD=BDDB': 1,\n",
       "         '@@@DDDADBFHHFGGGDHBGH;CHCHH3BFHHH<F3?FFHCBGHIBHGCF@H>FHI:EGHIGG;CEEFCDE@CCC;@C>;CA?BBC@@CCCD>C>AC3@3': 1,\n",
       "         '?@?D=BD?FF?AFGFFAC<C?EH?++AC2A;CE?*@CGIBG;?GGII@DGFE?BB?/.<B=@F4@;=3?C=?B###########################': 1,\n",
       "         '?<@DDDDBFH?FHIEHGIEE?FF>H<EAFHGHEHIIGBFFGIGG>B?B?9DHGGG@B8=8;=@;;-:??@CBDB;6;ACC>?-5>>;A@:::@CA5<B:A': 1,\n",
       "         '@@@FDFFFFHHGHIIDIIIJIJJIIEIJIJIIJIGIJIJIJJJJJJJJJIIGEGHIEHIIJIHHHEHFFFFFEEEEEDDDCDACDDDCCDDDECDDDDDC': 1,\n",
       "         'CCCFFFFFGHHHHIIIIIJJJJJJJJIJJJJJJJJIJIJJJJEICGHIJIJGHIJ@HIGIGCEIHHHHFFFCEFFACDDDCCCDDCCDCDCCCDCDDA>A': 1,\n",
       "         '@?@;:?DAAFDFFB>FA;I@F@B;BCGGAHGCGII=FDEII<GGBB?:FA6CEEEHEB;66=>A:;AAACC3:@>(5:A#####################': 1,\n",
       "         ';@?DDDBBCB?H<C?A<CE<<AHHBHIGI@GA<FCFGGAGFGEHHI9?DEH8899)8=FB<8=@A/(;?;;?>@@>>@A@CA=>CC:3@B@25@(<@BB@': 1,\n",
       "         '@@@DDD>:C?AFFFDAGGIIIEBACHGGGFHDC@CDDG:BD>@BFBBEG@B4B*7A=FHICCEEEHFEEEEEECC6;@@C:>CBBBCCCBBB@BBCCCCC': 1,\n",
       "         'CCCFFDFFHHHHGJJJJJIGIJJIJJIIJJIJJIJJIJJJIIJHJIHIJIJJJJJJJIJIJJJIIHHFFFFDEDCCCDEEDDDDDDDDDDDDACBDDCCD': 1,\n",
       "         '@C@FFFFFHGHHHJJIJJJIJJFIIIJIJJJIJJIJJIIIJJJJJIJJJJJIJHJJIIJ@CC?EEEEBB@CDCCDEEEECDDBCDDDEDCCCDACCDDBD': 1,\n",
       "         '?;@D?DDD:ADFHEGGEGGEGI@DH<CG??CDDGBFGGII4B<FBEFFGG4=FGHI;FF@7@EEH=AEHCHB59A>C>AC>@C>>(,:?A>A########': 1,\n",
       "         '?1@D?DA?FHHDHAGIIEIHICBHHEHICC?FEHGBHEFFDHFFH<BDGF4?F@BFC3=;;=@1=2=??@DB>>A;A9?CCCA>@A(:<?ACCC???B??': 1,\n",
       "         \"@CCFFFFFHHHHGJJIGJ?E@HGIJIIGCG<ECAGGHGIGIICGHGH@DGFHGFI';6C@H;DGCEGIGHGDHEFD@>?A?BBADDDCCDEEDDDD??>?\": 1,\n",
       "         'C@@FFDFDHHHHHIEIIIIIJIJIIJJCGHHGIEGGBGIJGJGIHJ@HHIIIHHFHHIGIIHIJEHCHFHGGFFCA@CDDBCDDDDCD@CCCCBCDDCDD': 1,\n",
       "         '@CCDF?;BDCFHG>EFGGIIEHI?HEGFEHGGHIHGGGGIII@EDHGG<D4DHDFFGCB;ABHGHEHHHHHFFFFEDECCAACBBBCB@A?5<CCCDDEC': 1,\n",
       "         '@CCFFFFFHHHHHIJJIIGIIHIIIGIFHEGHIIJJJJJJIHJIHHEHGIFGHIJIIEGHHHHHDFFFFEEBABBDBCC@@ACDCCCCCDDCDCDDDDDE': 1,\n",
       "         '???7D3AD?4A?DBD;;E9FA73A?<8?EE*:*:?@9*00BD;DD><DIB;1/A..77@C;7==)=)).;)7?A(666>AAA?#################': 1,\n",
       "         '@@@FFFFFFADFHIAFIHGGFFCB?FGEBD@BDFHCHGHHIGDHDHHHIIIIIIHDHHF>;?@DCCCEE9>?BDDC?>CCBDD:A4>CA@:>C3>C:4@>': 1,\n",
       "         'CCCFFFFFHHHHHJJJIJHHIIJJIIIHIJJIJJJJIJBHGHJJJJJJIJJIJIHHHHHHFFFFFFEDEEEDDDDCCCDABDDDCC@CCDDDDDDDEDDC': 1,\n",
       "         'BCCFFFFFGHHHFHIIIIJIHHIIIJJHIIIIJIIJJIJJFIIJJIJJIIGIIJJIIJJHHFHHHHDDDDFECEECDDDDDDDDDB>C;@CDDDDDCDED': 1,\n",
       "         '@@CFFFFFHGHHDHGIIGHGEEHEAFHIJIEHIIIGGGIIIJIIHIIIGIJIGJHGHHFFDDDEEEECEDCDDDACDDDDDD?BBBD@CDCD:(:@C>@C': 1,\n",
       "         'CCCFFFFFHHHGHIIJJIJIGIJJJJIGGGGGGIJJJJJJIJJIJIJGIJJIIJIJJJJIIGGEHIFHGFADEFDBCEDEDDBCDDDDDDDDBBACDDBC': 1,\n",
       "         'CCCFFFFFGHFHHJIIIJJIJJHHHIJIGGIJJJJGGIJJBHEHGHGHIGJJJJHHHHFFFDFEEEEEDBCDDDDCDDDDDDDDDDDDCCACCCDDDDDC': 1,\n",
       "         '@@CFFFDDFB?BDFGG@GAFFHEDHIDBHCGIEHGGIIICFE@FCBF=BFGABBEEEFE).77>@@>>C5?>@@C@>CCCCCBB9?<<44:4@4>CCCCC': 1,\n",
       "         '@@@DFDFAHHHHHJEBGGIGCE@FHGBEEBHHEEGIGIGIJIIJFHIJIIFDHHHJIHACF>DHIEIIFHAE:>BAABBDDBB>@CCD>ACCDDDDC@:@': 1,\n",
       "         'CCCFFFFFHHHHHJJJJJIJIJJBHIJJJJGIIGIGIJGIJHGGIJJIGJHIIJFIDGIAHFHDFFFFDEDD;@CCDDDCDDDDBDDDDDCDB@<>?@CC': 1,\n",
       "         'CCCFFFFFHGHHHIIJJJJIIIJJD69BDDBDDCDDDDB?BCDDDDDDDDDACCDDEDDDDDDCCCCDDDDDDDD>ABDDDCCDDDCDDBBBBCC@CCDC': 1,\n",
       "         'CCCDFFFFHHHHHJJJJJIIIJJJD<BB@DDDDDDBDDDDDDDDDDDDDCCACCDDECDDDDDCACDDDDBDDCCCDBCDDDCDDBDDC@B?BDDDCCDC': 1,\n",
       "         '@@@FFFFFGHHGHEFHHHE>FHICIEIJIJJIIIIIHGIECGIEGGIJJJJJIGIIJACCEHFHFFDEECC@CBBBBDCCCDDBDBBCCCDDCDDDDBDD': 1,\n",
       "         'B@CFFFFEHFHDHIIGIIIJJIIIJJJIB36BDBBD?ACA@BBB@<BBDBDBDCC3>>CACC>CCDDDDDDBBD?ACCCDAACDDCDCCAAC?B???@CD': 1,\n",
       "         '@@@DDDDDDDDDFH>??DCE@@C;>6>@;>C@;;>BBBB0607-05<898:&558&2<5)7-73>:@:A3:>3:>@C:@>@48(+<9C>3(2(39C>.?#': 1,\n",
       "         \"?@@???DDFFDAFGGEB@@?@AA',=C@>>C>@5:@>A>>AA@AA>(8?<@@BBBB2758:9?@?8?@?8<;>955@C:>>CC(:>@?CCCDCCC??B<<\": 1,\n",
       "         '@@@DDFFFHGDFGGIJJJI9FDFBFHJCBB@DEFHHHEHEBGHGHIIICGHCGH=FEHEHJI@HIIIEHHH;?;@?BCCBABDBD;A>AC9?@BD?CDAA': 1,\n",
       "         '@@@DDFFFDADFHIJIGJEBI>FGCG;FGHHIJJJIIIGE>DGGGHIJJGIIIHIDIEGDEHIG@8@C?EHEHDDFCAC?BDDDC?=;@9@<9@B<A9C#': 1,\n",
       "         \"7??DDDADFBDFFI4?F@DBC;3<EH?EEEIEDCGF<BF;3C@GF><F9B3DC;9BBF?BCBF@A6@EE/<((';('8;=(,,,<<?(00093>><?BBB\": 1,\n",
       "         '@@@DDFFDGDDFFIJHIIIIJDCGIIGGGCFGB=A@BE@CEA4?/?BA9;@=;=;888;75?8>:@>C>A89(3><CB99@?BD?B8?A@##########': 1,\n",
       "         '??@DDADBF8=+CGHDB?EGHGEHBFGB<FE?ACGEEDGF;>GFDBGGBDFHIID?=AFGIIG@7==CA;7?CE3=;?7;3?CB@?BBBBBB########': 1,\n",
       "         '@@@BDBADHHDFFIEFGGIJJIJHIGIJIHGECGGBHIIIIFIJGGIGGGGIIHIGCGEI<FGFFDFFHIIDGGHHFDCDEDD@=?;9???#########': 1,\n",
       "         'CCCFFFFFHHGHHJJJIIIHJIIJJJJJJJJJJGIGHIIIJJHHFDDCDDDDDBCD2<@BBBBB;BDD@A>>AC<?CCD@CBDDBDBBBA?B8?C(:AAB': 1,\n",
       "         'CCCFFFDFHHHHHJIJJJIJJIJJJIJHIGIGIIIIJJJGJJJBHGIJGIJJJJJJJIJIJJJJJJJJGGIHIHHDFDEEDD=>BD@DB@<BDBDDD<CC': 1,\n",
       "         '@CBFFFFFHHHGHJJJJJJJGGHGEHGIFIJIGIIJJHIJGHIHIJHHFDCDBBBDDDBDDCBADDBBDDB-<?>>C@@CC?3:A:>CC><-82<A####': 1,\n",
       "         '@@@DDEFFHFBFDDGIGIJJJFIIGDHGGHG9DGCHIGIE@FE;6;<AB>AC@@DBDD<:<5<2<@BB>BB9??CCCC>4>?(+99<?B>9>@@BDB###': 1,\n",
       "         'BCCFFFFFHHHHHJJJJJJJIJIIJEDEHJIIIJGHJJJIIJIDIEHHE/=ABDBDDDDDACDBDBB@BDB>BDCAA@ACCBCCDDCDBDDDB8<BAB?B': 1,\n",
       "         '@@@D?DEBF?CFDIGGGHHGEDAHIIIIIDHIHIEBFGHIIIIIIIDGDFHIIIIIIIAEEF3=9?BCAB>BBBCCBC?CCAACBCCCBBBBBCBCCC?>': 1,\n",
       "         '@CCFFFFFGHHHHJJJGHGEHIJJIIJJHI:BGEHIIIGIJGHJHFFFFEE;ACCEDB@BDDDCA>ACDDDB>BDBDDCAAC:A@ABCBDCCDB???B?C': 1,\n",
       "         'CCCFFDFFHHHHHJJJJJJIIHIGIIIGJIJJIJIJJJJGJIIJJIJJHGFFFDDBDDDBDDCDDDDDB@BB?BDBAB@BBDDDDDDDDDDDDDD?BD?7': 1,\n",
       "         'CCCFFFFFHGHHHAHIIGIIJJJIIIJDH;FHGIJIJJJECHEEHFEFDFEEDDDDDDDDDDDDDDDDCDDDBDDDDDDDD<BDDDD9?>@<BDBA8><>': 1,\n",
       "         'CCCFFFFFHHHHHJJGHIIJIJJIJIJIIBHGHIIIIHHHHHFFFFFDEEEDDDDDDDD@BD7BBDB?BBDDDDDBDDDDDDB@BD>>BDBD@DDDDD8C': 1,\n",
       "         'CC@FFFFFHHGHBEHIIDHHIB>GHJ?FEGIFJJIJHJIJGEHFFFFDFECEEDBDBBDDDCDCDBB7BBDDBBDCDDCB@8<ABCDDDDDDB@CD:?BD': 1,\n",
       "         '@@?DFFFFBFHHHGJIGIJIBHIGHIIHGGGHGHIIJBHDFEFFDEEEEEDDD;?B<CDCCC8;BDB?@BBB;<A<ABD<?BDDD7?88?@0?999@###': 1,\n",
       "         \";;?DDD8=<C:+<:CE?3<<C+<2?)@1*1?;0:90:?D9?3?82B;C('-;-'':59>@AAA@;A-;>=>A############################\": 1,\n",
       "         '@C?DFFFFHHFHGJIIGEGHGGFEBGIJIJGECEGJADHHIJJIIDIIGICEGFHGEBEGCHE@8?DDAAC(;==AB>CCDCCDD@AACDDC<C<CCAC>': 1,\n",
       "         '@@@FFFDDDFA:D;B<B@BBFHHGIIFIIIIHBG@FHHH=DFGDGHIHG9FEH@>>CHGEE<<D?8.;;6@;;28;=B9>B0<8<CC@CCA@@>B<B<?A': 1,\n",
       "         '@@BBDDD@DDDBBCCDDDDDBCBDDDDDDCCCDDEDDDCCB8@BBD:BB8?CCCCCDDDDD@CCB@?<@CC>;)558999>B??################': 1,\n",
       "         '@@CFFFFFHHHDHIIJIIJIJJJIJJIIIIJJJIJJJJJJIJJGGIJHHIJIJIJJJEGGAHHFHHHFFBD>CEEDECDDDCCDDDDBBBBBD(<4>>@9': 1,\n",
       "         '@@@FFFFDHHHHHJIGJIJJJJJIJJJIJIIIJJIJIIJJJJJIIIJJIJIFHEHHFFFFFFDCEEBBD?BDDDB?8?@BDCDDDDDDBBBDDBDDDDBB': 1,\n",
       "         '@@CFD@1DFHFHHIFHIIJJJJJJJJJ):6:;FHJJJJJIGHGE>CGIIJJHHBEEFFFFFFDECEDDDDDDCD(<?:?DDCDDDBDDDDDDD<BD?BB<': 1,\n",
       "         '@CCFFFDDHGHHGICGHIJJ?FHIIJIEHIJJJIJIJGIGGHIJJFGIJGGHHCEACDFFFF;@(>ABDBDBCDDD?BDDD?C:?89AC?CBB<BD<@?@': 1,\n",
       "         'CCCFFFFFGHHHHJJJJJJIJJJIJIIHIJIIIIGIGJIJJJJJJHGIJJJGIJIIJJJIGHHFDFDDEED@?CBCCDDCCDDDDD@CBCDDDDDDDDBC': 1,\n",
       "         'B@CFFFFFHGGHHJJGGIJJJJJJJJJGHHHCHJIIJJJJIJJJJJJJGJJHGEHHFFFFFFEEECDDBDDDCCBBDDDDD9ACDDBDDBDDD@BB?B8?': 1,\n",
       "         'CCCFFFFFHHFHHJJJJJJIIGIJDGGIGIGJJJIHHGGIIFIIJJIIIJIJJJJJHIIIIIC>EEGEFFFCEDB?BDDC>AB?CB@CCDCCDCCCDDC?': 1,\n",
       "         '@C@FFE7DHFFFHIIIDFGGGJJJJIGGHGEGIJJJJFDFGFGIIJJJIGHIGJJJIIIIGEEHHHDFDDD@BCC?BACB:CCDC@@C:>CD?BCCD8@C': 1,\n",
       "         'CCCFFFFFHGHGHJJJHIJJIIDHIJIHIHIJJJJIJJJJJIJGHIFEFHFHIIIJIGIIIJHHHGHFCFDDACCCCDDDDDCCDDDDDDDDDDDD@DAC': 1,\n",
       "         'CC@FFFFFHGHHHIIGIIIJJHIJJJIGCGIHHHFBDBACABCCDDCDCCCDCDDDDDCDCDBDDDCC@CDACBD<?BDCDDDDDDB@<CCDBDD@B99@': 1,\n",
       "         '@@@DDDD8CDH)<<?FGGIIIIIGHIII)((=@CC@BECBEEECC@B;?C>>AACCCCCCCC>CB?@C??CCC>::C?2988?88899<@<>9>B092<9': 1,\n",
       "         'CCCFFFFFHHHHGJJJJJJJJGIJJGHHHEEFFFEDEDDDDD@BBDDDDDDDDDCDDCCDDDDDDDDDDDDDDDD@AC??CDDBBDDDDDDDDDBD9A@B': 1,\n",
       "         'CCCFFFDFHHHHHJJJJJIJJIJFIIGHHHF?=D;BCECEEDDDDDDDDBDBDBDDDDDDDDCCDDDACDDDDDDDCDCDEAAC8ABBDDDDDDDBDDDD': 1,\n",
       "         'CCCFFFFFHHHHHJJIIJJJJJJJJIIDIIJJJJJJHIJJJJ>GIJJJJJIEHIIJIHHHHFFFFECEEECCDDDCDCCDDDDBDDCDDDDDADCACADD': 1,\n",
       "         ':??DDDD<82@?AFDFHEE@9CHFA1?CE?F?DF;8094BFF)0?3(9?<-=2@@AGAH<)(;;76>3(.;(>;>>AACBC###################': 1,\n",
       "         '@@CFFFFFHHHFBBHIGFHIIGIIBHGHB@7ABCGB4=??ABA;5=BDDCCDDBDDBD?B-<(22>C?>CCDDDCA>ACCD?CCB(:?(4:@C#######': 1,\n",
       "         'CCCFFFFFHHHHHJJJJJIIIIIJHJJJJJJJJJGHEFFDEDDDABBDCDDDDDBB@BBD@DBDDDDDDDDDCDDCDDDDDDDDD?CDDDDDDCBDDDDD': 1,\n",
       "         '@@CFFFDFFBHHHDHIIGD;FFCHGHHIFE;EHF>?FFGEHIHIIIIIIIF@@@=CDC=@D97=?A;?BEFDCC@CAE?=;5;@ACD@C:3:ACCCCBDB': 1,\n",
       "         '@@?BDEDDHDFFF1CGHEHGIIGDGI>F@CDDHFDDF?B9?BCDE)899;BFHG3=@84AAD@3;=;;@@>;>55>=;>>@5<:@CA(:>39AC######': 1,\n",
       "         '@C@F@FFFGGDHHIGGIIGIJJGIBFHC<FDFGGGBHBE@?@4;BEEFFCDDDDD?@=?A?>@CABD<BB>BBDDDDBDACCCDDDDDDDDDC9?CD<<8': 1,\n",
       "         '@@@DDFFFGFFFHHIIIJJIJIGIGJIHGIIJGFEIDFHIGEEGABBDBBBBDDDDBD9ABD@ACBBDDDDB@BDABBDDDDDDC?CCC:@CCDD?39<?': 1,\n",
       "         '@C@FFFFFHHHGFJIJJJIJIJEIHGGFAFHGIGHGFHJIGEGIFHHHFBBAB@BDDB?:<9?C:@CABB??BBDBDDD?BCDACDCD>C>>(>@CD<A<': 1,\n",
       "         'CCCFFFFFHHHHHJJJJJJJIJJJJJJJJJGIIJEHIJIEIJJJIJJGIIIIJJJJGIEGGGHHFEEHFFFEDECB?BDDBB:@C@CD9ACC?CDDDD##': 1,\n",
       "         'CCCFFFFDGHHGHIFHIGIGFIIJJJGHJJJJJAHIIJGIJJJIGGIIIIHFFDDDBBD@BDDBDD<A?C>AAA<AB?BDDBBDDDBDDDDDCCDCDDCD': 1,\n",
       "         '<:?D;@?DHHDDBF9<ACC4CAAG9CA3:?FE?FA49CD>6?B?FFGDDGGCA@3C<82@/@@AA=D;);(;;C>>;?@;@B@&5?##############': 1,\n",
       "         '@@@DDFFFHHFHGJIIEHEHIHJGGGIIIJJJJJIHJCFGHHGIC@FCHHGIFHFC?BDDDD=;BBDDDB310>4>>B@ABDB?BBBBBBBCDDDDCCCA': 1,\n",
       "         'CCCFFFFFHHFDFIJIIIHHHIIJGCHIIJIJIJIGI?D9DFIIGGH>HIDBDGDDDDDBBB25<B8ABB?<@C>@A?@BBDD?BB&8?ABCDDC:??##': 1,\n",
       "         '@C@FFFFFHHHDHIJJIJDFEHIGFGGEIII>GEFADEFGIIJJJHICDHB@EH@HGHAGEEEEB:<C?B;B;?<@@5<<<?09?BB>A:>A08A?BBB?': 1,\n",
       "         'CCCFFFFFHHHHHIJJJIJIJJJIJJIJIJJJGIIIJIJIJJJIJJIJJIJJJHEIJGJFJHHGHHFDCBBDDDDBDD>BDDBDDD3<?CDDDDDDDDB?': 1,\n",
       "         '@@@FFFDDFHGHHJJIIIIIGIHHIGDAGE>>?B-;-;@CAC:A?@BDBB@C?3:A3>CAC3A;BDBBCBBBDBCC<<>+::>@4:<AB@834><@####': 1,\n",
       "         '@<@7A;?88?F6;8?:E)?DFCD2BD=FFF?;;@C(;C=)==7@CC######################################################': 1,\n",
       "         '?;<7AD61+:@?CF61CF<FF:BFEEI@FFD@FA=(.;;C;;=7=?)?7;(77;AB>>A>;=;;(5>3@>:,;;:>?(+00899((+92>02?@?>38?#': 1,\n",
       "         '?81?DD=ADDD?11)?@DDA8@DD<2((==;B;DD;CCD;A=?C;A7)).;@96@AAAAA:>;5<AA:5>>>>3,5>>A#####################': 1,\n",
       "         '@@@DD:@7DF1:CGHIG@GGIGIGIIGFGFBGG7CFEIII=CEDDECC?@E;;@(6>CCCCCCCCCCCA:B@@@C@5>CCB>5>B-5-9<BB098<B<?B': 1,\n",
       "         'BCCFFDDDFHHHFIJIHDGBHHIIIIIIHIGIJJIJIJFIHHGHFDEFDEEEDDEDDDCDDDD@@A@CDCDD@CCBBDDCC@DDDD<<-5995<89@09?': 1,\n",
       "         '@CCFFDDFFHFHHJJIEEEIJIGBHIIG@FGIIDCFIJIJ@EEHEDDBADCCEC>ACCCBCDD>CAC@CCCD>>>>CCCCC@C@C3599@BDDB<9B59<': 1,\n",
       "         'CCCFFFFFHHHHHJJJJHHHIJIJJJJIHIIHIJJJJGIIJJJJJFD;BDD?CACCDDDAD??B@DDDDDCCDACCCDCDD@BDDCBBBDDDDCD@CDC>': 1,\n",
       "         'CCCFFFFFFFHGHJIJEIIIJJFIIJJJGGIJIGGIJJJFGHHFFFFDDDDDEEEDECDDDDDDDDDDDDDDDDDDDDEDEEDDDEDDDD>9@BBDBDDD': 1,\n",
       "         '@B@FDFFFHHHDFHHBGHFHJJIJJJJGIGIIIGJJHHHHFFFFDCEDDDDDDBDEEEEEDDDDDBCCCDDDDDDDCC@CDCDDEDEDDDDBDDDDDDDD': 1,\n",
       "         'B@CFFFFFFHHHHIJIIJJJFIIGGIIJJJJJJDIIIGI@GHIJJIIJFFF9?@EE@;A=@DBDBB@DDDDDBDDDDDBDDACBC>CDDDC9:59<3>CC': 1,\n",
       "         '@@@FFFFFHHHHGJIFBEEHIJJJDIIJIEEHIAG=BBAB>9(,;?BA;<BAAA?9<<?BCDDCC:(:>AC:@CDACDCCCA4@@>@>:44>4>A#####': 1,\n",
       "         '1@@DDDDD@DAFAGF<CFEEGGGCFEHII>@F6@=DG8EE8@C;?BBB?ABBABBB?ABDDECCC@CC:8>>>ACC:@:ACC>CDEDCD###########': 1,\n",
       "         '???;BDD<:(?D7=B37@;C@7@CCC<D=@?A>A@>B###############################################################': 1,\n",
       "         '@@@FBDFFHHHHHBGGGGEGBGIJJIJ:;DHGGIJJG@AHG<EFHFFFDCDDBDDDDBBBDDDDDDDBD?BCCDDEDDDDDBDDDDCDCDDDDDCACDC>': 1,\n",
       "         '@@@DFADDHFHGHJJJJIJJIGGIJHHIJFBDECGGIGGIJCGAHHFFEBC?BB?BBDBDDB?CBBCDDD7<?CD@DACDDDCDDDC>@A>ACDCD:@@:': 1,\n",
       "         '@<?D?DD?FDFHFIIDHG;;CAEFAFBFHHHEGGGBBBBBB3>3>CCACCB<?B@B@885-?A>>>CCA:;8@?8@<BB<?CC?CCC@C>CCCCB<?@##': 1,\n",
       "         '@@@DBDDDHHGHHIIGFEHHG)CGHFCGGIFDD==;@>AC;5AA?98@:B5233>@@ACACD:@5?8?<CD<@BD@C99(>>A@################': 1,\n",
       "         '@@@DDDDD?FFDFFFFEE::)?D<GEFIIEIB<FA=@=@?B59155<?B@@A?<>@8?ABBBBBB;;B:A@@B@?BBA(2:1:@::2(++>@7<<9:@A#': 1,\n",
       "         'CCCFFFFFGHHHHJIIJJJJJIJIIIJHGHGIIDHIJIJJIIJJIIJJJ=DHIJHGHFFFADBDD;BBDDDDDBBDBBDDDDDDDDDDDBD@DDDDEDCC': 1,\n",
       "         '@CCFFFFFGHHHHIGIIIEGHIJIJJJIJJJJJJJFHIGJJIIJJJJJJJJD@EAEEFFDCBCB@DDB?BDBDDDDDBBDB8??<CBBC@B<<A@BCDDD': 1,\n",
       "         '@CCFFFFFFFHHHIJJJJIIIHIJIIIIHGIJGHIJIJIJIIGDGIHHEIJEGIFFDFF.;ACCA?BDBBD@@@@@<>AA@DBBB<?BBBDDDDDDCBD8': 1,\n",
       "         '@CCFFFFFHHHHHJJJJGIJGHIFIGGGGGIJGEC@GGGH?BAFGI6BH@@E<395?B(8;B-00;+8+33>:@::95<BB55?A>C<A?B#########': 1,\n",
       "         'CCCFFFFFHHHHHJJIGIJIJIJJJJJIIJIJFHHFFFEDDDDDDDDDDDDDDDDDDDDDDDDDDDCDDBBDD;BBDDDDDDDDCDCDDD??BDDDD@BD': 1,\n",
       "         \"?@@DDDDDDHCDFDFHA<CCGA;?DGGHHIHGDHEIGGABFGHGG=FHGIIGEIHHFE='(.(3;;CCACC3=ACCBBBBB3<A8()0<@B@C#######\": 1,\n",
       "         'CCCFFFFFFHHHHJIIIJJJJJJJJJJGGEHDHGIEIFHHFHIJGHIJIIEHHHFFFCDCECCDDDDDDDDDBB@7<CDDDDDEDDDDBDD@ACCDDBDD': 1,\n",
       "         'CCCFFFFFHHHHGJIJJJIJGFFGHIJJJJJJIJDHIIEGIIGHJIEGGIJJFGIGH=AEHFF5=A8;?B(8?B<:?A<?BCD+::AACBBDDD@<@<B#': 1,\n",
       "         '@@@F?DDDHHHHHIIGHFHHIIII8@GFHEHCGEHGIIGGHGHHHDFFFFCCCEECCCCBBBCCCCCBBBBCCCCCCCCCCCCCCCCBACBC>@BBBCBC': 1,\n",
       "         '@@@<A?@DHGHGHJJJJIHIHIJJI<F<FHGI>3??EEFFFFFFCEECCCDBDCCCD@C?B@BC>>CB?BB@@A@4>:>:<AACB99@B?32<>@?<??<': 1,\n",
       "         '@BCFFFFFGHHGHJJJJIIIJJJGIIJHIJIGJJJEGIGIJJJJ7BFAHIIIHIHHEFFFDEED>;A@CCDDD??<@@BB@B<BCDDDCDACDDCBDDB<': 1,\n",
       "         '8?@DDDDD>0<?FDDG@BBD=F?FFFFFF;;@EB<B7;@ACCBABBBAABD@>?BB@5>@B:>?@18>>@BB8805@3(:@BBB?BABB@<BBAB#####': 1,\n",
       "         'CC@FFFFFHHHHHJDHGIGJJIJEIIJGIBGGEII6BFBHIJCFGIAHGHHHDHFBCDFEED:@BDDDBDD9@BB@CACDDEC@CC?BB?ACD@DB<??B': 1,\n",
       "         'BCCFFFFFHHHHHJHGIJJJJJIJJJJHIIEIGHD@BCGHJHHIJHIJEEGHDFECCA>==?=(,,5:A??BB5?>>CDDBDBDBBDDDB3092&55>B?': 1,\n",
       "         '@@@FB:BDFDHDHF@CFHEIFGDDIGIAHHGIJJ>BBDDDBCDCCDDCDDDDAAA>AABBB@ACCC@ACB?BCA@:@A?B@CDCDDAC:<?C?>BBDB99': 1,\n",
       "         '11?1ADDDHHHHBAFGHGIH>GE;FDH41?FGFHEG?FHGBGCHGGI8BFGII(@A:AHB(;=B??@CBBBC@:::>:<<BBBB@BBB<99&<B?4@434': 1,\n",
       "         \"@CCFFFABHFHGGJBCGGHHGIIDHCGE4EGHBHIGIGGEH?HEIC@BEG@DC@FG-;B'5?A5;=@=A@>B@?<ACCC@>CBBBDBD@DD@999?>:A@\": 1,\n",
       "         \"@@@FFADBDHBDHIF:C@@DDF@C@FHE1==EDCB5'=AB?BCCCCC@::>@@AAC<::2722:>:>>>A?88>CCCB2(+0+:(4@ACCAD(+99<<@D\": 1,\n",
       "         'B@CDFBDDFFHHHJJJCFGIJ?FIIJJ;F7@CHHHIAEFF@CDCDEDDDDDDCDDDDEDDDDDBCCDDDDDBDDDCCCDDDDDCDDDDDDDDDDDD@BDD': 1,\n",
       "         '@@CDDFFFDDDFHGGIFAAFGGGEHGGICG@?ECEEF4>BBDBD@@@AACCDC9ACC>CCCA;@@CCCD>@9<8<(4>A<<<?BACCCC@CCDBCDD<B@': 1,\n",
       "         '@@CFFB?DA6FDHHGGHGEHGCDHCDGA@EHHFEBDDECCCCCB=B?::@>A@::ACCAB@CCCCCCB2?@B9+89A??AA<AC:4@B@?@@&889??BB': 1,\n",
       "         'CCCFFFFFHHGGGJJJJJJIJGIIGGH;BGHHHHFFFFDDDDDCDDDDDDDDDDDDDCDDDDDB?ABDB8ACDDBCDDD@CCDDD8?B@BDD<B@B?CBD': 1,\n",
       "         '@CCFFFDFHHHHHIIJJJJBHIJJHIIJIJCH?CHFFFDA>@BDDDCDEDDDDCDDDDDDEDDBDD?ADDCDDDDB?CCDDBBBDBDDAA@CCC@BCDDD': 1,\n",
       "         '=@@DDDDAFAFFFIIA)::CDEA1:<6@5:??;,(55>,55;;8=;855022>A<ABB:@33:3>(44:<;B?@@>@:><8?BB>:><?###########': 1,\n",
       "         'CCCFFFFFHHHHHJGIIJIIJGGIIGIIJJIIGIJJIIJHIIEHHHHHBDDFCEEEEDC@ABBDDBADCBBAB@DCCCDB?8<>-8?BB@BDB>?9???C': 1,\n",
       "         'CCCFFFFFHHHHFI@GHIFHIJJGIIJ-;EHHEDFFDDAB?CDDDDD=BBBB?BCDDDDCCCDDDDDDEDDDD?BCCCDCCDBDDCDDDDDBDDCDDDDD': 1,\n",
       "         'C<BFFFFFHGHHHIGGHIJJJJIJJJGIDGJJJJIGIJJIIJJJIJJIJGGGHHFFFFEDDCDDD@CCCDD8?BB?@B?B@BADACABBCB+4>CCCDD8': 1,\n",
       "         '@@@FFFFFFHHHFFGIHHIGIEHCGBHCDBDH?DGI6BGI6@FHHHHIH7AEHFFFFD(;=>@BD8>3<CCA:AAA@ACD8@B?BCC?BDDDDD?BA?9>': 1,\n",
       "         '@@CFFFFFFHHGGJJJFIBHHIJJ?FH@FGIFHFI?CHIGIIJJ;CEGGGFFF9?BDDDDDBBBCDDCDDDDDDDBBD@BCDBDDBDDDBB?B?ACCCCD': 1,\n",
       "         '@<@DDDDBFDFDFGHIIICHHIIIHBHII:CGGEFCHGDFBFGIGDFGEGHH65;;ADEEECACCB>CCA@C=@B(58<><@0<&+>C>34:(::@CABB': 1,\n",
       "         'C@CFFFFFGHHHHIIJJJJJJJJJGH:DFGHIIIJJJ;EEEE?BDDDDBD?CDDDDD=BDDDDDDCEDDDDDDCCCCDEDDDDBDDDDDDDDDBDD@CC<': 1,\n",
       "         '@@@D=DDDFFFFFIIIIIIIIIII?G?DDBGHHIIGGAGEHD;A=?=BBB5>>@:?B=BBBB<8AC@CCC@ACCCCAC>:(8928AACAACCBBBCCCC@': 1,\n",
       "         '@CCFFDFFGHHHHJIJIJJJIJJJGIDGGGHIJJJIIFGIHFBDDDDDDD?CDDDDD;@BDDBDCCEDDDCDD@C@CDEDDDDDCDDDDDDCDDDDDACB': 1,\n",
       "         'CCCFFFFFHHHHHJEHIIJGJIJJ@F:B?DDHIJJJJ;AHGEBCDDDB?B1:ACDDD8;@B@BDDDCC>C>CACDCCDDCCBDDDCDDDCCCDDBCCDC@': 1,\n",
       "         '@@CFFFFFHHHHDIIJGIJJJIJIJIJ?FFHIJDFGDHIJBEHIBGIIIIHHH?CFFFFCDDDDDDDDDBD9@DDDCCE=CCDDABDDDDD?@BBDDD<A': 1,\n",
       "         'CCCFFFFFHHHHFHJJJJIJJGIIJJJJJJJHJGJBGIIIJJJI<BDBBDBDBBBBD?CDDDDB8>DDDDDDDDDDDDDDDDDDDECCDDDDCDCC>CCD': 1,\n",
       "         'CCCFFFFFHHGHHJJJGHJIJJJJJGIJJIFIIIIBHGIHHGIIJJJH?CDDD<BDDDD@B2?CDDDDD@BDBBDDCCCDDDACCCDCCDCDDDBBACCC': 1,\n",
       "         \"@<@BDDDBF?DDHIGEHHHEGGH@GC@@E)?8@HDBED(<'5A8AAHEE@@B:5<5?7?BBB@AC:ABB&5>B;08AAC>@C:4>CCCC>C4>A@<84:@\": 1,\n",
       "         '@B@FFFFFHGHGHJJJJJJJJJJJJIGIGHEHIJIIIIIAFBHIIEHIJJIIGGCGEG?ED=719??199>A?AB<CD>CDDDDD<BDDDDDD<555?CA': 1,\n",
       "         '@@CFFFDFHFHGGIGJIIJGGGGIGGCHHHJIJIIGEDEEGGIIIICEHDHBDBDDDDBD<@?<<C@CCDB5;@B@@BDDCC@44(+:@CCC>CAAB@?>': 1,\n",
       "         'BCCFFFFDHHHHGJJJIIJJJIIIJJJCG@GHJBDHFGEGCHHJHIJJJJFHH7?CEFFDAD?BDDDDD;B;BCCDCDDEA>CCBBB7ACCBBDB<@BBB': 1,\n",
       "         '@@@DDBDDHF<FDEGHH@EHBGGDCFBBB?CF8:?FDE<?BA6BFHIBGGII/;<?C@B(</28&5(088?88&((+(:8<0<BB@B?############': 1,\n",
       "         'CCCFFFFFHGGGHIJIJJJIJIJJJIJIIFHIJJJJJJIJIIJJJJJJIJIJEHHDFFFFD=BBDDBBBBDDDB??CACDD95<B@?B@CDDACCCCDDD': 1,\n",
       "         'CCCDDFFFFDFHHFIJJJJGHHIGIIC;CHGGHJ=DFDBHCHBEGCEEHJCGGEHHDFFDDDD?BB7B<;@BD<@5?CA@3<<9@BD<@BCADD@CCC@C': 1,\n",
       "         '?<@DD<B+:CBFFFAFHHC@DCHEI>?+:C;EFIBEBGHIEDHE@:F@BB8;A;@==CEHB;?A8;22;<>B@BB<52+:>3<B055>B?B@########': 1,\n",
       "         '@CCFFFFFHHHHGIIJIIJJIJJJIJJJJJIIHIEIJJJIJIJEIIJJEHGIGCG@EFHHHHFC;=@B@@BDDD@BB?CACCBD>BDDDDDCCECDDDCA': 1,\n",
       "         ';;?DDDDDAD?1@CE;;2AFF4<EAE<E<D@9D?BD@B?)9??1B<DBBCDDAA##############################################': 1,\n",
       "         '@@CFDFFFHHHFHIIJJJEGJGHIIJGFFHJGIFHII9BFHIGIIIDHHHHJJJIIJGFCADFF;>>@=?89>CB<B0<BDD<@?B@@8<<>@CA?B<BB': 1,\n",
       "         '@@CFFDFFHHHHHJJGGJJIGGGGIJJGIGIIIJHCHJJJIJIJJIHHIIIJJJGFGGHHGFFB?A@;?@CCDDDDDD9>>BD89BDBD?B29@CAB>@B': 1,\n",
       "         '@C@FFFFDDDHHHJGIIEGGIBHIIJGHIGEGIIIIEDGE;FEEHIJIHB=-8=FGA@CGFHFFBA9ABBD=B2?>@ABD095@B<02<B@#########': 1,\n",
       "         '<@@?DDDDFFFHHEHGIDHJJGIHDHDGBFHIIIIIJJIIJJGIIIIIB=CHIJIIJGEHFHEDDDB8(;>?;@@ACCBDB0<B@58><??22>8>CDDB': 1,\n",
       "         'CCCFFAFFFHGGFHHJJIGHIGDHIIGGIJIGIE@GGIBHIJIHJEHIJIGGE@DGHHHDEFC>BBAEDDDD(88008<ADDDDD5<BD9&02A######': 1,\n",
       "         '@@CFFFDDFHHHHIGIJJJJIJIJIJIJGHIIIIJIIJJIIIIGIJJFHIJJIHIHHHFDEFFFCCDDDDDDDDB;+8CDCEDDBDD5<BDD?BBDDD7>': 1,\n",
       "         '@@CFFFFFHHHHHJJGGIHIIEFFHIJJHIJJJJIDFGIIJJGIJJJJHHF<BBBCDDCDEECACDBBD@BCCBDBBDDD@BDDDCCCDDDDDD5?ACCC': 1,\n",
       "         'B@CFF=DDDFFHHIIJIJIIJIJJJGHIJIJIIGGIJJJIJAE=BEFDEDEDEEDD@DD?BCDDDDD@BDBADDACDDDDDDDD>ADDDDDDD@BBB@@D': 1,\n",
       "         '@@@DFDFDHHHHHGIJJ;FHIIJD@BFGECHFHIHGGGIDHGJIGIEIBHE@ECGHEF??@;@BDCE@CDDD9;=?@<@BB9?5A@CBDD9@><B<5<@@': 1,\n",
       "         '@CCFDFFFHHGHGDACFHIIJACEHIIGDGGIHJIJIJJJG8CFGGIGIJHBHHFCBB;?BDCCCDEEDDDCBDBB?CCBBBDDDDDDCDAC4:@C??BB': 1,\n",
       "         'CCCFFFFEHHHGHII>FGHII?FGEGHHBDHIFEGFHIGDG=DFCHGIIJGGCHBA?>@6<@CCD:>DDDDDDDDDDCCBB?BBBB?BCBAAA>ACD###': 1,\n",
       "         '@C@FFFFFHHHHGJJJJIIGIJIHJFHHIIJJIGIJJJJIJJJIIJIHHEHFF<AECEEDDDDDDDDDDBDDDDDDD9@D@DBCCBCCCDD>CDDDDDDD': 1,\n",
       "         'CCCFFFFFGHHHHJIJEEGIJIJGHIIJJIJGGBGIJIGGHHIJIHIIJCIJJJJIGHFHHHDFBCECECEDDDDDDDDDDDD@D8AACCECDDDB&9>B': 1,\n",
       "         '?@@+BADD?<<CDCGEDEGIEGHEGHGGDDHGIGHIGGGGGGIEH<B9?CCC@C:@ACCC?BB7ACCBBBBBBB?A<83>CCCC?<BB0?@@:>0?<@BB': 1,\n",
       "         ';?<DDDDD2<AFBHEC<G@E<8?ED;:8?FE>GD?8?B8DA6;=@5;B=<3<>=((((:;5:C>9,828<CC@5?<<@B8?<??C(:A:<?#########': 1,\n",
       "         '@@@DDFFFFGGADHEEHIGIJJGGGFIEE@@ADCFH=CDHICGI?@AH=BCFDD2@CC;>C>CCDCDDDDDDCABAA:@98?C:AA3ABBB?>DDD####': 1,\n",
       "         '<@?;DD>DFFB?B+CG;@BFFFC3+:?)):?3?B90?:?@0(?B=@F<A.@(@@##############################################': 1,\n",
       "         '@<:A10?1D;?CDEDEAF7E9@:9??<CCG@EGHEEGIE@/?AH>C3;@###################################################': 1,\n",
       "         '@@@FFFFFDHHHHGHIIEIE>GGHIJEHGHGDE(?ACFDD7@GIIJJDFFHFFDEEC<;;;@(;A>>ACCCDD?CBDCDDDCCDDDDCC939?-.89@B@': 1,\n",
       "         \";@@DD?DB12AFCFE6<?AE=GHHHIIGIDH<BDFH>C>6;A@8A'=/=(>3>;@CCACCBBB??C9@BB8?89023<?CC:A4<?<<5<AACC<??7<2\": 1,\n",
       "         '@@@DDFFDHACFFIGHCFHIIGIIGIIIIHICHGIIIIIEHGGGH>DBBECECCDDCACCBBCBBCCCCBB<?BB?CBCCCCCC??B>)<ACCCB?B?BB': 1,\n",
       "         '@@@FFFFFGHGGDGGIJJJJBHIIGIJIIIFHGGIJGAGIGIJICGGGEHGHFDFDDDDDDB?B?C@A@CACCCD?ABDDCDDB<+:><?CDDC:<?<BA': 1,\n",
       "         '@@@DDDFFHGFHGIIIIJJJGGEDGGGIIGGIGIIJIJGBHGFIGI@EEEHHDEBDCD?>;@=?AACCC@>@ACACCDBDC@DCB??@AC?<@3@A3<@#': 1,\n",
       "         '@CCFFFFAHDFHHIJJJJICGGHHGIIEHIJIGGIEDC@D>@BDD@?BD@CDDCCADDC9@@BD;BC>@:AAAAAA@AACDC@CAA?CDC?(+&2?@CCC': 1,\n",
       "         '?@@D1BD2AFDAFHGIGGGCHECFHGIBFCFDDFGHB==BGA@G/;BCHHD;?BCCC?@BB??<BCCBB<@>@@CCCCC?CCCB@CBCCBBB>@CBBC>A': 1,\n",
       "         '@@@FFFFFHH@DFHIIIJGEHIJIGJEFFFFDDDDDDBDACDDDDDDBCCDCDBBDDDDCDDAC?<@AC<ABCDDCB<ACCDDDDDDD>AD3:@((8<8A': 1,\n",
       "         'CCCFDFFFDDH<CGAGHICHHIIIIIIGGHGIIIFIIIIIIIIIIIGHEDFFFEB;@B??BB?<??@??ACBBBBCAC@CCCCCCCCB???CCBBC@CCB': 1,\n",
       "         '@@@FFFDFHHFFDAFGIGIJJJJJJHIJEGHGGHHGGGGHICF@GHGJGH?BEEECC;==CDDDDDDDDD7(>@??<A+(>ACCCACCAB<><CC?####': 1,\n",
       "         'CCCDDFFFGHGGGJIJIIJGIGIBHHE@?DEHIIIIIIIJEDHFD?BD?BB@B@?BDDDC<<CCADACCD@BDDDDD@@CCCAA@ACBDDDCCDDC:4:<': 1,\n",
       "         '@@@FDFFFHHHGHII<CFGIJJJJJGIJHFGIGIGGHGGJJIIIJHJJJHFF=ACEEDD=CBCDDDCDDDDBDDD@BDDDDDDDDDDDCDCB<C@CDDDB': 1,\n",
       "         'BC@FFFFFHHGH8EEFHJGHIIJIJBGGBBDF1>@@BDBD9<8ABCDDDDCCCDDDDBDCCDDDCDDDACDDCB>AC>?C@CDB<>B5ACC>4::>C@?>': 1,\n",
       "         '?@@DDDDDHF)<DC>EGBG=BHF?B@4499?A33=?A<AB@8<338<ACA9ABB8BB:33>>@A?8:4?<A?@@3>?<A>@1899&+8?B@A@C9C?>?>': 1,\n",
       "         'CC@FFFFFHHHH@FHHGGIIFHI?BFHGIHJIIIJJIGEIIHFE<BCEEEEED>ACDC:@6?@CCCD9CDDD@B?BBDDB@CCBDBDCC@C:CD@CCCAB': 1,\n",
       "         '@CCFFFFFFDFHHIJIIIFHFFFFFDEEEEDCDDDDDDDDDDDDDDDBBDCCBC?CDCDB?CCCDDDDBDC::4:ACCCDDD:>>C@CB08<58A?A@C@': 1,\n",
       "         '@@@FFDFF@HHHHJJJGCGHIDEHHGFH88D@2DG@FGHIIEGIBB?BDDDCDEEC@A55>>:8;&533>>(+323?A<(+589?@C@?B?<3>>:@###': 1,\n",
       "         \"?;=BD)@0ACBCBGGBE@EF?FFHGEE@?D9?FA1BBB98?FGHICF>'=@@D;?=?1;?D;?BB558(5>-09?<(8>C?CCC8?CC<@B0559(>C@@\": 1,\n",
       "         '@CCDD?DDAHDHHGGIGGGGIJ:CGHIIGHCD>BGBGD<@FHE7C=DBEFDD@BB@>AC@CCCDCC@?B;9;9>@@B9?ACDD7A?>BD(0++888??C:': 1,\n",
       "         '@C@DDBADAHHHHJIIIJIEGEBEDAAACCBCCA<?:><>;@@:BCCCC9C@A?>CC(:<3>>@?3>ACB@59;A::>4@(8?CBB?CC3+4>@######': 1,\n",
       "         'CCCFFFFFGHGGHJJJJIGGIIJJJGIJJIIDGGIEHGG?DFA>FGHIJGEGGHDDDDB@BDBB;?BDDACB9ADDBCDDCDBBBBCC@CCDCBDC@C<A': 1,\n",
       "         \"8=+=:?;?CFA?D=3EBF@CGF>A;1:C@A00)9BFE7=BA@D<C9@;?ACC@BB'9?/'',,(4>ADBB@+:>:AB&2?9ABB?B9?3:@#########\": 1,\n",
       "         'BC@DDFFFHGHHGJJJJJJJFJIJJJIEGIIFGHHIIJJEHI;DEHIIHHGGFFFEDDDDDDDBDDDEEDDDCDDDDDD@B@DDCD9??CCDBDD@BBBD': 1,\n",
       "         \"@@@FFDFFGFFHFD>AEAEHIGCHGGIF;BD)::):))0?DG:@FHGII5@GGF;A=7?)))(9'',)&)0>C>@>@:A@ACDCB###############\": 1,\n",
       "         '@??DDDDBFCFHDEDEEEGIJFIJIGHDGIIGGGE?@F?FGEFGGIIIG5AEEBC;@DCCEEAB@?;?;B;@@ACCCDDACCC><B)09CCCD<A8?CB#': 1,\n",
       "         '@@CFFFFFHHDHHIJJJJJJIJIFGJJICHGIIJJGHGG?FHIEIJJIGJAEEHEFEFEEECCBDB?DDD@@DCDDCDAC4:@CDDD<@BDDDD?CDC?B': 1,\n",
       "         'B@CFDDFFHFHHFIIGIJIJIJJJGEHJHHGGIJJJJJIGIFHIJIJJIGGH??EDEFFDEDEECDDDD=;>B>CCCCECAAACCDDDD9@@CACB<C@D': 1,\n",
       "         '@B@FDEFFHHGHFBHGGGIIIIIIIJEIJHIICHGIBGHII6BFHHIJICHFACEFEFBCEDDCEBDBB@BBBDDDDEEDC>@CCCABD9<>CDDD9?AC': 1,\n",
       "         '@@@BDDDDFF?AF:AFFICIG+@?<FEACBFE@FFIIAGGIIFFIIIEFI:CFF<DDCCBB(=?@?B@>@>AB@@>BBBBB&5AABDEA>A4>@BBBB5>': 1,\n",
       "         'B@@FFFFFHHHGHJJIIJJJJJEFIJIJJIIIIJEHGII30?:DFHG:FG@FD@@CBE6;B56?625?55;AC@B;8>>@-50(4::@>+>>C3>C####': 1,\n",
       "         '@@@FFFDEFHHDHIJD@HHJIIIIHJHH<<FHHI@HIJIIJJJG@DH@FHHEG>E5?EEHEFFBBA==?;?@@DC:>ACBDDB>B@9<ACCA>>:ACCCD': 1,\n",
       "         '@@@FFFFFHHHHHJJJJJJJJJIJEJHAGHIIJJIJJJEHIJJJIJIJIJJIJJJAEHHHFEEE?B;ABDDDBCCCCC>BD@BD>@BDDDD@DDACDCDD': 1,\n",
       "         'CCCFFFFFHHGHGIJJIJJJJJIJJJJJJIGGIJJJJCFGEHIIIJIJIGHHHHHFFFCDEDDDACCCDADD?A@CCDDB<AB5<@>CCD>>CCCC<@95': 1,\n",
       "         'CCCFFFFFHHFHHIIJJIJIJ>F>FHHGHEHEHIGIIIJHHJHGGHIJII@BCEHIIH=EFFFECAABB(5<?9@@:ACDDDDDBDDDDB5ACDEDDDD@': 1,\n",
       "         'CCCFFFFFHHHHGIEIJJJJJFHIJEGGHIIJJJJIIIJJHHHJJIGIGIIJIHJHAHH=EDFFCDDE?@@A?BDDBC9@CDCBBBBDDDBBCDCDDCAC': 1,\n",
       "         '@@@ADFD3ABDFHA<FBGEIGIGGIIIEH?C>FEFHFGBDA8DGH9BDHC@(8CFC8588B<D<BAC<AA=?<BB?BC??AC3(4<9BB-9<<5::@###': 1,\n",
       "         '@@@D?BDDAAFDFGI<GEHHIIGIIIIH9EEGIIIIHGC@FHGHIGIGGGBFGFHGHGHHGGA=95=BAAB@BBD;?AB??CDDDCDDDD@B<B99@5>A': 1,\n",
       "         'CCCFFBDFHHHDHIHIHCFHHJJJJEIJCGIIIFHEHGIJJJIJJJJJJIJJJJIJJHIJJJAEF<ACEEDDDDD;5<@BDCDDCDCCDDDDDDDDD>CC': 1,\n",
       "         '@?@DDD;DDDFFF?FF?EF=GBFG<?>FCG<??FEEFGIE9FE)B8?>4BFFEFEBCFFEAFGIECD@EEE;A;,9=3;;@?5=;=9<@;)9-5?<18?>': 1,\n",
       "         'C@CFFFFFHGHDHIJJJJJJJGIJGHGIIJIIJJIGHEHHHIJJJJJJJJJJJJJJEDFEHCHEEE;DHHFHHFFEFDDEDDDDDDBBDDDB<BD<BBDB': 1,\n",
       "         'B@@DFEDFHHHDHGGIIJJIJJFGIIGG;DHHGJJJJ?DABEFH=FGHIIJGIGIJIIGEEDDBBBDCDDDAACCCDBDB@B>@9?CACDDDBDDDCB?B': 1,\n",
       "         '??@FDFDFHGDHDGIA?GEI<CGDG?*99DBFH1==C;@)8@)8@HGE=AE;=@DF?@;?E@85;@CD>@@C@5(4>A>:ACC>CCABB<B818?AACDD': 1,\n",
       "         '@@@FFFFFHHGHHIIJJGIJIEGGHJJHGGIIIGDGGHGIIBFIIGFGIGGEDHGIH:BC3>?@CC@BDD:@5:?<@>B<@BDCDDDD@B@DDDBBB??A': 1,\n",
       "         '@CCFFFFFHHGHGJJIIIJFJGHIIHI0BBGHJJJJFGHCHIJIDGIHHHHFFFFBDE@3AC9@BBBBACDDDCCCDDDDDDDDDEDDDBBDDDBDDDDD': 1,\n",
       "         '?:=A?ADDF<DD;EF<+18C8EFGGA:@<8.BBFFFB8(@6FD)).)7=?EDB(5;6;(.5-(5>;=88(8@>A(+::@:4::@>@ABAD##########': 1,\n",
       "         '@@@BDDDDDDH@F?CGG9@1C:?@GG3??)8()/)/=).=FGIAAE==C.=A?9,;>C(((.-(((5(28?BBAA>AA<ACCCCC>>3@###########': 1,\n",
       "         '@@@DDFFFBHDFHBGGHIJJIFIG)C@HIIBIDHHGGFGIGIIIIJIGHAHHFFEFDDAEEEE;>@BDDDBBDCCCCDDCCDDDDDDDC@DCAA@@BDD8': 1,\n",
       "         '?@@DDDDDDAHHHGIHBEEEHIJHB8@FA??G9?9B?BDHGIHEHGIIBHB<A7@CEDBC@;>;>BDDDBBDD?CCCB@<B@DDD?BB<98(+>4288<B': 1,\n",
       "         '@@BFFDFFFCDFFHJJJHIIHHGHGHJDGGIIJIIIGIGIIIJJJJJHHHHFFFFBEEDEBDDDDDDDDDCDDDD@BDDDCDDDCCCC@CDDCCDDEDDA': 1,\n",
       "         '?@@BDA@@FF<>BFHCGFE9F<?@DEAE<DA>FBE:BGGGGBFEG<;ADBCD2?A?@@C@C;>-:<???<C::3<@(((4(205859>::@::@A@@CC3': 1,\n",
       "         '@B@FFFFFHGHAFHGIJJJJIIJJJJIIIIGIJIIGIAHIJJJFIGHIJIIB@EAAEFDFFFFFCACCEEDDCCDAC5?CDDBB2<CCDCCCBB@B?8AB': 1,\n",
       "         '@@@FFFFF?DF>BFHAGGHGFHICBFAFHGHIIJJIGEGIHIGGGBGBBB@DDDCABCDDBCACCC,(5<98<CDCCBCDCDCBB<<00<>AC3(>:@@C': 1,\n",
       "         '@@@B?D?DFHFDFHIIGEHCHFHIIEGDGHCG@HDHFHII<FFHIBHG>EEHFFBBACAA;?CBBDAC@?BA?CCC>+3?C3>CCDDDDCCC:9:@?AC?': 1,\n",
       "         '@@@DFFFFBFHHHJGIGIJJB>FGGHI@G?DBF?DGCEIGGIIIJIJEHHGGIJHFF<>ACDDDDDDDD8?CDDD4@BB@??>CDC@CC:>@ABD<<9@:': 1,\n",
       "         'CCCFFDFFGHHHHIJJJJJJJJJJIJJJIJHIFGIJJJIIFHIIJJJJIGJJJJJJJJJJJHHGHFFFFFCDDEDDDDDDDDDDDDDCDDCDDDA@BDDD': 1,\n",
       "         '@@@FFFFFHHHHFEHEIII>FHIIGIIJJJIJGIG?;?DAGHFHFHGEGGJJEGHHCG>CEEHABD9?@C><ABD?CDDDDDDBDDDB?B><9&89?:AC': 1,\n",
       "         '@@CFDFFFHHHHHJIIJIJIJJJJJGIJJJEHGHHJIGIIIIIJIJIJIJIIJIGIJHBEHEEFFFFECDDDBDCCDDCCDBDDDDCDDDDD@CC<?9<7': 1,\n",
       "         '@@@D?DDDHFDF<FG@BHFH?HCG<@GFCFAG6DDFBEGIIBEH>AEDHCEHAHEBDAABC=@3,828??@38<?<ABB<C48<22?>@4++334+:A:@': 1,\n",
       "         'CCCFFFFFHHHHCGHHGIIEHHIJHIJJJIIGIJJIIJAGHGGIJIJJIIHHGHFFFDCB?ACCBDDDBB>CDDDDDDDDDCBDBDDCC:@@CCC@C>CC': 1,\n",
       "         '@@;DBEDBHHHGHGDGBHGGHGEGGFCGIGIHGEHHCFDHIJIEGFGBDEGHE===CE?3?;BBAEECCCCC@@?5;?CC:>8?@ABDDC9?9(82<??B': 1,\n",
       "         'CCCFFFFFHHHGGJJJJJJEIJJJJIJGGGDHIJGFHDGHIIJJIJJIJJJJJJJJIJDHGEFDDDDDCDDCDDDBCDDDCDD::AB@?BDDDDACDCDD': 1,\n",
       "         'B@CFFFFFHHGHHIJJGIJJJIIIJJGGGHIHIIIIJ?F?GBFHGIGIJJJJIJJIIFIHFHHFDCDD?CCCDCDDDDDBDCDDD:>ABB<@CDCCBDED': 1,\n",
       "         '@CCFDDDEHFDDHGJIGHHGGIIGJJIGHIJGIIIDHJGHBFECHIIIGJJIFGIIJJBHHEEFFDDDDAC5>ACABDDCBCCCAC:@?BB??@A@CBCD': 1,\n",
       "         \"@@@D?DDD>3AADAHGC@B@EG<FFFEIGEH<C:C@DHDG*)0?<<?FGHC:B@EGBG'-=CCBD;B8'3',5>AC:<?B1<?CCCAA@:8(28@CCCCB\": 1,\n",
       "         '@@@DFFFEHHFDHJJJGICHIJGIHEHI;FGHIHGGIIHIJJJGFIIGHHGIGGIJIEHGHEEDDBD08>BC@CC???CCDDDDDD:?BBDDDDDDBDD#': 1,\n",
       "         '?@CDDADDFDDAFHBFHFDEHGGCE<AHCFFHII@D;?F?B9B0??DGGFHIICHE>9@EHEDDCBEC>;;;CCC@::22?<?BCCCCC:A?<?<?CC:9': 1,\n",
       "         'CCBFFFFFHHHHHIJJGHIJJJJIIIIGIIIIGIIJJJJJJFFBGEIIJJJIJJJJJIJFHGDFFFFDDB?@<AC@CDDDDDDDDDCDDC@ABB?BCCCD': 1,\n",
       "         'CCCFFFFFHHHGHJJJJIJJJJJIJFHIJJJIIJIIIJIIIEHGIJIJIIGHGIIHJIIHHHFDFFFDDDDDCDCCCCDDDD?BDDDDD:CBDB?@CDC?': 1,\n",
       "         '@B@FFFFFHHHHHJJJJIIIJJJJJJJGHIJJJJJJJJIIJIIJJIJJJJIDIFEDD@@BDCBDDDDDDDDDDDDCDDDDDDBBBDDDDDDDDDDDB?B#': 1,\n",
       "         '@CCFDDFFHHHHFIHGIJJIHJHIJIIJJGIJJIJIIJIIHJJIIIGIHIIJJJJJJIJIHFBBFFEEEEECDDDCCDDDDDDDDDDDC@?BBDCDBBDD': 1,\n",
       "         'CCCFFFFFHHHHHJJJJFIJJIJIJHIHGIICEF@GGG>HHHIJJJIFGGHIJJJJGHIJIIFEEFFFDEEACDDDDDDDACCDDDDD=??@CDCACB@D': 1,\n",
       "         \"@@<DFFADHDHHFGFHIDBEB??BFHDC<DFGI9?BGIGHIIIIIDCDGGCHIGIFIIIGAAE;C?BB;);;=2;;?BB';<?C>::>>4>>A9<>B<@B\": 1,\n",
       "         '@?<DDBDDDFFFB3+A?AFEFFI<@?EHFIIFEE*::DGC9BD@DFCFI@8C8=F(8@FEIIFF=CDDDCCC8=?=;@=/=<5<:3A?>(2??9<3:>::': 1,\n",
       "         '@@CFFFFFHFDHFGIAHIEGEHIIEEEFFHHC<FGHIIIGGGGEHEHGIIIIIGF8==D@EHIE?=?BD@CBCBB?=A9?:=?BB>9ADCDCBBBA<??C': 1,\n",
       "         'CCCFFFFFHGGHHIIIJJJJJJJIJJIJJJIJIJJJJIJJIGIIGJJJJIIIHJIJJJJJJJHBBEECECCDDCDCCBDDBBB5>BDDBA>@A<>ABBB@': 1,\n",
       "         'CCCFFFFFHHHHHJJEGIIIIICGHIIEHGHIIIJJJDIGGG@GEIIJJIJIJJJIIJ;DCCDEEEHFBEDCCEE>BBBDDCDDDBDBDCDCCD>AB?89': 1,\n",
       "         'CCCFFFFFHGHHGJEHJGEIHIGIGII<GHEIIHIIFDG>GGHIJJHIIECHBABHCGGIIJ=?=CEACFED?C=;CCBDBDBDDCDDDDDB<3@@CCCD': 1,\n",
       "         '@C@FDDDDHHFHHIJDIJJJJIJJJIJGHFGIIJIIJJIJGHIIIJJHHIJIIIIJIJJJDIHA?AEHDDFFCBDDDCC?BBDDDBDDDDDDDDAC@CCD': 1,\n",
       "         'CCCFFDFFHHHHHIG;EHEICHIII<FF?EHIHIGIIJDGBHIJIGI?FIIIIIIGJIHIJJI7A?ACEDDDBDDBCCCADDDDDDCDDDD59@<A:>>>': 1,\n",
       "         'CCCFFFDFHHDGGJIFIIJJIIIJJIJHGGIIGJIJJIJIGGGIJIJIIGIHJJJIJJJHHDG?EAAABDDF@ACDCDDDDBBDD?CCC>BBDB3>>>CC': 1,\n",
       "         \"8=@DDDDDAF?CFFF<?FBFGIEAC@C0):0??@GBF>?BF<(<4AB>'3;@B>?A2?8A?@((32@3(+(9?8(80<B35(<?################\": 1,\n",
       "         '@CCFDFFFGHHHHHHIIIJJIJJJJJJIIIIJIJJJIIJHIIIGGIJIJIJIJJIJJJJI@EHFFFECECDEDCCCBB@DDD>BDDDDDDDDBDDDDDBB': 1,\n",
       "         '@CCFFFFFHHHHHIJJJJJIJJJJJJJIJJIIJJJJJIJJIJIIJJJJJJIJJJJJJJJIFEDEFFFDEEEEEDDBBDDD<BBBDDDDDBDDCDABDDCD': 1,\n",
       "         '@CCFFFFFGFHHFIJJJJAFDGGHHHIJHIIJEGCHGHI@FGIJJFEHIIGIJIIIC=CCFGHEGHDECCB=?AA@DC@C?ABBBBDD############': 1,\n",
       "         'C@@FFFFFGHHFHIIIBGHJJIJHIHJJJJBHGGIIIJIIJGGFB8;@DCBCCDD??CB?BAB?:AB?AB?A@5>>@D?AB78??BD@+85?>(:32??8': 1,\n",
       "         '?@@FFFFFHGHHHIIIH>BFFIIGIIIHG+CCG?DFAHFFIIEHIIGHD>FHGGHGGG;BA=A4=DCBEH<D@CDCCCCCBCDCCBBA?8>C:A>599A@': 1,\n",
       "         'CC@FFFFFHHHHGIDIGHHIJJJJJJJJJJIIDGHJIJIJJJDHEHIJIJJIIIHIJJIGGGIIIHHG6AABFFFDE@CA@CCDC@??BDCDDDDDDDDD': 1,\n",
       "         '@@CFFDDD:ADDHHII3CHHGI<DEEF;9CA?FEDGC9?DB@FFAB?B>??B**7BE=@FGGD@A=D6<49@;;>666@5=;AC@=BABB##########': 1,\n",
       "         '<@BFFFFFGHHHDGIJIJJJFHIJJIJHGIIIIIJJGIEGIGIHIIIJIJJJJJJIIJIJIIJJIHCHIJGHHFD@BEECDCDBDDDDDD?B?BCDDBDD': 1,\n",
       "         '@@CFDBDBHGHHHIIIIIIIIIIGIHGEIIIIGGDGHEECH9DHIGEIIICGGIIED@FHI@A;DHEECEAEHGDBEDAADDC@;;??CAC@BD@DBA@@': 1,\n",
       "         '@?@DADBDFBBFF:AGB?FFDFFEBG?EG3ADGFEH93??FCGGEH?BFAB9FC<B=)=.=.88))67@77?=CE=9<>BBCCC;;AA?C@#########': 1,\n",
       "         'BC@FFEFFHHHHGJJJJJJJJJJJJIJIEIJJJIJJJJIJJIJIJJJJGIJIGEHJJJJJJJJJJIIJIH>EHGGDFFDDDDDDDDACABCCDCDBB>BD': 1,\n",
       "         '@@@DFDDFFHFHAEBHIIIGHGEEBHHIIIGIEHFGFGIIIBEGHGIDHIIG@DHCHEB>AA>@CCBCCDBDAC?BBDB<CD@BDDBDDDDDD&2<BD?B': 1,\n",
       "         '@CCFFFFFHHHHHGIJJIIIGGIIJIJGHEGHHGDBHGF=A??@@?C?B@CCB@DDDCDDD8<??A8;>59@<<AB?<8A@B##################': 1,\n",
       "         'CCCDFFFFHHHHHJJJJJHHHIIJJJJJJIJJIIJJJJJGIJJJJIIIIIIJJJJIJFIIJFJGIHEFD@BDDCCCDDDDDDDDDDDD8CADDDDCDBDD': 1,\n",
       "         'BBCFFFFFGFHHHIJIJIJIJJJIIGIDGGGIIJJIJJIJCHDHIJJJJJJJJIJJGICIIIIGGIEFHHGHEFFCEFFEEECDC@CDDCDBDDDDDDDD': 1,\n",
       "         'CCCFFFFFHHHHHIJIIGJFHIIIIJIJJIJIIIJJJJJJJJJJIJJIJIDHHIJJHHFBBB7;BDDDDCBBDCDB@BDDCDDDDCDDDDDDBDBDDB>?': 1,\n",
       "         '@@@FDFFFGHHHGJHIGGIIJJIJJIJGIIJIGHDIIGHIIIJJJGIJIIIHHIJJIJIJJFJIJIIJHHHHFFFDEEEEEEEEDDCDAC3?CDC?B=B7': 1,\n",
       "         '@C@DDDADHFHHHEGHIIAGIICHIEIIC@GHIIGEIIIIII>BGIIHICHCDEIGEEEBBB@;@BDD?>??BCCB?BDDCDDDBCAABB@BBDD?<?<B': 1,\n",
       "         'CC?DFFFFHGHGBHJAEHHIIJJJJIHIIJHIIIFEIJIJIIJJIIGHIJHGGGIGIJJJJJJJIJJCEEHHFDFDEEEACEDCDDDDDDDCDEEDDD##': 1,\n",
       "         'CC@FFFFFHHHHHIIJJJJJJJIJIJJDIGIJJEIJIJJJJJJJI;@:CHEDFDEDACEED:CCDDCCDDDBBD@@CB<A<B<8(8?+8:AA?<88C###': 1,\n",
       "         '@C@FFFFFHHGGHGGGGGIICBGIGIII@FDHGIIIJIJJIJEHGGGGIJJJJJIIGHIIGECHHHHFFDDDCEE@B@@CDDDDDC>>CCCACDCC>ACD': 1,\n",
       "         'CCCFFFFFHHHHHJJFIIJJJHIGHIDGIIIIHHIJFJJJJIJJIJIJJJJJHJJJJJJIGHIEHHHFFFDDCE@C?BDDCDCCDCCDDCDDDDBCC@?C': 1,\n",
       "         'CBCFFFFFHHHGHGGHIJJJFIJIJJJIJJIJJJHGHHFFFFCEDEDDDDDDBBBB@BBDDDDDDD9@8?CCDDDAB@DDDDDDDEEDCDD?BDDDCDDD': 1,\n",
       "         '@@@D=ADDF88?@FDBHB7;F;BFI?<DC>?FB??BHD@DF;BFEGGHCCAC@@FH737CE@A6?.7?;C7;5=C@A;>C@@@?ACCA############': 1,\n",
       "         '@CCFFAEFHHHFFG8GEFGGHDHIIJIGH?DFFHI4BFGIIHADGGGEGGCEHGFDDFFCECEDB;=A<BD:93?9??@BCACB>CCDDB5<<ACCCA?A': 1,\n",
       "         '@@@FFFFFHDHHHEIJEGIIGGHIGGIGIDFGIJJGJGCHHEDDFIIEGEGGHIIGHBHGGHEEEE@BDFFEEEC?BD@?A@CCDBD@CDCCA::@CCCA': 1,\n",
       "         'CCCFFFFFHHHGHJJJJJIJIJJJJIJGHIJIIJ8CAGDHIFGIIEIGHEHHDHHFFBFDC9@>CDDDDDBDDDDB><CBDBDDBCCDDDCCB<@0>?CC': 1,\n",
       "         '@CCFFFFFHHHHGIJJJIIIIJIFGGJJGHIJJJJJEGGIJJJJJIIIJJJJIJJJJIHHFHHHHFFDEFEDEEDDBDDDDDDDDDDDDDDDDDBDDCCC': 1,\n",
       "         '@@@FFFDDHBFDDGHAHG>FEHII<@@?DFFBDDGD9B98?DFHDHECC=CFGECGEG>?AAEEA;;.;?AC:;?5;;=5-<85<CBC:3@BBBCAA:CC': 1,\n",
       "         '@CCFFFFDDHFHHJHHIIIJJJJJJJIJJJJJHHHHFDEFD=CDD@BBDDDBDDDDD??0<CDDCBDDDDDDDDCBCDCDDD@@ACCCDDDDDDBD?B?:': 1,\n",
       "         'CCCFFFFFGHHHHJJJIIJIJIIIHIGIJIJJHGFHFFFDDDDDDDBDDDDDDDD3?7B@DDABDDDDDDCDDDDCCDDDBDDDCDDBBD@BABCBB+8>': 1,\n",
       "         '@@CF?EDDHHDHHIIGIEHHIGIGGGIC>DGGGIIIF>AA?@@CC8A<?CDBBDDBD8?B?B@B?>BBB>BB?BD<0?AB(8984>@ABAA?AAC>4:@C': 1,\n",
       "         '@@CFDDDDHHHHHIJIIJIJIJJJJJIIJJJBGHGHIIIGIJJJIGGIIJIFIJJJGJJHHHHFFFFDDECDDEDCCCDCDDDDDDDDCCBBDCDDDC3?': 1,\n",
       "         '@CCFFFFFGHHHHIIJJIJJIJJJJJJFHIJGIJJIIJIJJGJJJJJJIJJJJJIIJJJHHHHFFFFFFEEEEEDDDDDDDDDDDDDDDDBBBDDDDDDD': 1,\n",
       "         '@?@DBE=DHHGFFGIGBBFHCEEHHGGDHGHGH:?DHGDHHJJEG=BFBFHGJJJIJCEEHEEFFFFDAAEEDCCAAACACCDDDDDA3?<2(89>4>CA': 1,\n",
       "         'CCCFFFFFHGHGHIJJJJIIJJJJJJIIIFHIIJIJJIJIGJIJJCHIJJJJJJJIJJJHHGHFFFFFEEEEEEEBCDDDDDDDCDDDD?CDBBCAACDC': 1,\n",
       "         '@?@DDFFFHGFHDGBCBGHIIIGIEH@;DEG9C)7=6(;?D>@C@CB=A;@BDDD?B8&2<(8+(++++4:>CBB<ABCC@CCD:@:C8??-89:@CBBD': 1,\n",
       "         '@@?DD?DFAHDFHIIIIIICHIIIIIIGECGIIDIIIIIIGHHGI=@:CCHFEFF;@=A>;BCDCDCCBB?;ACDCCBBB<A?BC@@+8A?BD?@B9>A<': 1,\n",
       "         'CCCFFFFFHGHHHJJIIIJJJJJGJJIJFIIJJDHIJIJFIIJIIJ>FHIJGIIIJIEHHGGHFFFDDE>CEE@A>ACCDDDDDDCDDDDCCDDDCDDDD': 1,\n",
       "         '?;?DDADD4:D?F;CCB?EHBCA<B@AA;CGGDGIEEFEED(;4CEDDECEFCD);?7>@BBA@>(;@B<9?9(59:(5;(4>A8?B#############': 1,\n",
       "         'CCCFFFFFHHHHHJJGJJJIIIJJJJJJJJJJJ?FHHJIIIIIJFHIIEEHHEFHFFFDCCEEDDDDDDDBBDDDCBCDB<BBDDDDDCCDDDD&02>AC': 1,\n",
       "         '@@?DAD:?DFHBHIEBFE<ED?FGFHICFHGI@CGEHII<?GG(9@A-4-8==DEECEHD;77?@;;;A33;;@?A;<A>CCCAC>>C>:1A(::?@###': 1,\n",
       "         '@@@DDDDDHHHHFHIIIIII7DG8;DFGAA9BDFH@G>BAF@EHGE9DE@EHFF<B8BD>;>AA=??(95,5,9:55<B?<9>><CCCB?-59?CCCCCC': 1,\n",
       "         '@@CFFFFFFBFFDBGHGDGFHIGHJIJF@DHGHHHHFCDDEF>ABBDD@BDDDD8<B<8<AB9?><@DCCDD?ABCCACCDEAC:8?8<??CACBD??B?': 1,\n",
       "         '@CCADFDDHFHFFGIJIJIGCGEEGHIHIIEGABAHGEGBIHGGIEGGGIA>B=DCHEE9EHF;CCCCCEEEEDCC@?;AAC>ACCA@CDDDCB9>@CC>': 1,\n",
       "         '@@@?DDADFHFFD@FBHGHIIIIEGIEEFGHCGIIGFGGHEGGBFCHGIGGGHB<EEHEEH>>@CD@EA>CC@?A@CCCCCCCB?CCCC:@>BAD38ACC': 1,\n",
       "         \"@BCDDFFFHHHHHJIIJIJIJIJJIHGJBHGHJHIIIFHIIGGIJFD'8=@CDDDD@BDCDDDDBC@?BBDB<B@B@BDD?BDDDB7?BB&0&083>A18\": 1,\n",
       "         '@@<AB?BDHHDDFHDGEE1EBGHI?F8?9?B@GHHCFGHBFHIEGHEAE;86=?ACDB?BACC;=?CB>B918?8ACCBCCCA?<<<<@:A>CCC?<?2<': 1,\n",
       "         \"@@@FFFFFHHHDFIIIGI?FHHGHGGEHBHGIIG=?FAGGGHJD'-'913-55<A?<:@((55((25<?(0(+(+3<AB<A1<3284<3?80(28?CC8A\": 1,\n",
       "         '@@@FFFFFDBBHAFGIGIIJJJEIEFHFHI@HGIIEHIJJJI<DGAGGIGIIIHHGCGG@GI>DADGBE96>@C@;AB?CDCACA<:<9?CCDDDDD?C?': 1,\n",
       "         ';;?DD??D>FFADF3FFGGGCGCGHGBA9CEGGBHGGGEGIGIIEHGHIIIGEFHIHIII8C@=@E5A>EHHFEEEEC>>BCCCBBB@:3>@:@94<@CC': 1,\n",
       "         '@CCFFFFFHGHHGIGIIJJJJJJGGI;FGIDG?F@CFHIEGIGIGIGJIHHFHBCEFFCDEDEDBDBBA?B<@?(5>8??BDDACCBCCDDDDDD?@>CC': 1,\n",
       "         '@@CFFDFFHHHHGJJJJJJIIIJJGIJHGI@HGIJBHIIIGIIEHHHH7;9AEEECABBBDCDDEDEADCDDD@BDCDDDBBDBB<A<<8(8:<ADBBB?': 1,\n",
       "         'CCCFFFFFHHGHHJJICGDHGGIIJJJFJJJJJIJJJJIJJJJJJJIJJJJJJHIHIH=ACDDBBDDEEDDDCDDDD=?DDCDDCDDCC?BDBBCCBDCB': 1,\n",
       "         '@@<D?D>DHADDFHIIIGGGIII7@FHII9D(BBBGCCHIGGDH@DGACEHHHHA<?CDCCCA?=@=BCBB5<CBBBBBBCAC?CCC@BB59?CCCCCCC': 1,\n",
       "         'CCCFFFFFHHHHHJJIJJJ9D?FHIIIJJJJJGIFIJIIIJJJJIIIJJIJHHHFFFFFCC>ACDDDDDDCDDDDCCBDD99?CDDDDDDCCDDDABCCA': 1,\n",
       "         'B@@FFFFFHHGHHJJJJFHGHIJIJIJIJIJIGJJJJJJIJJJJJJFGHJJJJJJFFHHHFFFFFEEDEEEBDDD<@CDDDDDDDDDDD@DDDDDDDCDD': 1,\n",
       "         'BBCFFFFF<FHHHIJJJJIHHGIIIJJFGIIJJJJIJGIJJIJJJIHIGFHIIIJJJJGHIIHHEEHDFFFFFDECDCEDCDDCDDB99CCDC:CCC@CC': 1,\n",
       "         'CCCFFFFFHHH?HHGHIJJJEGHIJIJHIIIIJJJIIJIFHIJGHGDHIIIIJIJIHEFDFFC<BBBDDDDDDB@@BBCDDDDDDAC@ADCD@B@BCDDD': 1,\n",
       "         '@CCFFFFFHHFHHIJIIJIJJJIIIIIJJJJGIJIIIIIJJJIGIJJJJJJJJJHHEBFDCDDCDDDDDDDDBDBDDCDBCDDDDDDC::ADDDD:ACCD': 1,\n",
       "         'CCCFFFFFHHHHHJJJIIJIIIJJJJIIJIIJJIIIJJJJJIJJIJJIJJIGHHFFFE@CDDD@CDEDDDDBDBCCCCDDDDDDDDDDDCCCDDCDCABC': 1,\n",
       "         '@@CDDFFFFHHHHJGIIJEGIJIHIIJJAGHIGCEHHGIEHIGGGIIIIJJIBFHHH8?DCDAAD;?CCCCCDDDC9??>CDCDDBA<ACDCBCCDC@CC': 1,\n",
       "         'CCCFFFFFGHGHHJFHHIHJJJIIIJJIIEIJIJJGGIJJJJIEGGIJJIIJJIIEHFFFDDACB>CACCDCCDD?BDDCDDDCBDDDDCDCBACDDDCC': 1,\n",
       "         \"@@@FFEFBHHHHFD>7EFFGIIBHHGIIIIEBE@B0BFH@GI9BBFDFHCHGGIIHAB9?;;=(',8;@:::>CC838?C>@BCCB##############\": 1,\n",
       "         'CCCFFFFFHGHHHJJJJJIIIFHEGGJJJIIIJJJIJDG@BE4?FAEGH<FGHEIIGIHFFCEDAB9,((((,,,:ABCDDDDDBCC@DD?((44<A@@C': 1,\n",
       "         'CCCFFFFFHHHHHJJIJJIJJJIIJJIFHIJIDHIJIJJJJJJIIIIGJJJIJIIIHIHHFDDEDBDDDCCDDDDCDDDDDDDDDDDDDBDDBDDDDCDD': 1,\n",
       "         '@@@DDBDDHH8FAEHE<E<F@EGCCBHGBEHB)?D9BF>F<?DDFGHH@HHGHFF@CAFHCGH(5.;C@B;);;6;>CDDC>CC>BB?BBB:>:>AB<?2': 1,\n",
       "         'CCCFFFFFHHHHHJJJJIIJIJJGGIJJJIJEGEHIHIJJEHIIJCCFEHIJJIJHHGHFHHFDFFCDDDBDDDDBDD@CCCDCCDC@CB@CCDDD3<<2': 1,\n",
       "         'C@@FFFFFGHGGGIJIGHIIHAEBBBAGIHGHJH?BBGGIJGGHJGJIIGECCBBDEC;AEC>C@AA;>C?CCBDBB:?CAC:A:::>@AA@AAA@ABDD': 1,\n",
       "         '@@CFFDDFHH3CFHGIJHIIGGIHHIIJICG<GGCGC?GHEGEGIIGBBBHIIEEFDEA>=3(>7<BDACDCDDDACC>@A@@50?>C>C?32<@@@?A>': 1,\n",
       "         '@<@FDDDFBHHHHJIJJGHIFIIJIGGCDDHGHFDEEDGAEIHGC@GGGGGCHIIJIIGHFHFFFE?ACCDDDDDBBDDBB:3:@C>?CCDD<BDCCDDC': 1,\n",
       "         '@@@FFFFFGGHHGJJJJJDHIJIIIJJIIGJJJJJJJJJIIIIJIHIIIFIJJJIIJGHHHHHHHGDEFFFECEECEECCDDDEEEDCD=@?BBDDDDD:': 1,\n",
       "         '?;=DD?ABDFD1<<<EBE>BHIF*CC=:CD8;D@FDFGEFEFF@BBBF@FFFDFE>EEE>EE6?D>9?=@BBB8@B1221<++::B@B@BBBB@<438:@': 1,\n",
       "         '?@@FDDDDHAHHHGIEGGHJIEHIHIGBGGGIBGHGHGFIFFAFE@GIHEEFDD@BDFCC@<BBBDCCCBCDA;9:>@@(4+4>A>ACDBC>38<B?3<A': 1,\n",
       "         '@@@DFFDFHHFHDHIGGGAFGEGICGHF9DF*C3::B6?)894*?BFAGIIJIIG>4=CCHHGGEDB?>(..(-9;88=?<A?BD++>>C>A:???<?9:': 1,\n",
       "         '@@@DDFFFHHHGHGIIJIIJJJIJIJJHGEHIGIJIGIGIHGHIDFCGHIGIIJEICEHGHFHHFDEFCEDED??BBDDDBDDDBD@D4?>CCCAC?BCD': 1,\n",
       "         '@@BDFFFFHGFHHJIHIGIJJJIJJJIJJIJJJGGEHIGIIJIJFIIIIII@GCHGGEHEAEHEDDFFDEDDBD?AA@DDDDDDBDBDDCDDDDACCBCD': 1,\n",
       "         'B@CFDDDFGHHHHJJJJGGIJJIHIJGAG<D;FHICGHGHGDGEHGGGFGGIIJIIIHFGE<CBBDC>A2>B?AD@BDB59-5?B?@B<:?A@CDDDD<?': 1,\n",
       "         '@@BFDDFFHHHGHIJJJJIIJJJJJJJGIIIIJGIIDHHIIJJJJIIIJJJJJCHIIHHGHFFFFFDCCDEDAB?BD?BDB>BBDBBDD@CCCCD?CDDD': 1,\n",
       "         '@@?DFDDF?DFFHGGGBGHB;GEHIFIFIDHCHH@GHGFAHGIIIGIIC@D=FFEEIB)55;@=)77=ECEF<DA@@@ACC;@(9,59?5>,(:<B<(9?': 1,\n",
       "         '@@CADDDFHFHH?HGIEGHIIJIJI4CF??B4?08?F>GIE<CGGIBFHGEHG7C7??CAADDF;=5;AAA?C3;@CA;@CCCA>5:>?CAB>>>C3:25': 1,\n",
       "         '@@@DDDDDFFFFDG:CFFFI8AFFEIIIIIIIFIIIIIIFEGFDIIIIIIIEIIIIIIFFFFIII@EFFAEEFFFDBDDEDCCCCCBBBBBBB:>:?@B<': 1,\n",
       "         \"@@@DDDDDHHHHHIIG=+2*:??3CCF@FHHIIDHGG84?@BFHIIIIII;CCEHI<EEHFHE@(,5;3@((-(',3;8?CCCDCCCCBCECA@CCCCBB\": 1,\n",
       "         '@7@DDDD8DFHHACGGHGGHGIGIIGGIB:?GEHGHGGGIDDE>@GCHIEE=;AHAHEEEDCCCB@AACCA@A@>><A?CBB8<AB>>BBB<B82<@?@A': 1,\n",
       "         'CC@FFFFFHHHCHHIJJIJJJJJJJHIJJIJJJIJJIJGJJJEHIIIHIGIHFHHHHFDFEEDCDDCDDDDCDBAABBBCDDDDDDD@@BDDDBDB>CAC': 1,\n",
       "         'CCCFFFFFHHHHHIIJJJJJJJJJJJJJJIJGIHIJJGHIJJIJIJJJIIJIIJJJDDDEEEFFHFFFFFCDEEDDDCCDDDCCDDDDCDCDDDEEDDCC': 1,\n",
       "         'CCCFFDFFHHHHHIGFHJJJIIIIJJJGHIIIGCGIJIJGIJJCHGHIBGIIHHHHGFDFFEBEDACBBDDDDDDDBDDDDDDDDDBD9>BBDDDA18@@': 1,\n",
       "         '@@@FFFFFHFFHFJJGGI@FGHIJJJIIIHGGIIJJGGJIIGI@HIIEGAGGIIHHGFFE<BEEEDDDDDDDDDDDAC@>ACCDDDCBBBDD@B9>BB?A': 1,\n",
       "         'CCCFFFFFGHHHGIJHGIJIJJJHIIIHEIGIIIJJJIHJJJIHIGGIJJIIIGIIIJJIJCHCHHCHDEFFFCD@CEEEEEEDD3;ABDBDDDDDCA?B': 1,\n",
       "         '@?;BD=?DD?FAFFI:;E@C6FC0:?DGA??B1@<@FEA@CFF@E9@=A4;?77;;;(;29(@;ABBB################################': 1,\n",
       "         'CC@DDDFFGHHHGIIJIIDGEHHIGJIIJIIGIJJIJIBGGIJJIHFHIJIJIIIJGJJFGHHGHGEDDEF?@CCEEDDCDBDEDEDDDCCBDDADDDDC': 1,\n",
       "         'CCCFFFFFHHHBHGHIIJJIFHIGIJGGIIIJJJIJJJJJGGGGIJJJJJJJJHHHHFFFDEEEEEDDDDDBDDBCDDDDDDBDDDBDDDDDBBDD>9@B': 1,\n",
       "         '81?BD?DBHH;FACFF@BGGECFGGD9@?FC<B91007DFHDGI9@AECCCGGEC(..9?AA6>;65=;=CCA98<<A@5:ACBCCA1?9<<B289@59>': 1,\n",
       "         '@@@DFDADBDFHDGDEHHIGIH:CCGGGIIIDH@DHGEEAFEGFC@DCHIGIGEEFEEBD9=(;A3>AC?79?A???C>:>@CCA>CBAA<<A?AA>BB@': 1,\n",
       "         'CCCFFFFFHHHHGIJIIIJIJIIJJJJHCGGEHGEIIJJJJEHIJJIIJIHHHGGFFFFFFCDEDDB@BDDDDDD?@CDDDD@CCDDCCCDCD?ADDDDD': 1,\n",
       "         '?@@DFDFDHDHHHIJGIJHIGIIICGIJGGECFG?DGGDEG;@FGGIGGHIGGGHGEEDA;=>CCCCCCCDDD>C<ABB<?A>:>CCDC8<CBCDD@>>A': 1,\n",
       "         'CC@FFFFFHGHHHJIGIIJIIJJIJJJJGG@GCHIGHBFDDFGI@EIIGGAEEHHFFFFFFACDA>BDDDDCCDDDDDCDDDCC?B89?@DD<>C?CC<<': 1,\n",
       "         '@CCFDDADHHGDFIGIGIJJFHIGEIIIFCAFHIGHEHGJGGGGCFIIIJ==FGIJGHHECH9BFF@CCCD>CCC>@>@>@ACDDDDDEEEDDDDCDDDD': 1,\n",
       "         '?@@?DDB:C@FHHIIIIIIGHE@EGEEIIE@FDEDGGGEHFBBG@FDCGCFGHIGG=DGEEH)7==?;CD;@>CC3(;@CBC>CCCA;,>8???9?>>>@': 1,\n",
       "         'CCCFFFFFHHHHHIGIJIJJJIJJGIJEIJJJJIJJHJJJDGIIGHIIHIJHFBDDEEEDDDDCDDB@?BDDDDD>CCACDDDDDDDDDDBBDDDDCDDD': 1,\n",
       "         '@@@DDFDDHHGFGIJFHHIECCCGGCIIEHGEGFHDFHIIJJ@GBFHICAGBHB(8;@DH?C>AABFBBEA>AECA@CCCCCCCD?C?DDDB@BA?<?<A': 1,\n",
       "         'CCCFFFFFGHHHHIEIIFGIIJIEGIIGJIIJFGIJJJJFIIIJJJJJJIIIJICGIIIJJJDFC?==BDEEACEA@@DDDCBDDDDDDCD::@BCDDBD': 1,\n",
       "         '@@@DDDDFG?FHFH=FHIIGEEHIJJD>?GGGHIJIGGIHJJ?FGIIGBGIDGIEI@CEEAH>EADFFDBCC@CCCBBACCCCA@>@<BBBC?CCDDDAC': 1,\n",
       "         '@@@DD?DDCDHHHIGGIIIIIG@AG@C1CEHGHE?BGICGBF@AGECAEEEEEDCCC;>;?8?BBB??CC>A<C023::?@B&08A??BBCB2<@C?@?A': 1,\n",
       "         'CCCFFFFFHHBHGJIJJJIJIGIJJJIJGHIJGIJJJJIBFGHIIIJJHHFFFFEDEEDDBA>?BDDDDDBDBCDCABCBB?CDDBDDDDDD3?B?BBCC': 1,\n",
       "         '@@@BBDBBF>FBBE:<@AF@B@FE@GB@:??9BB8?F>FB@BABBFIFGGHC9CE7.7==?89;@:A5?22<1(38>@>95@@&5>9??@:??A38?933': 1,\n",
       "         '@@@FFFFFFHDHHHBHGHIJIGIIIJCHGDHCHJJJJHIEGJIIHIJJIGHIIHHHH?CEFFDDDDDDBDBDBDB@CDDDAA>BBDDDDD?CDDDDCBDD': 1,\n",
       "         '@@CFFFFDHHHHHJJJJIJIGIIJJJIJIICH@FIIJJFDHHHIIJGICHIGFHHFFEFED>CEDDDBBDDDDDDBADBCCDDDDDBBDBBD@B?CDDDD': 1,\n",
       "         '@@CFFFFDHHDFHIEHIIHHEIGGHIG;;9CCGHIGIEIIEEHGGHHGJJJJJJHGIGIGHGIIGIJIHFHFDBDBDDDEDCCDDD2?@?5?B<<BB@BB': 1,\n",
       "         '@@@FFFFFHDDFFFBGEGHG@HCHEGBGGHIGBGG9FHBGHCHBHFIGAGDHGEHHEFFEFED6>ABCBD?;>B?<?8?CADDBCD:95<9<B@<<8>>?': 1,\n",
       "         'CCCFFFFFHHHHGJIJJIJJJJGIJIJIJIJJJJJJIJIFJJJFIEHIJGIHHHHEFDFEDDDDBDDD>ACBCDDBBBDB@?ABCBDDDDDCCDD5>BBB': 1,\n",
       "         '@@@DDDFBDFFAHIIGIH?EAFGAFCHEHEGDBFHGECHGGGGHGEHIGIIGG3EEAFHGICEH>EEEFD@CBCE;;???BB?BBB9A@1?B:?ACCDDD': 1,\n",
       "         'CCCFFFFFHHHHHJJJJJHIIJIIEHGIIGGIJIIIIIJJGIJJJJJJIIIJIIJJGIIIIIJIHHHFFFFFFDE=BDDDDDDDDDDDDDDBDDBDDDDD': 1,\n",
       "         '@CCFFAEFHFHHHJJIIIGIJGHHG@FHGHIIGIJFGIJIDAHGGIJJJJIIFCFHGIJFHHGEGGFEACHDEE?CC>ABDB?=9?55A?##########': 1,\n",
       "         '??@DDDA==:CFDFBGAFEH@4FHD3<C*@*?94C11*:)?B@GE9?*?B@#################################################': 1,\n",
       "         'CCCFFFFFHHHHGJJIIJFGIJJIJJIIIJJJIIIIEGIJIJJJJIJJIJJIIFHEEDDDEEFDEDBDBDBDBBBBBDDDCCDDDDDDDDDDDCBD>BB?': 1,\n",
       "         'CCCFFFFFHGHHGIJIIJIIIIJIIJJJJIJIDEHIJGHIJJJEFHIJJJFEHHGHEEFFF;CDBBDDDBBDDB@ABDC@CD?AC::ACC:?CDD@@>@D': 1,\n",
       "         '@@?DDD+BBHDFHDHIGDHEHHEHFIIDG9BGECCD;@D@GIJIJIIGGCFG=CDDDG(@EEE=?C>B@@;B=;;;;=?BDBA8?ADD<?<>:@C49?8>': 1,\n",
       "         '@C@DFFFFGHFFHGGIHIFIIGIGIIJJIJIJIIIIJJJHGHBBD?DEEC=?A>?CCCDDDDBBA?CDAABD<A<@<BBDDB:>CAABBDBDDDDDDBD<': 1,\n",
       "         '@@@=BDDDFF>FDFEA:CEHAC,,A<?CFD?2?CE>:?D?9*:?DFE?B;DFFFEFFEGBEFIA;DCEA=E=;;B(,6=;??AB<ABBBBB@?@BBB###': 1,\n",
       "         '@@CDFFFFGGHGHJIAFHIJJJJJEGIJ?GE9?F09?D?BF).)8.5.)88=DHHDHHEHFFFFCCEEEDDDDDBACCD@CDDDDDCDDDCDCDCDDDDD': 1,\n",
       "         'CCCFFFFFGHHHHJJIGGIJJGIG@HFEADFFDABB5<@CDDDDDDDDDDDDDDDDDDDDDDDCCB<?C<@CCAC@CDDDDDDDDDDDDDCCDDCAB?C@': 1,\n",
       "         'CCCDDFFFGHGHHJJJJDIIJJJIFFFFFEDABBDDDDDD@DD+8@CCDDDDDDDDDDD?BDD?BCDDCCAABCBCCCCDACDDCDDBBBDCBDDCCCDD': 1,\n",
       "         'BCCFFFFFHHHHDIGHIJJJJJJGIDGHIBEDDDCDDBBDDCDDDDDDD(<@CCDDDDDDDDDDDDDCDBD?CDD>>CBCDCC@CCCCCCDDDBDDDDBD': 1,\n",
       "         '@@@DDBDD:C>D>BGIIIG@GGGHGCHC@FFBFDDHH;C7@@EE=ADE=;ACCC;>8,077;A<?CBBBB8AB9<9@BB88AA@CC:<CCB<+:?A8A>B': 1,\n",
       "         'CCCFFFFFGHGHHIIJIIJJJJJJJJJJCHGHHIJFIGIJHHIIIHGFFFCBEDDBDDDDBBDDDDDB??BDDD??BDBD2<ACDDDDDD?@BDDDCDDD': 1,\n",
       "         '@@@ADFFDHAFD6ABAG>HIFGHEIAFDHIE>FHIIIIHC4DFEGCHHCEHH@GG==CGIHEEBBDC@6@;A@>>>;;;@=C>A?C>AAC@A<9@9?C<?': 1,\n",
       "         '@@@FDFFFFFHG<EDF>FEFHIGGGG@FHEFHE9?GFCDDAFHIFIIHBDHHGHGHEIIIGF>DEEEHB@D@B>A?8=AC?=@BB>CA?CBB<>@BCCCC': 1,\n",
       "         '@BCFFFFFHHGFHIEGHIIIIIEIIIJIIGIHGI>BHGIEHGEE@GGH?BFEHIIIJJJGI@CGHHFGFBDBBDDBD@??==?BDDDBA&5009?9CCCC': 1,\n",
       "         '?;?A=2B:B:2<:C?@)8)?D??1*?:B0)908?##################################################################': 1,\n",
       "         '@@@DFFFAFHHHHIIIJJGIFCBE;FGGCFGIJJJJHIH@FIJIEHHE@ECH@ECHHHFEEFDDDDBDBBBDB>@CCCDDDDC@CCDD>BDDDDDDDDBD': 1,\n",
       "         '@@@FDFFFHGHH+AFGGEHIDHIIJGIIGDFHFFCHJFCHGGH9CEC=DFDCBDDDD58?ACC5>@CBAAADCCDA?ABCBDDCAB<<<@)2?C(4:@4A': 1,\n",
       "         'CCCFFFFFHHHGHJGGGGGHIJJJJEIGBGIGCFHIJIJI@DHIIJDFDH@CHIJAHHACHFHE;E>>?B(59;=;558?+:4?@18<ACCDD?@(+:>C': 1,\n",
       "         \"@@@D??B;:AFFD?F+AC?AD>FEB*:?4?@?)?3??8;B*09/B@=B<B)BAFF'-6=C).))()..>>>B???=-9?#####################\": 1,\n",
       "         '@@@D;?DDDFDDDIIGII@FGHGGIIIIIAGGE>AA;5;>;96(8??BDDD??BB57AABDB>A0>>:9992259<A9<BB798(>@>@>>44:4((4@B': 1,\n",
       "         '@@@DDBDDFFFFFFIEGIF?<?E:?DAFFFEEIFEEGBDFFCFFFFIFCCFF=)=FFIII-4=)=B;?@@>;>BB;/>@BB&&0<3>4<B&)0029?B##': 1,\n",
       "         '@@@FF?DEHGHF?CBHGGIJIECCFBHHIHGHGDFGGBHGIIFGHHEFDFDDCCEECDDBD@BD=@@28??CCCA>@DCCCDCCCB?CDDDDDC322<BB': 1,\n",
       "         \"@@@FDFEADH?FHFF>C@EAB:CCF91:*1??3??G4??B@DB8/*8))8=27=6@==7C@CH'9>1A((5,5>A#########################\": 1,\n",
       "         '@CCFDDFFHHHHHJJJIJIIIHIJGIIIJIJJIIIJIJJJIJIJJIJJHHHFFEFEEEEECACCCCDDDDDDDDBDDDDBBBDDDCCCCCDDBBDDDDCC': 1,\n",
       "         '@@@DDBDDHHFHHIIDB7ECGHIIIIGIGIE?FGA?;BFFFGIHG<FGIGIGEFE>D)=@CEC>CCB7=>AB############################': 1,\n",
       "         '<<@D7B:BFDD?H@EHGGIGIGIGEDEFGGFGI@G8?09?BFEG;F<CC@=CAC4.=ADGCGH7?EB>;;BDBCB/8:@C####################': 1,\n",
       "         '@CBFFFFFHFFFHIJJJJJJJJJIIJIJIJJIIIEDGCHIII>GHHIIJJJJJIIJIIGHGHHHEFD;CBD>(>B?3;A>@>>@:>:3>AB&)99@@058': 1,\n",
       "         'CCCFFFFFHHHHHIHIJHIJJJIJIJJJIJIJJJJJJJJIFGFHHEGEIJEFGGFEGICHIHHHDCDBD@BCA@@;>ACAD,3<>>:::>@>(3?B####': 1,\n",
       "         '8?@DDDD??=<DF;3<ACF@EGAGECB@)?D33C>C?DDD)7B8;(.=BF##################################################': 1,\n",
       "         '@@@FDDDADFDHHIJIIEIJHGGI<EF<EHIJJJIIJJIJHI(0?=BCDH;CCGHIIII:?AA3=;??>@DC@@A6;@@@C###################': 1,\n",
       "         'CCCFFFFDHHHGHJJGIIHJJJIGDIJJJBHH(?FGICFGGIIGEE7?DBBAC@CD@B@BBCDCAC?BB;5<A@DDD75<?CCCCCC4>A@>(:>?BCDA': 1,\n",
       "         'CC@FFFFFHHHHHJIJJJJJCHIJFIJJIJJJJJJJJFIIIIIGIFBFHHDEGHEGE>EHFHEEAC;@CDCC;@B>=@;>>C@9(5;,3<:AACC4:@C?': 1,\n",
       "         'CCCFFFFFHHGFHGIIJIJJGGGIJJIIIJIHGIIIJIIJJJIFHEGE(=@FGDGG>ECEBEHF;>7?3>ACC>BA?C255:,:ABD#############': 1,\n",
       "         '@@@DDEDFHHHHHGIJIIGIHGJJHHGIGIIIC@GHGGHIGIIJGGHIIBHHHIHEHDA?C?ECEFBBCDCC:>CCCCBBCCB#################': 1,\n",
       "         '@C@FDFFFDHDDHB>GEHGIEFFGCAFGIAEAFC3CD@GHD@BH9BDGII;FF=@ECEGGFD7?C>@B).?>@ACC@#######################': 1,\n",
       "         '8?@DDDD?C3DFCEHIGHIIIIIHHIIIFCHHHCHIGIIBGGHDHFBHGIIIHI<5=6?;2.?;@@));3>@@3>@>@@C(5:??3>?@###########': 1,\n",
       "         '@BCFFDFFHHHHGIJJIIGIJIGGIEGGGEADFHIIGGIGIFHHIJIIHGIIJIIGAGDEEEB<ABBCC@CCDAB@BD=BCCCB>9@>?<8<9@DDBB<>': 1,\n",
       "         '?@@DFFFFBF?DFEGEGGCHH<CFECFGI+AEEHICIGGIIFBHIGIGCDDHHI85C(6?>?A:;BB;@>C#############################': 1,\n",
       "         '@@@DD+BBFHCADE3CFBGIBHIGDH+AFGGBBHADH<CHFDDFIGC9D<?98*0..;@--=CA@EHF;.(6;BBBCA6.>;@5;ACC>CCCDDDDC@CC': 1,\n",
       "         '@CCFFFFDHHHHGGIIIJJIJJJGJIG@GGIJJGIJJJJBGGHIIIJJIHIIGICGIH;EGHCHHECEFEFFCCECEEDDDDDDDDD8=CCDA>ACDDDD': 1,\n",
       "         '?@@FBDFDHFF4AFAGGGIEEHIIIBCGCHICHHDHGGIGBHDGG?B9BGGDH=FE@)=8@CGEEFHFFFF@>@DAAC@;5=>AD35>A?ACB/509C43': 1,\n",
       "         '?@;D?D>DHFFHFIIIGHGIGCFHEHHIHEHEDGGIIIII<CBHHIIIBHHHIIIIGGGIIGHHFHEBBDBDECE>CE@C@CDD>@CDDDDDDDDDD@B>': 1,\n",
       "         '@@@FFFFFHHFFHBHGGGIJJFIIIJGJ<HGGIJGJJIJIJIIJGDFGIIJIIGIGJCHGGIJJIJIHHCEBCDFBACFEDDEDEEDCDDBBDDDCCCDC': 1,\n",
       "         '?@@DDFFFBFHDBGEB@FHIE@H>FHGEFHDHBBGDFCGFC1?DGAGGEEGE<FGGI=CH>;@@GG@EC?CBCC>33;ACAC:>CDE@CCDBADC:>CBD': 1,\n",
       "         '@CCFFFFFHHDFFHEIGIJJJJJIJJJGIIJJIIEHIJJJFHFFFFFCCAECAEDACDDAA?CC?CCCCCCDDDECCDDDDBD9@?CDCCCDDAC<ABCD': 1,\n",
       "         '@7??DDD;?BFFDGGI@G>F:CFGEHHIGGGHIIGAEGDGI37?ECECBDDDC;;@ECDDDCCCDDCDC39:==@9@B@ABC>AA?@9A<?CBBB@??>A': 1,\n",
       "         '@CCDDFFFHHGHGIJIJJGDEHIIFHIJIIIJIJIJJGIJJJFIGIJJJDHFIJIJIJJJIGIIJIFHHHHGFB?@ACED?BDDACCCDEDDDDDBCCCD': 1,\n",
       "         '@@CDFFFFHGGHHECEHGH<FGHIGIEH3C@+<C94:E<9?;GGGIGHHHIIIIIII3==)=)7)6).=:;>97?.;?CA3;?CCCCC############': 1,\n",
       "         '?=?DDBDDGAFDHGG:ACIHGDFEHIEFHEEGG@EDGGGHGHHH?GFHHIEIAGGGHCEGDCEHGIGHEHECEE?;>ACED;=CCD>CDDDC3>9<B@CC': 1,\n",
       "         'CCCFFFFFHHHHHIJJJJJJJIJJJJJIJIJJJIJHHHHHFFFFFFEEEEEEDDDDDCDDDDDDDDDCCDDB;BDDDDDBDDDDDDDDDDDDB@@CCDD<': 1,\n",
       "         'CCCFFFFFHGGFFGIJJFIFGIHIJJIJIJJJJECFGIIIIJJHHHHGFFFFFEEDCDCDCD;CBBBD@=?CDCDD@CCCCDDDDDDBCDCDDDDDDDDD': 1,\n",
       "         '7;@B;=B?FHFHF@E<A<I,C4A?B>4+++<CF*::CFHF*1:*0)0?:B8?0@##############################################': 1,\n",
       "         '@@@FFDDFDHFHHII81?FHHIIIIBGFDG88)=;CCDAD@C=>EEHFFE@EF3>ACCBBCBC<(953><A>CCA<?B<<8?CCC@CACCA@AC@ACCCC': 1,\n",
       "         'CCCFFFFFHHHHH6FHIIGHIJJGIJJJIJJIJJJJJJJJJJHHHHHHFFFFF@CEDDDD@DDDDCCCBDDD?BDDDBBBDDDDDDDDDCCCDDDCDDDD': 1,\n",
       "         '@@@FFFFEHH?AFHIJJGJJJIIJJJJHHIJJCHIIJIJIIJJJIGIJIIDHGEHJIIIJJJIIJJJJEHHEHFF@CDCE;?BCDDB;<<CDDACDDDCD': 1,\n",
       "         ';?<DDDD?HFH?FDHGBBBBB@/?<CBCACC8@>>>>CCC<?<@BCCCCB-:&05793>33>>38:(++:(+44>(3>A>(444:>CC34>CCBB@<@##': 1,\n",
       "         '@@@DDDDDFF8FBFIIIGEFH:GHCFHIIIEIIH@FH@BHEHFGB;=BFFCGHH3C@=?AH:AE);BDE<>CBCC>>5;@A;@AC:(,>:?9?A9A@A@#': 1,\n",
       "         'CCCFFFFFGHHHHJBFHHGGIJIJJIJFGIIJIIIJJJIIIGIJJIHIHFIIIJJAHEHGGFDFFDDDEDDDDCDCDDDDDDDDDDDDC@CCDCCDDDDC': 1,\n",
       "         \";@@?DDDDFFHD?GII<HCFHGHIIGEBD6?'5@=AE>E=?DEE>BCCACCACBCC;;>CCCC@3@@CA?9&09@@B8<ACCCBCA??A2<BB?@?C3@3\": 1,\n",
       "         '@@@FFDDFFHHGHJIJJEHIIGJHIIIGC@GIJIECHHFEHFFEFFFDEEDDDDCACDDDEC:ACDDDDDDBCDDCDDCCDC@<?@DBDC9>@CCCDCDD': 1,\n",
       "         '?@@DFFFFHAFFCBGIJJIGIJJHJIGHEIGGDIJIEIJGGIJJJJJJIJJIJJJJJIIIIHIJJJJJBE?CCAB??DEEEEE?BCCDD=BDC>C:>CC>': 1,\n",
       "         '@@@FFFFFBHFHH@FGIJHIJIEICIGGIJIJJ<GHHHJCGHIBGIIIJHIJGIGGHJBAAFHJGGHHGHH3=AEB;=@CCCE>?BDCDCCCCCA>CCDC': 1,\n",
       "         ';?@DDDDDD?FDF<CFHFBHIIIHHI@DCGIIIEBAGGIIIIIIIIEHIIGGIIIIIGFHII=FGGGGEEH?=C?;BBAC>@>@=(>:@89,59A::@CD': 1,\n",
       "         'CCCFFFFFGGHHHIIIJEHJJIIIJJIIIJJJJJJIJJJIJJJIGIJHHFFFDDEDDCCDCDDDDBDBDDDDCDCCCDDDDDCDDDDCDDCCDDDDDCED': 1,\n",
       "         '@@@FFFDAHFGHGIJGGGI<DGEGIIGBBBEGHGCIGGIGIDHIGGHIHGEFFFFEEEDAC>;;?????BACCCCDACCCCCCCDDA@ACCCAD>C@@AA': 1,\n",
       "         \"@@@DDDDDHHDHHGEH><IF@F=BFFEHFIIIIIA<D>DHGHHHHHHBC>CDDC(;;6=@>>>>AC?ADCC<>'009>9<?BCC@ACCCC189??8?<CC\": 1,\n",
       "         '@CCDBFFFGGGHHIIFFI<C@GGHJIJGIHIGIIIHGIIJIIIGIIJJJFIHIJIIIJIJFIJ<FGGHJ>CCHHFD>@CDEDDEEDCDCBDCDCB@B?CA': 1,\n",
       "         'CCCFFFFFGHHHFGGIIJIJIIJIJIIJJJJJJJJHIJJIIIJJJIIIFIJIJJJGIEGGIJF>CHHHDFFFFECC@EEDDCDDDDDDDCDDDDDDDBDB': 1,\n",
       "         '@@@DDADDHHFGHJJJFFIAGHJJJJJJ@GHHIGIJIJJIJGIIJIGGIJJGIGGGGHICH=FEGGHHHHHGFHHFDDFFEEDDDDDD@=@9,:9@BBDD': 1,\n",
       "         ':??;=ABD4=:<AABBCAD+A;CB<<,AA<H9A<FFECG999?D@9<B9*B9?G4D:B@@AC96A@A8C;>9AEFB########################': 1,\n",
       "         'C@CFFFFFGHHHHJJJJIJJJJIIHIGGIGIIJJJJJIIGJJHHGHHHFFFFFFEDDDDDDDDDDDDDDDCDDDDCDDDDDBDCCDDDDCDDCDDDDDCD': 1,\n",
       "         '@@@FFFFFFDDDHGIIIIIGH<IFFHGBCFGFCGEGDGIIGHI>HC@FIJEHDFA@GHDGF?BGHIEHF<@;BH.;?BBECA>:;ABBDDA@CDDBBC>A': 1,\n",
       "         '?@=B?B?DD?F<<EHBGGIEHAFGD?9C9FGH>FGEDHEH>CEG>3*?3*BFG@G@GG*?*?;CFGEIDEIGBCEBB:@CEC;>CCB@2;;@CC9<9:@C': 1,\n",
       "         'CCCFFFFFHFFFHJIIIGHGHIJJHIFHIIJJJIJJJIIJIIHHHHHHDFFFFFECDDDD;BBCBDDAA?CDCBBD8@BBDDDDDDDDDDDDDDDDDDDD': 1,\n",
       "         '@@<DFFDFHGFFDIGIIIHIGIBGIIGHCHIHGIG;DEGDGIHIGG@FIIFIIIIIIIGIIG>7?>EECC?CDBC@CEDDDB6;=?BBCA9ABDD)0<8?': 1,\n",
       "         'CCCFFFFFHHHFHIJJJJJJIIJGHHAGHJJJJJJJJIIIIIJIJJJJIJIJJIJJJIIJJIIJJJJGIIIJJDF?BEFFFEEEAEDCDDDDDDCC?BBC': 1,\n",
       "         '@@@DDFFFHHHHGGGIAGGGHFGHHIGIGIIBGGI@GHIG@HGGHHHHHHFFB(;AB=B@D29?CDCCDCBBDBB??CCDDCDACCDDCDCDDADCDD@>': 1,\n",
       "         'CCCFFFFFGGHGFIJIJJGEGJIJJIJJGIJGHGIIJIIJJFDCEEEDCA@?CDDCCDDDCDDDDDDDDDDDDDCDC@CCDDDDDDDDDD9:?CCDCBAC': 1,\n",
       "         '@CCFFDFFGHHGHJIJJIHGGHJIGJFIICFDHAHIJJJJIDGIJJJJIIEIIFGHI=E9@EHEEHHFFFFCDCCECE;@;@CACCDDCCCBDDD@@B9C': 1,\n",
       "         'CCBFFFFFHHHGFHIIIJJJJJIJHIF<ADGEGHJJGIHGGGGDHGHGCFHFGJBHGHGHGIAFGEGGICHGDAEBHED?CA>AC>ACCDB??CC>C<<A': 1,\n",
       "         '@@@DFFFFHHGHBGIIIIIHIGICGHDFHGGIIGE@F??:DFFDHIBH>DFE@EEGHH=DHHEHHGGHFFFDFEECECCCDDCCC@ACACCDDDDDDDD<': 1,\n",
       "         '@B@FFFFFHHHHHIIIJJJJJJJJJIJJIIJJGEIJJJIJIJJJJIJIFIIJJIJJJIJIIIHHHCEEADFFFFDABDDDDDDCDDDDCDBDB9BDDBDD': 1,\n",
       "         \"@??DFFDDHGHDBFEE?EGGII<HEG>H<AE+2ADCEEGGIGCFF99BFHDGE<?9*9?DDHHIBFEG:FCD8CGG6'3;;;?C((((5,5>:?<(8>:@\": 1,\n",
       "         '@@@FDFFFHHHFHJJJJCHIIGIIIIEHIDCG<ADHGGIJIJJJIJJJJJIIJJHGGHHHGDHGGHHICHIIBBGGAE>BBEFEDEEE?C>CCDDDDDDD': 1,\n",
       "         'CCCFFFFFFFHHFIJGIJHHIIGIJIIJJJIIICGHIIGIJIJIIJJIIJIIJJEIHIIJJIIGHIIJGJIJIFIGGFEHFFFEDDCDDDD>CDDBDBDD': 1,\n",
       "         '@CCFFFFFHGHFHIIGIJJJIJJIHEGD>EHGFGI?CFGHIJJJJJHGIIFIGGGGIIIGHJGIEGEGIJJJIIJCHIGBEDDB?CEEEDDDDACCDBDD': 1,\n",
       "         'CCCFFFFFHHHHHJJJJJJJIHIIJJIHIIHGHFHHEEHJIJJJJJJHIJEHIIJIIIJJIJJJJIJJJIJIIIIEHIJHHHFEFDEEECDDDDCCCDDB': 1,\n",
       "         'CBCFFFFFHHHHHIJJIJJJJJJIJJJIGIJJJGGIJJJJJJJIJJJJIJIJJJJIGIIGGIHHGHCDFDF>BEEEEEEEDDEDCDDCBBDDDDDBDDDD': 1,\n",
       "         '???<BB4BDBDDD;CC;ABC+<++AC++AEFE:DD0@D@D>9D)9B*9/(.7AAC;AAE@A@)=3?9;@ADADA@A@A;;>ABAA>>A????/9>59<><': 1,\n",
       "         'C@@FFFFFHHHHFIJIJJIGIIEGGIGHGIJJIJIJIIGGHDGGGJJJH@FHIGCGGGIEGEHHHHDFDFEFDA@C@AECCCCDCDDDDDDDDDBDDDDD': 1,\n",
       "         'CCCFFFFFHHHHGIIIDHFIGIJJIIJIJJJJIJFJIJJJIJIEHEFGHEFFBDDDDDCCDDDDDDBDDDBBDDDDDDDDDDCDDDDDCDDDCDDC>@AA': 1,\n",
       "         '<@@DDDDDFFF<4EFE4:C<C9FFDFFGEFFEFB;?BDEGFFFIE@FIFFDFBFIEF:@C=?E>EECDDBDDDAAC@BCCBBBBBB=@?B3<?@B9<<@<': 1,\n",
       "         'CCCFFFFFHHHHHJGHIJJJJIJJHIIDHGIJJIIDGGH?FHGGJIJJEIGIGDGCGIIJICHIIHIHJIIIJJGHGHIEFE=ADBBCCEDDDDCDCAC5': 1,\n",
       "         '@CCFFFFFHHHHGJJIJJIJJJJIHIJJJIJIJJJJGIGCFHJJJIJIJIFHIJIIJJHGA@BFHHIEGJBHIGJGCEEGHHGEDECCCEDCCDD=ACAC': 1,\n",
       "         'C@CFFFFFHGHHHJJJIIJJIJJJJIJJJIIJJJIIJFHIIGIHEIFIIGIJJJJGIIEDHEHHEHFFFFFFFEEEE@CDCCC@CDCCCCBBDDBBD9>A': 1,\n",
       "         '@@@DFFDFFFGHHGIJIJGGIIIGJIGEFGGHGGCGI>?DGGIGHIJJCHIIGIBHIIGH>CC2?E7?C=BBB=A9:A:>ACCCDDCCDBDCC<?C8??:': 1,\n",
       "         '@BCFFFFAHHHHHGHIJIJJIIIIIJJJIGHIIIIIDHIICCGGGFEIHIGIJIJIIGIIHGEEHHEFFFFECCEEDCDDDDDDDCC@CCDDDDCDDDCC': 1,\n",
       "         'CCCFFFFFGHHHGJJJJIJJJJJJFIJIJJIJJJJGIIJJJIIIHIIIJIHIJJJIJGGHGJIHHHFFFFCCCDD>;@@BDDDDDDDDDDDCCDDDDCDD': 1,\n",
       "         '@@BFFFFFHHHHHJJJJJJJIJJJJJJJJJJJJJJIJJJJJJJJIJIIJJJJJJJGIHIJJIGHHGGFFFFFFCECCEEDDEDDDDDDDDBDDB8@BDCB': 1,\n",
       "         '@CCFFFFFHHHHHJIBHIJHGJJJJJJIJGGIIJIIJJJGHEEHCFHIJJJJIJJDHIJIIJGIGIJJJJJJJEIGHGIJJGGEEHBEBFDDDBDDCCDC': 1,\n",
       "         '@@@DD>ABBD<?AC@ECFGHIIIIII<3:*?:;BDH;1??FGGBDGG4)8=@8)=CDG@@GHIIEA;>AC@?;>B>BB8>?B?@CBBBB5<(4@4>>ACA': 1,\n",
       "         'CC@FFFFFHHGGHJIJIIGJJIIIJIJIJJJJHHIJJIJJJIJIGHH?FGIIJIGJJJHIIEJEHJJIIIIJIIGHIJJFIHHHHHFDFFDDB>@@DDDD': 1,\n",
       "         '@@BFFFFFHHGHHJJJIIJJJGIJJIJJGIJJJJIIJIJJIGGHHHIIJIJJIJJJJJIJJHHHGHEC@EFFFECCCEEEDDDDD@B@DDDDDBCBDDD#': 1,\n",
       "         'C@CFFFFDHHHHHJIIIJJIIJJJIJJHIJJJJGIJIIIJJJJIJJJGIJJJEIJJJIJJJHHHDHHFBEBCDCCCAECEDDDDDDDDDDDDCB?ABBD#': 1,\n",
       "         '@@@FDDFFHHGHHJJJIJIIHGJIGIIFJGIJJJHGIGGHIIIJJIHEH?BFEHHHHIGIGGIHIJIJJJJIIIIFGIJJIBHJIHHGHFFFFDDCDDDC': 1,\n",
       "         'CCCFFDFFHHHHHIJJJJJJJIIGJJJHHIIJIIHIIJJJIJJIIJGICHIGGI<FGIC>E9CHH>A>B@?C>@(>AA:ACC@CDC;<@@;@BB5>A<3<': 1,\n",
       "         'CCCFFFFFHHHHHJIJIIJJIJJIJJJFHHIJJJJIIHFIHIIJJJJJIGFHFHHJJJIGIIIIIIGIIJIJJIIGGIIJJJJIJHHDHCEFF>ABDCD?': 1,\n",
       "         \"<@@DDDDDFFHFHGGII:CDHCBA?C>?EEHIIIIGFD>DBF8B8?:7-'5@DHGHHAE?HB;@CDBACC>CA@-5;@CCC:55(5'9(4:4(3<A>:4>\": 1,\n",
       "         '?@?DDDFA>:CFFBBDGGGGIIGGIHBFEGFHFGGIGAGDGIH>EDBDF;FHG@GIEHHIBHFF3?ED>)?B);@6;A@CD:3;5;=B?==?9<??@<<C': 1,\n",
       "         '@CCFFFFFHHGHHIIJJJJIIIJJJJJJIIJIIJJJJGJIJJJJJJIJJJJGICHIJIIIIGHEFHHFFDDEFACECDECDDDDDDD?;?@BD7>?BDDC': 1,\n",
       "         'CCCFFFFFHHHHHJJJGGHHIIIIGGIIJJIIGIIJJJIGJJIJIIHHHFFFDDDDDDDDDDDDDBDDDDDB9ACDDDDDDDDDCCCCCCCC@ACCDCDE': 1,\n",
       "         '@CCFFFDDFGHFHJJJJJIIJIJJJIIIIGEGIJJGIIEHEHGICGHIJJJJJJJJJJEEGGGHFHBEC39?BD??ACACCCACDC@CCBDCC@DCABBC': 1,\n",
       "         '@@@FFFFFHHHHHJJIIGHIJGIIJIJIGGIIIJJJJJIGDIJJJGHHIIIGGIIJIIIH=;CGGGH>FHHIJJF>.?EHFEABDFFFECCCECECCCDD': 1,\n",
       "         '@@@FDDDDGHFHDBGGIJIBEHGGBHDHEHG?F;DGABFHHHDHBCFFICHGE@GBHGJGIIIDCHFFDFBAD>?=??ACD8=@0&882294:@>@CCDD': 1,\n",
       "         '@CCFDFDFHHHHHGJIJJJJJJIIJJJJJJIJJIIJJJJJJIJJJJ>FHIHIJGGIIJGIJJGGEEHHEDDDCEDCCECDCDDDEDCDDDDDCDBDDDDD': 1,\n",
       "         \";@@DFFFDDFFHFHGHIIIIIIIEIIBEGEECGC>HCDDAECGEBDBEGIIIEI8=AHABE'9?;AECEC;@C@>>ACC::9ACCB?>82:::4:A@###\": 1,\n",
       "         'CCCFFFFFGHHHHIJJIIJIJHIJJJJJJIJJGIIGIIJJJHJJJJJJJJIFGIJJIHIJJJJBFGBFHHIJIIJGHHHFHHHGFFFFFEEEEEEEDDDD': 1,\n",
       "         '@@@FFFFFGHFHHJIIJJJIIHGJIJ??<AEEHIFIEHIFB?FHIJJIDII;@EHHE@EECDFFFFFE>A@AA;@BDABBDCDDAAB?@@DDDDDDDDDC': 1,\n",
       "         'BCCFFFFFHFHHHJJJJIJIJJIIJJJ@GIHIJIJJIJIJJIIHIJHJIJIIDHHHIHHIIIJIHGC=@FHIGHIHGHHHGHHGFFFFEFECEEEEEDDD': 1,\n",
       "         'CCCFFFFFHHHHHJIJJJIJIIJJJJJJIJJJJJJIIIIJJJJIJIJJJIJJJFFGEHIEHJIJIHHIFFEEHIIIJHHEHHHHFFFFFB@CCEDEDDDD': 1,\n",
       "         '@@@ADDDABFFF<+ABBFGIIEI>EFICCCEEGIIIFIEEAE99?FD8?CFFEFFEA@EFIEFEE>;B@DDBDA3;6;(53>A>>ABAAB<@88>B@>??': 1,\n",
       "         '@C@DDFFFHFGHHIJJJIJFGBHHGIJIEH@FHIIIIIGHIGIJJIJJHCHHHIGGID?DHGIHIIGHGCCFHB;=@HCHHHHFFFFFFFCDEEDCDDCC': 1,\n",
       "         '@CCDFFFDHHFHGJJIIGCHIJIJHIGIJFIGIJIJIIIIHIJJJJJJJIJJGIJEIGHGIEHEHIIJJIJ=CC7@AEHGHHHFFBDFFFEDDDCC;?CA': 1,\n",
       "         '@@@FF=DDGFDFHIBHIIIIHGIIGIIIII@HIIIGGGICG:BHGIIBBGHIIIIIIGBHEHAEHHFCFBCC88?@?<A@CCCCCCDDDDDDDDDD@BCB': 1,\n",
       "         'CC@FDDFFFFHGGJJJJJIIIJJJJIJJIJJJIIJJJJIHIGIIHGIJIGIIJJJIIIIIFIGGGHEFD;>BDDD<C@CDDDDDDDDDDDD@ABD?<<CD': 1,\n",
       "         '@@@ABDDFFFFHFIGAEHHGIJ>CHHG??FFGIJIDHGFHIFHJBD<??D?D9B4E4EABDH=FH>AC4==@EEDCC?ACED;;B@CCCAC@C3>>>C##': 1,\n",
       "         '@?@D;D;BBFBBHCEFFCH@B<FEEFHFEHIIGIGIEGIII@DDAFFGH>DHD@EGGCHIGGI?@<;F@>@==7.7@75?CEFDCD;B@CC>>CCC:@CC': 1,\n",
       "         '@B@FADEDFHHHHJJJJJJGIJJJIJJFGGIHIIJIJJJJJJIIEHIJJJJJJIGIJJJJJJJHJJJIJIIJJIJGEHDHHEHFDDFFFEFEEDEEDDDD': 1,\n",
       "         '@@@FADEDHHHHHJFIIJJEGHIIJJJJJJJJIEGDFHIJGFG><B<?9?GIHHIGHHHGJIJGHIAFECFHCGGHDH=1?CHDCCEFFD3>@ACDDCCD': 1,\n",
       "         ';;8=;D:BFBFFFIDFEGBAHAAEH@4AFFFEBFG:CD?DDFCGI<F9DE<BFFFDF<D9?B=FE=./)8=F47=4@7CC.;?B?:;@DAB@B;6;;ABB': 1,\n",
       "         '?@@DBB=BDFD?C@GGIG:?EAFHDDHHIIIGHIGE@D4DGF@9BCDEGG@GG@DHGIII<CAH>C;F47=C>@@C)7@E=EEDE<7)7>ACA;3;@:@@': 1,\n",
       "         '@@CFFFDDHH<FFGIIJGIJJJGBGGGIJ=G@FEHIIJIIGJIGHIJJHIIHDEHFFDFFFCECEEDBBBDCDDDCCB@C>ACDDCCCCDCCCCCD?C:@': 1,\n",
       "         '++1=BBDDDDBD<CCCEDEB:AFEBAF?<1)):9C<1:DDDD*?DDBDCADEIEIB9BBCICEED>=C@AE@@7).=CADD=?DD###############': 1,\n",
       "         'B@CFFFFDHHFHHJJJJJJJJIJJJJJJJJIHJJIIIGIJIJJJJJJCCHIIIJIJGIJJGFEGIIFHGCEFGHJEGG@DHACHFFFFFFAACFCDCCDD': 1,\n",
       "         'CCCFFFFFHHHHHJJIIJIJJJJJJJJJJJJJJJJIIJJJJIHIIIJFBHIGGIIGIIGGIEHHHGHFFFFFFCECCCDEDDDDDDDDDDDDBCBDBD@B': 1,\n",
       "         '@@CFFFFFHBFFHJIIIJIJIIGGIIJCGIICGGICGFGGHIIIIIJIIJJBHEIJHICEBH59?BAACDDD@C<>CCCCCCBCDDBDCAACDAC@ABAB': 1,\n",
       "         '?@1=BDD@DA?FDGFEA?>H<AE4?GFH*:CFDEF>DG@DB@F>F9BDFFEEFEF@8=@@E@@EDEEEEFCE7?).;BDDDDA>>@A;>(-;=?:@####': 1,\n",
       "         'BCCDFFFDHHHHHJIJFHIHIIJJJIJJGIIGIIJJJJJJGIIIJDHIJJHIGGHHIJJIJJJJJJJJJIHHHHHHFFFDECCEDEE>ABABBDDCACDD': 1,\n",
       "         'B@BDFFFFHHHHHJIIJJJJIIJIIJJIJJJIGJIJJJJJIJIJJJJJJIJJJJIGIIJIHF5@ACEEDDCCCCD>CDDCDCDDDDDDCDBBDDDDDDDD': 1,\n",
       "         '@@CFFFFDHH@FHIJ?GHGIGGHGHGCEHIJJJGICGHIIHGHIGIIJJIGICFGIIIG=EHGFHHHHFF6=<>>ABD<<A?@>)5?BBBDDCDDCAACC': 1,\n",
       "         'B@BFFF;DFHHHHIJJJFHII@GIIIJIFHBGG>GGIDGHHGIJJJJIJIJIJIIGIJI>C@7=AEHGHGEFFFFBDEEEEEEEDEDDDCDDCA>5@@CC': 1,\n",
       "         '?@@FFFFFFA+@DE@EHGGCHFCFE)?C?FG<FB?DB?DGG9<FFBHGDHIHGGGII>CEECFHHHD:?;?DDE>>;@3>CD<>CCD;>CA>C@A@>A;>': 1,\n",
       "         '@@@FFFFFHHHHHIIIJGIIJJJIJJJFGIEGGGGJIGIIIJIIGIGI;FGIIHHHGHGEHFFFFDDDEEECDDCABCDDDDDDDD;>ACDDDDDCCADD': 1,\n",
       "         '@@?DDDFFHHHHHIIIJIHAFEFGHIIIGHDGHI:BFCGIGHIFGGHGIGEEGGGGIJGIIJJJJHFFFFFFCEEEEEFEEEEDDDDEFEEDA@CDDDED': 1,\n",
       "         'CCCFFFFFHHHHHJEIIJJIIIIJJJCFHHGIIIGJJIGII7BGHIIGIGCGGHHIIHFHHHHFFFFFFFEEDDBCADDFEEEDDFDDDDCDDDEEEDDD': 1,\n",
       "         'CCCFFFFFHHHHHJJJJJJJJJJJJJJIJEHGIIIDHHIGHIJIJIJJIJJJIIIJHGIIIGHGHFFD3;?BDDDCDDDDDDDDDDCCDDCDDDCDDDCD': 1,\n",
       "         'C@@FFFFFHHGHHJIIJJJHGGH@FHHEFHHCGG>9?FGAEGGHGGEEHAGGEHGHBBDBE>6>@CECDBCDD:5:@C@C@AC@C:@??(+>>9<@@ACC': 1,\n",
       "         '@CCFFFFFHGHHHJJJJJJIJFIJJJJJAGIJIJJJIJJJJJJJJHJJJJJJJJIIIIJIJJJIJJEHF?EHFFFCCEEEEEDECDDDDCDDDEDCCCDD': 1,\n",
       "         '@@@FFFFFHHGHFJJFIGHFG)?DGEGGH=HGIJJIIJJHHGHFFFFEEDDDBDBDDDDDCDDCCDDBDDBCBCCCDCDDDCBB??BDDCCCDDEDCCCB': 1,\n",
       "         'C@CFDEFFHGHFH@GIJGIIGIGJIIJIGGI87DGFIHEHEHGHIBEF@BHIGGIEIGIHHHHGFF);?6AAC@A;-;@@@:A?>C>@CCA>CCC#####': 1,\n",
       "         '@CCFFDFFHFFFHIGIJGHIG<FHIJJGIIIJGIIIEHIHIGIJJHIJGIACFHIG@EHGCHHGFFF<>7>;@>A@>;@CCC?>CC:>ACDB>@@C4>:?': 1,\n",
       "         'BCCDDEFFHHHHHJJJJJJIIHJJIJIIIJJJJJJJJJJJJJJIJJGHIJJJIICEGIFHHHHFFFFFFEEEEEDBDDDDDDCDDDEDCDDDCDDDDCDE': 1,\n",
       "         '@BCFFFFFHHGHHJJIIJJJJJI<FGGIIJJJJJIIFGEEFFDABDD??BBDBDDDDDDB07BDDCDDCC@(4(5A?B<C?3>C>:>>?C@DDD?BD9@C': 1,\n",
       "         '@CCFFFFFHHHHHFIJJIJIIGIIJIFIDHIJCHHIBHHHDDEBDCDDDBDCDDDBDDDBDDD@>@CCA@CCCD::?B?BBDDBDC>CD@CBD?<28A@A': 1,\n",
       "         '@@@FDBDDHHHFHJDGGIIJJIG=FHGJGGGGIJJGGHAABDDDCCCDDDBDD@<?<B??B?<@B>;;CCDCDCCC(>?>(05>9BDDCCCCCDCB?B?B': 1,\n",
       "         '@CCFFFFFDHHGHJJGIJJJJJJJJGGIIIIJIIJJIIGGGGIGGGGIJIGIGGHDGDHFHD>DEDFDEEEEAAACCDDDDDDDDDDDDDDCCCCCDDDD': 1,\n",
       "         'CCCFFFFFHHHHHJIHIIJIGJJJJJJJJJJJJGGICHIHIGIIIJCHIIBFHIGIJJJJJGEGGGEGIJJGHHDEEFFFFFFFECEDE@CDDCDDDDDD': 1,\n",
       "         'CCCFFFFDHHHHHIIJIJJIJJJJJJJJJJJJJIJJJJJIJIGIJIIIJJJGIIJIJJHHHHFFFF@EFECEEACDCCCBDDCDDDDDDDECDADCDDDD': 1,\n",
       "         '@@@DDDDAHFH;D@:@EEBFBGGH;FEA@GGBGA<BEEAE7A?9?;BBCC@@BBBBBB?8&80708;><3<?<@182(5>B@B@CAACC3>@########': 1,\n",
       "         'CCCFFFFFHGHFHJJIJIJJJIJJJJJIJJIJJJIJJIGIGIJIIIJIIJIJIJJIIJIHGHGFFFFBDEEEEEECACCCDDDDDDDDCCCDDDDDCDDD': 1,\n",
       "         '@@@FFFDEHHHHHGGJJJJJIJJJIJJJJIDHIIJIJGGIGIGIJJJJJIJJFEHIIHIJJIJIJIIIGIIJJJIEHHHFECEDCEEEEDCDEDDEDDCC': 1,\n",
       "         ':+1=BDDFGHHFHIIJJIIGJJIIGIIIEHGIHIJBG@HEGIFHFHHDIIEHIJGIJDBGI:=CCEHECECDHHHHHHHEDEEEEACEEECCDDD>CCCD': 1,\n",
       "         '@@@FDFFDDFHHHJBEEGGHJCHDGIC@:B@F0?FDHIBCGGGGH>GIGIEGHGHI;ACEFEHC@DFFBCECE;>@CC>CDDCDCDDBDD?>ACDCDDD@': 1,\n",
       "         '@@@FFFFDHHHGHGGIIFGHIJJJJIG9CAFIIJJGGIHIJHEFHIGIIJJIIGDDDBB?A?>CCC>ABDDB@BB5>BBDDDD@DDBB>58<A(<8AAB?': 1,\n",
       "         '@CCFFFFFHGHHHJIJIA?GHHGIJEGGGIIIIIJJIIJGIJIIIJJJGHIEBEBCB@?BDD>CC>(41<?@B><<5<BBA@B?AB>DBDDDBBDA8AA<': 1,\n",
       "         '@CCFFDFFHHHHHIJJJJEHHIIIIJJJDHHGGIJIJDHIGJJGFGIFHGHJJJHHFDDDBDDCDDD>AAABDDD@BDDDDDDDBDDDDDDDDDDDDBBD': 1,\n",
       "         '@@?DDDDDHFHGGIIIJIIIFHIEHIIIGHCFCHIIEFHIBE@GHIIIIFJIFIIBABCB8;?BDCCCDCCB??@A9B@BDDDDBDD<@D<BD??BDABA': 1,\n",
       "         'CCCFFFFFHGHHHIJJJJJIJJJJJ?GGIIIIJIIGHGFGIJJJJJJJHHGIIHGHFFFFDDD@BBDDABCCDD>>??ADBDDDBDDDDDDB?B>BBBBD': 1,\n",
       "         '@C@FFFFFHHHHHJJJJJJJJJIIGIIHFHIIJJJJJJHIJJJJJJGIJJJJJJJJJIIIJJJH@HFHHGAEEFF?DDEDCCCDDDDDCD>A>CDD@@CC': 1,\n",
       "         'CCCFFFFFHHHDHIIIJJJJJJJJIJIJGIJJJJIIIGHJJJJJJJGGJJJJJBHIJJJIIIEHIIBHGGHCDDECEFEEEEEDCCCCDDCDDDEDCDDD': 1,\n",
       "         '@@@AFFBDFHHHHIGIDDGFDCFGABCEFHGIIG@FFGHGFEGECGE0BBFHHFFAFHHGDECHIIIIGHGEHHGACCEFFFFDACDDB9;@CD>@CCCD': 1,\n",
       "         '?<@DDDBD?FHDAGCFH;FBHHEGIEI??DHC1:BF<C>FGCGH@HGIIGGCHEIBHCACBCFGCF=@5@A;)7AE=>C3?B@D9A26>C;;@C@?@@<<': 1,\n",
       "         \"@<?ADDADA=DHGEHGGJGEHGDHHIHHI0B@GIEIJJF*?B?C@)=@CGGIEI>ABBC?;;?>6>>',09@(+4(+44@BAA?A><9>B?<<8)28>>B\": 1,\n",
       "         'CCCFFFFFHHHHGJJGIBHIIJGIJJJJGHIFIIJEIJIDGFCDGHFHGHIIIIBHHIJJHCFIJJIIIGIIHFH=?@DFECD>CDCDE>CCDCDD?CDD': 1,\n",
       "         '@@@FDDFDHGHHFGEGHICHGIJJAHHIGEHHIGGGGGIIJGHGGI?GEGIGIIFJIJHGIGGGIGIIIGIIJG??EEEFFB@CEDEEEDDDCACC@A@C': 1,\n",
       "         '@@@FFFDF?DHHFHDGHEGEHIIJJ<HG>HGGIIA<F.;DGEFBE>A@CC@ACC9?-5:@@C@B?55@>A@909@9<ADDDD@@BDD8>9?9@#######': 1,\n",
       "         \"@<@BDDFFBBDHABFHIBIIIIIFHGIIGFGHIEIIIGEGGHHG@B<DGGE;3BDCG:=BHGGI2@GADGA>))==@DE</,',(555(:>3>@9925<A\": 1,\n",
       "         'C@CFDFFFHHHHGHGFHFHFHIIJJJIHGIJJGGHIJIJIIIEIJJIIIIJFIIIJJIIGIJJGHHHHFFFFDDBDCDCDDDEEDBCC>=B<BBCDBBBD': 1,\n",
       "         '@C@FFFFFFFHHHIIGIFHIBFHFGII>FEHCHIGHGGHGIJIIJIIJIHECAGEHEGCGGFCHB;BA>>B?C;A;ABBDDDDCE>CD@>5@55<@59?8': 1,\n",
       "         'CCCFFFFDDDHHHIJIJEGGEIIIJFHHFHIIJIFIJGJJHGIJIIIGIJGHGIGIIIIGHIDEIJHAEDFD::>ACCBBDDDDDCDCDEEEDCCDDDDB': 1,\n",
       "         '@C@FFFDFHHFHHJIIHIGIIIJJJJJB@GHIJJJJIIIIIJGIJJJGHIGIJHGGIIGHHIJJJIIJIAEDFFEDCEEDDBDDDDDDC;@DDD@CCDB<': 1,\n",
       "         'BBCF=BDDHHHHHJJJIJJJJJJIIEHIFHEHIJIJFIIJGIH?D?DGIJ5BBEHCECBBDDEEEE@CABBDDCC@BDD7@BDCCBBBDDDDBDDCCDBC': 1,\n",
       "         '@@@FBDD@FFFHFIGIIJIJIJJIJGIIJDDGHHGHIJIIGEF9BDFHHG;B:>EEAED@DDCECC3@5?A?CCCCBDDDD@BCC?ADDDDDDB<>A>@C': 1,\n",
       "         'CC@FFFDFGHGHHJFIIJGIEHCFHII1?@FHIIIJHGGIIJJ=BCGDHHHIIIIH7AB5?DDDDDDDDBBDCCCDDDDD?CC?CDDBDDD3>CCBA@CD': 1,\n",
       "         '@@=DDFFF<@FCFHGIJIJIJJJJJJIIJHIJJGIJJJIIGJJIHIHAHHHFFD9;>CCDDDDDDD@CCD>C@BDACCDDDDD<@B?CDDBDDDBDDDDD': 1,\n",
       "         '@@;DDABDBDBHDBGHIDIII9CF>D>FDHHEHCFDFE?F*?BHIIIGHEIEGHHII@(8@FHA7=@E:DEHC977..;>A9;@6;>>C>>3?B######': 1,\n",
       "         'CCCFFFFFFFHHHJIJIIJJJJJIIIJFHIIJJIJJJJJGJIGHIIJGGHHIJIJJJJJJJJIIIJJIJJJJJFHEHHFFFEFEEEEDDBDDDDDDDCDD': 1,\n",
       "         '@@@FAFFAFADFHIIIFIDGIFIIIIIHHGGFGHIGIGIIE@DE?GG?FGIDEGIDIIIDIIIIGEIIIIIIGGCEEEF@BD3;;CCEDBDBBB=>3:@C': 1,\n",
       "         '@CCFFFFFBDDFFHIIIJGHIGHIIJJCHCHHHIIGEFGIIHFHIHIIGAFHJJJJJIIICDGGAEHCGE>@CE>AEAEBEDDCEECEDD;BBBB@CDCC': 1,\n",
       "         '@@@FFFFFFHGDBGHJJJAEIEFHIIIIGGFHEFGG1???C@G0@@BBGHGII@GCDGE7?7A=B@@CDE?>AD/;ACAABBBBDDD@>CD?CACDDDC@': 1,\n",
       "         '?B@FF<ADDFHHHJIIJIIIJGGIIJHGGJ?FHEHGGIJJJJIIBFHEHIG-9=@CEEED@??BCCB?ACDBBCACCDDBDDD2?ABDB9>BBB?AC@@<': 1,\n",
       "         '@@@DDDDDDH<BFBEHGGIIIEI<+=CAFG?HEEIEHIHGGGIIGIGHGEHEGBFBGFBBDDB7=>CE@@3=??E?C?DEEEEEA@AA############': 1,\n",
       "         'CCCFFFFFHHHHHJJJIJIGIIIIJJFHIEGIFHCGHGIHIJGII@HIIJDBFGJJJJIAGGIIJ=CEHIGHHHF?DDDEFFEEEEEEEDDDDDDDDCDD': 1,\n",
       "         '<@@DADDBADFDHJGIGHGCHHGEIIGII@HE9F?GGGCHGGGHIGHHGGFGII=DFGGF=FHGGFFEHII>EHEHHEDEDFFDD>@AE>CDCDBDCC?C': 1,\n",
       "         \"??@DDADDFD:?F<FB'36;?;?CCCDEC:@B9?@C833>C@ACC>A8@CB<<8A3::>?@05;7A@CCC@?<<1998(++22<CAC#############\": 1,\n",
       "         '@CCFFFFFHHHHHIGIGGIIJJJJJGIGHGFFCGGIGIIGGJJJJJJIIJJIIJIGGHEDFHI@FGI@C=CCHHEEFFFFFEEEFEEEEDDBDDDDDDBB': 1,\n",
       "         'CCCFFFFFHHHHHJJJJJJIJIGJJJJIJJJJHHHIJJIJIJIJIJJJJJJIIJJJJJJJHI=HDHIIGEHGHHHCEEFFFFEDCEDEEE(=CCDBCDDD': 1,\n",
       "         '@?@DBFDDFFHFHJJIJIGHIAGGIIGFGGGIEHGJIIJIHIIIEGGEFHIICHIJJGIIGHGGIJIIEHGIGDA?EECBBDEACCEDDDDCC;CDDACC': 1,\n",
       "         '@C@BDDFFHFFHHJBHIGHIGFFHIIJI?FFHHGGII?D?FEHIIJJIJJIJIHEHHFFDCBDDDBC<ABDDC(8>ABC<ABB<ADDDCBCCDBDDA>>?': 1,\n",
       "         '@@@FDFEFHHHHHJJJIIJJJJJIGGFGIJJIJJIIGGIJJJJHGCGGGIEHHHJIJHJJJGEHDHEEIJGIIEHHGHFFE?AAEEEC=CCCDDCCCDCD': 1,\n",
       "         '@BCFDFFFHHHHFIJJJIJJJGIIIIGHGGIJIIGHJGIIIJJJBGIHIIIHHEIIIJJJJJIJJDHJJGJIGEHEHHFFFFDEEEEDDCC5>CCDEDDD': 1,\n",
       "         '@C@FFFDDHFFHFFHAFGGHEEHIGIF<FGDGEGHIIIGIGHIIIJ?GHIIIIGFEGCGGIJJIJIJFHHGIJIGA?EHF;@BCE;@CCAACC@>CDCDC': 1,\n",
       "         '@@@FFFFFHHHHFHIIJIHIJJIIJJIEIIJJIIJIJEHGFGIIJJJGIIIHBFFHIIIIIICICHIIJJ>EHHHHHHFFFFEEEC@CBCDCDDDDDACD': 1,\n",
       "         'C@BFFFFFHHGDFHHHGGIGHIIJJIJHIDHJIIIHIJIIGIGIIJIIJIIGHHIIIGGHGAGFIHGGIIJHHHHHFHFFFDCEEA>?A?CACCCD@CCC': 1,\n",
       "         '@@CDFBFFHGHHHJAGGHGGIIIIJIGBFADGGIGIJIJIGGIIIJJJJJHCEFEFFFDDDDDDCCDDDDDDCDDCBDDDDDBBBBBCC@A#########': 1,\n",
       "         '@@CFFFFFHHHAFHI@GBHIHIIGGGE?DGGI<GGIIGHDGHIIGICHIFHHHHFDEBCECCECCCCCCC@@CACBBAB#####################': 1,\n",
       "         '@@CFFDFFHHFGFJJGHIICHEHGJJIEGIIJJJJJJJJJJJJJIGGJJJIJJJIHHGHIJJJIHIIJJHGHHHGHFFFFFFCDDDCBDDDDDD@CCCDC': 1,\n",
       "         'C@CFFFFFHHHHGHGGHIFIIJJJHJJJIGIIJIIIIIIJIJJJJJEBGIJJJJJGGJBFEFGHIJEGEEEHGECBDFFFFEEEDDDDDC=BBDDBB>AD': 1})"
      ]
     },
     "execution_count": 69,
     "metadata": {},
     "output_type": "execute_result"
    }
   ],
   "source": [
    "collections.Counter(qual)"
   ]
  },
  {
   "cell_type": "markdown",
   "id": "b9e365dd-8583-4e4f-9808-dcbd395bc1a1",
   "metadata": {
    "jp-MarkdownHeadingCollapsed": true,
    "tags": []
   },
   "source": [
    "#### Create a Bar chart depicting the number of times a quality score is present in the file"
   ]
  },
  {
   "cell_type": "code",
   "execution_count": 3,
   "id": "6b893351-c653-4859-aed1-507506c6f608",
   "metadata": {},
   "outputs": [],
   "source": [
    "# Creating function to find the number of times a quality score was found in our file\n",
    "def create_hist_value(qualities):\n",
    "    hist = [0]*50    # The highest score observed was 41. 50 was taken just in case\n",
    "    for qual in qualities:\n",
    "        for phred in qual:\n",
    "            hist[phred33toQ(phred)] += 1\n",
    "    return(hist)"
   ]
  },
  {
   "cell_type": "code",
   "execution_count": 21,
   "id": "2c2b9a8d-28cf-47a4-b983-f3e33f63774d",
   "metadata": {
    "tags": []
   },
   "outputs": [],
   "source": [
    "# Creating function to plot the values from create_hist_value\n",
    "def create_bar(hist_value):\n",
    "    import matplotlib.pyplot as plt\n",
    "    plt.bar(range(len(hist_value)) , hist_value)\n",
    "    plt.show()"
   ]
  },
  {
   "cell_type": "code",
   "execution_count": 22,
   "id": "261b693e-c92f-459b-8fd4-89e5b67d3a8d",
   "metadata": {},
   "outputs": [
    {
     "data": {
      "image/png": "[encoded data removed]",
      "text/plain": [
       "<Figure size 432x288 with 1 Axes>"
      ]
     },
     "metadata": {
      "needs_background": "light"
     },
     "output_type": "display_data"
    }
   ],
   "source": [
    "%matplotlib inline\n",
    "histogram_array = create_hist_value(qual)\n",
    "create_bar(histogram_array)"
   ]
  },
  {
   "cell_type": "markdown",
   "id": "86e6895c-b930-45a9-82c9-d931c38b9330",
   "metadata": {
    "jp-MarkdownHeadingCollapsed": true,
    "tags": []
   },
   "source": [
    "#### Create a bar chart depicting the quality change of the sequence"
   ]
  },
  {
   "cell_type": "code",
   "execution_count": 39,
   "id": "d2f9617b-e8ac-479e-a0c9-1bf8189c3922",
   "metadata": {},
   "outputs": [],
   "source": [
    "# Creating function to get quality per base over all 1000 sequences\n",
    "def qualperbase(quality):\n",
    "    base = [0]*100\n",
    "    for seq in quality:\n",
    "        for i in range(100):\n",
    "            base[i] += phred33toQ(seq[i])/1000\n",
    "    return(base)"
   ]
  },
  {
   "cell_type": "code",
   "execution_count": 40,
   "id": "78ce81c3-d98e-498d-b651-305a62cd2352",
   "metadata": {
    "tags": []
   },
   "outputs": [],
   "source": [
    "# Creating function to create bar chart\n",
    "def qualperbase_chart(qual_array):\n",
    "    import matplotlib.pyplot as plt\n",
    "    plt.bar(range(100) , qual_array)\n",
    "    plt.show()"
   ]
  },
  {
   "cell_type": "code",
   "execution_count": 41,
   "id": "99783683-04f4-4dae-84d5-41e7e5afb017",
   "metadata": {},
   "outputs": [
    {
     "data": {
      "image/png": "[encoded data removed]",
      "text/plain": [
       "<Figure size 432x288 with 1 Axes>"
      ]
     },
     "metadata": {
      "needs_background": "light"
     },
     "output_type": "display_data"
    }
   ],
   "source": [
    "seq , qual = readFastq('SRR835775_1.first1000.fastq')\n",
    "qualperbase_array = qualperbase(qual)\n",
    "qualperbase_chart(qualperbase_array)"
   ]
  },
  {
   "cell_type": "markdown",
   "id": "f81a9e1c-c203-42e4-add3-00dd741fd013",
   "metadata": {
    "jp-MarkdownHeadingCollapsed": true,
    "tags": []
   },
   "source": [
    "### 5. Practical: Analyzing reads by position"
   ]
  },
  {
   "cell_type": "markdown",
   "id": "76637846-8b46-47ca-8728-1916eb2785b3",
   "metadata": {},
   "source": [
    "#### Finding the GC content per position of the reads"
   ]
  },
  {
   "cell_type": "code",
   "execution_count": 70,
   "id": "093b3f2c-d678-4c50-8005-052b65de7698",
   "metadata": {},
   "outputs": [],
   "source": [
    "# Creating function to find GC\n",
    "def findGCbyPos(read_list):\n",
    "    GC = [0]*100   # Length of the sequence is 100\n",
    "    base = [0]*100 # Length of the sequence is 100\n",
    "    for read in read_list:\n",
    "        for i in range(100):\n",
    "            if read[i] == 'G' or read[i] == 'C':\n",
    "                GC[i] += 1\n",
    "            base[i] += 1\n",
    "    for j in range(100):   # Dividing the GC content with the total number of bases in that position to get avg\n",
    "        GC[j] = GC[j]/base[j]\n",
    "    return(GC)"
   ]
  },
  {
   "cell_type": "code",
   "execution_count": 67,
   "id": "2e9a2fe4-f58b-4e44-93bb-b6c95a766ee9",
   "metadata": {},
   "outputs": [],
   "source": [
    "# Create bar chart representing GC\n",
    "def GC_chart(GC_by_pos):\n",
    "    import matplotlib.pyplot as plt\n",
    "    plt.plot(range(100) , GC_by_pos)\n",
    "    plt.show()"
   ]
  },
  {
   "cell_type": "code",
   "execution_count": 68,
   "id": "85008313-18a1-4993-b599-53fb13c5416b",
   "metadata": {},
   "outputs": [],
   "source": [
    "seq , qual = readFastq('SRR835775_1.first1000.fastq')"
   ]
  },
  {
   "cell_type": "code",
   "execution_count": 69,
   "id": "20f97635-8bfa-4e7b-9998-478443085ca0",
   "metadata": {},
   "outputs": [
    {
     "data": {
      "image/png": "[encoded data removed]",
      "text/plain": [
       "<Figure size 432x288 with 1 Axes>"
      ]
     },
     "metadata": {
      "needs_background": "light"
     },
     "output_type": "display_data"
    }
   ],
   "source": [
    "GC = findGCbyPos(seq)\n",
    "GC_chart(GC)"
   ]
  },
  {
   "cell_type": "markdown",
   "id": "5a39a1f2-1720-476b-ae1d-599db1683fb6",
   "metadata": {
    "jp-MarkdownHeadingCollapsed": true,
    "tags": []
   },
   "source": [
    "### 6. Practical: Matching artificial reads"
   ]
  },
  {
   "cell_type": "code",
   "execution_count": 27,
   "id": "f05f2cb3-6330-430c-bd76-d9d1220ae369",
   "metadata": {},
   "outputs": [],
   "source": [
    "# Create function to match artificial reads\n",
    "def naive(pattern , text):\n",
    "    match_offset = []   # Empty list to add all the positions which have exact match\n",
    "    \n",
    "    for i in range(0 , len(text) - len(pattern) + 1):   # Outer loop for looping though text\n",
    "        match = True\n",
    "        for j in range(len(pattern)):   # Inner loop for looping through pattern and comparing to text\n",
    "            if pattern[j] != text[i + j]:\n",
    "                match = False\n",
    "                break\n",
    "        if match:\n",
    "            match_offset.append(i)\n",
    "    return(match_offset)\n",
    "                "
   ]
  },
  {
   "cell_type": "code",
   "execution_count": 79,
   "id": "4a2b1aa7-d098-4ba2-88cb-67e9a32bbcf4",
   "metadata": {},
   "outputs": [
    {
     "name": "stdout",
     "output_type": "stream",
     "text": [
      "[0, 5, 9]\n"
     ]
    }
   ],
   "source": [
    "# Testing the function\n",
    "t = 'AGCTTAGATAGC'\n",
    "p = 'AG'\n",
    "print(naive(p , t))"
   ]
  },
  {
   "cell_type": "code",
   "execution_count": 73,
   "id": "af30105a-5e71-4e50-9169-88403a10d129",
   "metadata": {},
   "outputs": [],
   "source": [
    "genome = read_genome('phix.fa')"
   ]
  },
  {
   "cell_type": "code",
   "execution_count": 80,
   "id": "9564540a-ce9e-4fe3-a6c0-9699ada588e9",
   "metadata": {},
   "outputs": [],
   "source": [
    "import random\n",
    "def generateReads(genome, numReads, readLen):\n",
    "    ''' Generate reads from random positions in the given genome. '''\n",
    "    reads = []\n",
    "    for _ in range(numReads):\n",
    "        start = random.randint(0, len(genome)-readLen) - 1\n",
    "        reads.append(genome[start : start+readLen])\n",
    "    return reads"
   ]
  },
  {
   "cell_type": "code",
   "execution_count": 81,
   "id": "3c43abcb-a3c7-409d-a167-64b383a2a85d",
   "metadata": {},
   "outputs": [
    {
     "name": "stdout",
     "output_type": "stream",
     "text": [
      "100 / 100 reads matched the genome exactly!\n"
     ]
    }
   ],
   "source": [
    "# Generate 100 reads of length 100\n",
    "reads = generateReads(genome, 100, 100)\n",
    "\n",
    "# Count how many reads match the genome exactly\n",
    "numMatched = 0\n",
    "for r in reads:\n",
    "    matches = naive(r, genome)\n",
    "    if len(matches) > 0:\n",
    "        numMatched += 1\n",
    "print('%d / %d reads matched the genome exactly!' % (numMatched, len(reads)))"
   ]
  },
  {
   "cell_type": "markdown",
   "id": "76bd02b2-eb18-4141-bedd-9dd3e3dd5ff9",
   "metadata": {
    "jp-MarkdownHeadingCollapsed": true,
    "tags": []
   },
   "source": [
    "### 7. Practical: Matching real reads"
   ]
  },
  {
   "cell_type": "code",
   "execution_count": 11,
   "id": "c7e3b7ac-5d7c-44df-9b0c-8b635f773cdf",
   "metadata": {},
   "outputs": [],
   "source": [
    "# Reading the fastq file\n",
    "fastq,_ = readFastq('ERR037900_1.first1000.fastq')\n",
    "\n",
    "# Reading the genome file\n",
    "genome = read_genome('phix.fa')"
   ]
  },
  {
   "cell_type": "code",
   "execution_count": 38,
   "id": "c4abd836-c9f3-48e2-877c-eea6d12f443c",
   "metadata": {
    "tags": []
   },
   "outputs": [],
   "source": [
    "# Creating function to match reads\n",
    "def real_match(genome , fastq):\n",
    "    total_reads = len(fastq)\n",
    "    final_reads = 0\n",
    "    \n",
    "    for line in fastq:\n",
    "        line = line[:30] # Condition to increase the number of matches since some bases might have mutated\n",
    "        \n",
    "        for i in range(len(genome) - len(line) + 1):\n",
    "            for j in range(len(line)):\n",
    "                match = True\n",
    "                if line[j] != genome[i + j]:\n",
    "                    match = False\n",
    "                    break\n",
    "            if match == True:\n",
    "                final_reads += 1\n",
    "                break\n",
    "        \n",
    "        line = reverse_complement(line) # This condition takes into account that the reads can occur from both of \n",
    "                                        # double stranded DNA. Therefore, reverse complement of the read is taken  \n",
    "        for i in range(len(genome) - len(line) + 1):\n",
    "            for j in range(len(line)):\n",
    "                match = True\n",
    "                if line[j] != genome[i + j]:\n",
    "                    match = False\n",
    "                    break\n",
    "            if match == True:\n",
    "                final_reads += 1\n",
    "                break\n",
    "        \n",
    "    print('%d/%d reads match the genome perfectly' %(final_reads , total_reads))"
   ]
  },
  {
   "cell_type": "code",
   "execution_count": 37,
   "id": "5fdfe49d-4242-42ea-9ea7-76692e10dee9",
   "metadata": {},
   "outputs": [
    {
     "name": "stdout",
     "output_type": "stream",
     "text": [
      "0/1000 reads match the genome perfectly\n"
     ]
    }
   ],
   "source": [
    "real_match(genome , fastq)"
   ]
  },
  {
   "cell_type": "code",
   "execution_count": 34,
   "id": "e5ef3fda-f80b-4e1b-a585-d41bca5ec8e6",
   "metadata": {},
   "outputs": [
    {
     "name": "stdout",
     "output_type": "stream",
     "text": [
      "0 / 1000 reads matched the genome exactly!\n"
     ]
    }
   ],
   "source": [
    "numMatched = 0\n",
    "for r in fastq:\n",
    "    r = r[:30]\n",
    "    matches = naive(r, genome)\n",
    "    if len(matches) > 0:\n",
    "        numMatched += 1\n",
    "print('%d / %d reads matched the genome exactly!' % (numMatched, len(fastq)))"
   ]
  },
  {
   "cell_type": "code",
   "execution_count": null,
   "id": "6a87045d-151b-4f82-b23a-b2ab402071d8",
   "metadata": {},
   "outputs": [],
   "source": []
  }
 ],
 "metadata": {
  "kernelspec": {
   "display_name": "Python 3",
   "language": "python",
   "name": "python3"
  },
  "language_info": {
   "codemirror_mode": {
    "name": "ipython",
    "version": 3
   },
   "file_extension": ".py",
   "mimetype": "text/x-python",
   "name": "python",
   "nbconvert_exporter": "python",
   "pygments_lexer": "ipython3",
   "version": "3.8.8"
  }
 },
 "nbformat": 4,
 "nbformat_minor": 5
}
